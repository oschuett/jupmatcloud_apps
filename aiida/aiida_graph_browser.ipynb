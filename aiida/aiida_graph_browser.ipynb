{
 "cells": [
  {
   "cell_type": "markdown",
   "metadata": {},
   "source": [
    "# Browse AiiDA Provenance Graph"
   ]
  },
  {
   "cell_type": "code",
   "execution_count": null,
   "metadata": {
    "collapsed": true
   },
   "outputs": [],
   "source": [
    "from __future__ import print_function\n",
    "\n",
    "from aiida import load_dbenv, is_dbenv_loaded\n",
    "from aiida.backends import settings\n",
    "if not is_dbenv_loaded():\n",
    "    load_dbenv(profile=settings.AIIDADB_PROFILE)\n",
    "\n",
    "from aiida.orm.data.folder import FolderData\n",
    "from aiida.orm import load_node \n",
    "\n",
    "import ipywidgets as ipw\n",
    "from IPython.display import display, clear_output\n",
    "import nglview\n",
    "\n",
    "import urlparse\n",
    "from collections import OrderedDict\n",
    "from pprint import pformat"
   ]
  },
  {
   "cell_type": "code",
   "execution_count": null,
   "metadata": {
    "collapsed": true
   },
   "outputs": [],
   "source": [
    "class StackEntry(ipw.VBox):\n",
    "    def close(self):\n",
    "        self.inp_links.close()\n",
    "        self.html.close()\n",
    "        super(StackEntry, self).close()\n",
    "        \n",
    "    def on_change(self, c):  \n",
    "        # remove all entries below me\n",
    "        myidx = self.stack_list.children.index(self)\n",
    "        nentries = len(self.stack_list.children)\n",
    "        for i in range(nentries-1, myidx, -1):\n",
    "            self.stack_list.children[i].close()\n",
    "        self.stack_list.children = self.stack_list.children[:myidx+1]\n",
    "        \n",
    "        # find next node\n",
    "        if self.inp_links.value == None:\n",
    "            return\n",
    "        next_node = self.inp_links.value\n",
    "        \n",
    "        # add a new entry to the stack\n",
    "        new_entry = StackEntry(self.stack_list, next_node)\n",
    "        self.stack_list.children += (new_entry,)\n",
    "\n",
    "        \n",
    "    def __init__(self, stack_list, node):\n",
    "        self.node = node\n",
    "        self.stack_list = stack_list\n",
    "        self.links = OrderedDict()\n",
    "        self.links[\"Select a link\"] = None\n",
    "        for i, kv in enumerate(node.get_inputs(also_labels=True)):\n",
    "            self.links[\"in:%s [%d]\"%(kv[0],i)] = kv[1]\n",
    "        \n",
    "        self.links[50*\"-\"] = None\n",
    "        for i, kv in enumerate(node.get_outputs(also_labels=True)):\n",
    "            self.links[\"out:%s [%d]\"%(kv[0],i)] = kv[1]\n",
    "        self.inp_links = ipw.Dropdown(options=self.links)\n",
    "        \n",
    "        self.inp_links.observe(self.on_change, \"value\")\n",
    "        output = \"<ul>\" #<h4>\"+html.escape(repr(self.node))+\"</h4><br>\"\n",
    "        pre_tag = '<pre style=\"width:600px; max-height:250px; overflow-x:auto; line-height:1em; font-size:0.8em;\">'   \n",
    "        output += \"<li><b>class:</b> \"+self.node.__class__.__name__+\"</li>\"\n",
    "        output += \"<li><b>pk:</b> \"+str(self.node.pk)+\"</li>\"\n",
    "        output += \"<li><b>uuid:</b> \"+self.node.uuid+\"</li>\"\n",
    "        output += \"<li><b>ctime:</b> \"+str(self.node.ctime)+\"</li>\"\n",
    "        output += \"<li><b>mtime:</b> \"+str(self.node.mtime)+\"</li>\"\n",
    "        output += \"<li><b>label:</b> \"+self.node.label+\"</li>\"\n",
    "        output += \"<li><b>description:</b> \"+self.node.description+\"</li>\"\n",
    "        output += \"<li><b>Attributes:</b>\"+pre_tag+pformat(self.node.get_attrs())+\"</pre></li>\"\n",
    "        output += \"<li><b>Extras:</b>\"+pre_tag+pformat(self.node.get_extras())+\"</pre></li>\"\n",
    "        output += \"<li><b>Comments:</b>\"+pre_tag+pformat(self.node.get_comments())+\"</pre></li>\"\n",
    "        if isinstance(self.node, FolderData):\n",
    "            relpath = self.node.folder.abspath.replace(\"/project/\", \"\")\n",
    "            folderlist = sorted(self.node.get_folder_list())\n",
    "            output += \"<li><b>Folder List:</b>\"+pre_tag+pformat(folderlist)+\"</pre></li>\"\n",
    "            output += \"<a target='_blank' href='../../../tree/%s/path'>Browser Folder</a><br>\"%relpath\n",
    "        output += \"<li><b>Links:</b>\"\n",
    "        output += \"</ul>\"\n",
    "        \n",
    "        self.html = ipw.HTML(output)\n",
    "        self.border = '2px solid black'\n",
    "        self.margin=\"20px 0 20px 0\"\n",
    "        super(StackEntry, self).__init__([self.html, self.inp_links,])"
   ]
  },
  {
   "cell_type": "code",
   "execution_count": null,
   "metadata": {
    "collapsed": true
   },
   "outputs": [],
   "source": [
    "def on_submit(b):\n",
    "    global stack_list\n",
    "    with output:\n",
    "        clear_output()\n",
    "        node = load_node(int(inp_pk.value))\n",
    "        for c in stack_list.children:\n",
    "            c.close()\n",
    "        first_entry = StackEntry(stack_list, node)\n",
    "        stack_list.children = [first_entry]\n",
    "\n",
    "btn_sub = ipw.Button(description=\"Load\")\n",
    "inp_pk = ipw.Text(description=\"Node PK: \")\n",
    "inp_pk.on_submit(on_submit)\n",
    "btn_sub.on_click(on_submit)\n",
    "output = ipw.Output()\n",
    "\n",
    "display(inp_pk, btn_sub, output)"
   ]
  },
  {
   "cell_type": "code",
   "execution_count": null,
   "metadata": {
    "collapsed": true
   },
   "outputs": [],
   "source": [
    "stack_list = ipw.VBox()\n",
    "display(stack_list)"
   ]
  },
  {
   "cell_type": "code",
   "execution_count": null,
   "metadata": {
    "collapsed": true
   },
   "outputs": [],
   "source": [
    "# parse URL\n",
    "url = urlparse.urlsplit(jupyter_notebook_url)\n",
    "querypart = urlparse.parse_qs(url.query)\n",
    "if 'pk' in querypart.keys():\n",
    "    inp_pk.value = querypart['pk'][0]\n",
    "    on_submit(None)"
   ]
  }
 ],
 "metadata": {
  "kernelspec": {
   "display_name": "Python 2",
   "language": "python",
   "name": "python2"
  },
  "language_info": {
   "codemirror_mode": {
    "name": "ipython",
    "version": 2
   },
   "file_extension": ".py",
   "mimetype": "text/x-python",
   "name": "python",
   "nbconvert_exporter": "python",
   "pygments_lexer": "ipython2",
   "version": "2.7.13"
  }
 },
 "nbformat": 4,
 "nbformat_minor": 2
}
