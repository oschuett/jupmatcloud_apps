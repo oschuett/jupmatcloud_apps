{
 "cells": [
  {
   "cell_type": "markdown",
   "metadata": {},
   "source": [
    "# AiiDA Status"
   ]
  },
  {
   "cell_type": "code",
   "execution_count": null,
   "metadata": {
    "scrolled": false
   },
   "outputs": [],
   "source": [
    "from __future__ import print_function\n",
    "\n",
    "from IPython.display import display, clear_output\n",
    "import ipywidgets as ipw\n",
    "import threading\n",
    "import time\n",
    "import subprocess"
   ]
  },
  {
   "cell_type": "code",
   "execution_count": null,
   "metadata": {},
   "outputs": [],
   "source": [
    "def on_restart(b):\n",
    "    with restart_out:\n",
    "        clear_output()\n",
    "        ! verdi daemon stop\n",
    "        ! verdi daemon start\n",
    "        ! sleep 1\n",
    "        clear_output()\n",
    "\n",
    "restart_out = ipw.Output()\n",
    "btn_restart = ipw.Button(description=\"Restart Daemon\")\n",
    "btn_restart.on_click(on_restart)\n",
    "display(btn_restart,restart_out)"
   ]
  },
  {
   "cell_type": "code",
   "execution_count": null,
   "metadata": {
    "scrolled": false
   },
   "outputs": [],
   "source": [
    "allstates_check = ipw.Checkbox(description=\"Show all states\", value=False)\n",
    "daemonlog_check = ipw.Checkbox(description=\"Show daemon log\", value=False)\n",
    "\n",
    "countdown = ipw.IntProgress(value=0, max=9, description=\"update in\")\n",
    "display(ipw.HBox([countdown, allstates_check, daemonlog_check]))\n",
    "\n",
    "info_out = ipw.Output()\n",
    "info_out.layout.border =\"2px solid black\"\n",
    "display(info_out)\n",
    "\n",
    "def update_status():\n",
    "    while(True):\n",
    "        with info_out:\n",
    "            clear_output()\n",
    "            ! date\n",
    "            print(\"\\nverdi daemon status\")\n",
    "            ! verdi daemon status\n",
    "            cmd = \"\\nverdi calculation list --past-days 1\"\n",
    "            if allstates_check.value:\n",
    "                cmd += \" --all-states\"\n",
    "            print(cmd)\n",
    "            ! $cmd\n",
    "            \n",
    "            if daemonlog_check.value:\n",
    "                print(\"\\ngrep -i error aiida_daemon.log\")\n",
    "                ! tail -c 1000000 ~/.aiida/daemon/log/aiida_daemon.log | grep -i error\n",
    "\n",
    "        for i in reversed(range(10)):\n",
    "            countdown.value = i\n",
    "            time.sleep(1)"
   ]
  },
  {
   "cell_type": "code",
   "execution_count": null,
   "metadata": {
    "scrolled": false
   },
   "outputs": [],
   "source": [
    "# start after everything is setup otherwise widgets might endup in wrong output\n",
    "threading.Thread(target=update_status).start()"
   ]
  }
 ],
 "metadata": {
  "kernelspec": {
   "display_name": "Python 2",
   "language": "python",
   "name": "python2"
  },
  "language_info": {
   "codemirror_mode": {
    "name": "ipython",
    "version": 2
   },
   "file_extension": ".py",
   "mimetype": "text/x-python",
   "name": "python",
   "nbconvert_exporter": "python",
   "pygments_lexer": "ipython2",
   "version": "2.7.13"
  }
 },
 "nbformat": 4,
 "nbformat_minor": 2
}
