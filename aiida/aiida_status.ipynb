{
 "cells": [
  {
   "cell_type": "markdown",
   "metadata": {},
   "source": [
    "# AiiDA Status"
   ]
  },
  {
   "cell_type": "code",
   "execution_count": null,
   "metadata": {
    "collapsed": true
   },
   "outputs": [],
   "source": [
    "from __future__ import print_function\n",
    "\n",
    "from IPython.display import display, clear_output\n",
    "import ipywidgets as ipw\n",
    "import threading\n",
    "import time\n",
    "import subprocess"
   ]
  },
  {
   "cell_type": "code",
   "execution_count": null,
   "metadata": {},
   "outputs": [],
   "source": [
    "countdown = ipw.IntProgress(value=0, max=9, description=\"update in\")\n",
    "info_box = ipw.Output()\n",
    "info_box.layout.border =\"2px solid black\"\n",
    "display(ipw.VBox([countdown,info_box]))\n",
    "\n",
    "def update_status():\n",
    "    while(True):\n",
    "        info_box.clear_output()\n",
    "        with info_box:\n",
    "            ! date\n",
    "            print(\"\\nverdi daemon status\")\n",
    "            ! verdi daemon status\n",
    "            print(\"\\nverdi calculation list --all-states --past-days 1\")\n",
    "            ! verdi calculation list --all-states --past-days 1\n",
    "\n",
    "        for i in reversed(range(10)):\n",
    "            countdown.value = i\n",
    "            time.sleep(1)\n",
    "\n",
    "threading.Thread(target=update_status).start()"
   ]
  },
  {
   "cell_type": "code",
   "execution_count": null,
   "metadata": {},
   "outputs": [],
   "source": [
    "def on_restart(b):\n",
    "    with restart_out:\n",
    "        clear_output()\n",
    "        ! verdi daemon stop\n",
    "        ! verdi daemon start\n",
    "\n",
    "restart_out = ipw.Output()\n",
    "btn_restart = ipw.Button(description=\"Restart Daemon\")\n",
    "btn_restart.on_click(on_restart)\n",
    "display(ipw.VBox([btn_restart,restart_out]))"
   ]
  }
 ],
 "metadata": {
  "kernelspec": {
   "display_name": "Python 2",
   "language": "python",
   "name": "python2"
  },
  "language_info": {
   "codemirror_mode": {
    "name": "ipython",
    "version": 2
   },
   "file_extension": ".py",
   "mimetype": "text/x-python",
   "name": "python",
   "nbconvert_exporter": "python",
   "pygments_lexer": "ipython2",
   "version": "2.7.13"
  }
 },
 "nbformat": 4,
 "nbformat_minor": 2
}
