{
 "cells": [
  {
   "cell_type": "markdown",
   "metadata": {},
   "source": [
    "# AiiDA Status"
   ]
  },
  {
   "cell_type": "code",
   "execution_count": null,
   "metadata": {
    "collapsed": true
   },
   "outputs": [],
   "source": [
    "from __future__ import print_function\n",
    "\n",
    "from IPython.display import display, clear_output\n",
    "import ipywidgets as widgets\n",
    "import threading\n",
    "import time\n",
    "import subprocess"
   ]
  },
  {
   "cell_type": "code",
   "execution_count": null,
   "metadata": {
    "collapsed": false
   },
   "outputs": [],
   "source": [
    "countdown = widgets.IntProgress(value=0, max=9, description=\"update in\")\n",
    "info_box = widgets.HTML()\n",
    "display(widgets.VBox([countdown,info_box]))\n",
    "\n",
    "def update_status():\n",
    "    while(True):\n",
    "        output = subprocess.check_output(\"date\")\n",
    "        cmd = \"verdi daemon status\"\n",
    "        output += \"\\n> \"+cmd+\"\\n\" \n",
    "        output += subprocess.check_output(cmd.split())\n",
    "        cmd = \"verdi calculation list --all-states --past-days 1\"\n",
    "        output += \"\\n> \"+cmd+\"\\n\" \n",
    "        output += subprocess.check_output(cmd.split())\n",
    "        info_box.value = \"<pre>\"+output.strip()+\"</pre>\"\n",
    "        for i in reversed(range(10)):\n",
    "            countdown.value = i\n",
    "            time.sleep(1)\n",
    "\n",
    "threading.Thread(target=update_status).start()"
   ]
  },
  {
   "cell_type": "code",
   "execution_count": null,
   "metadata": {
    "collapsed": false
   },
   "outputs": [],
   "source": [
    "def on_restart(b):\n",
    "    clear_output()\n",
    "    ! verdi daemon stop\n",
    "    ! verdi daemon start\n",
    "\n",
    "btn_restart = widgets.Button(description=\"Restart Daemon\")\n",
    "btn_restart.on_click(on_restart)\n",
    "display(btn_restart)"
   ]
  }
 ],
 "metadata": {
  "kernelspec": {
   "display_name": "Python 2",
   "language": "python",
   "name": "python2"
  },
  "language_info": {
   "codemirror_mode": {
    "name": "ipython",
    "version": 2
   },
   "file_extension": ".py",
   "mimetype": "text/x-python",
   "name": "python",
   "nbconvert_exporter": "python",
   "pygments_lexer": "ipython2",
   "version": "2.7.13"
  }
 },
 "nbformat": 4,
 "nbformat_minor": 2
}
