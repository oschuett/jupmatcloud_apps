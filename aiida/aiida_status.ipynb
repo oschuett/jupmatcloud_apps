{
 "cells": [
  {
   "cell_type": "markdown",
   "metadata": {},
   "source": [
    "# AiiDA Status"
   ]
  },
  {
   "cell_type": "code",
   "execution_count": null,
   "metadata": {
    "scrolled": false
   },
   "outputs": [],
   "source": [
    "from __future__ import print_function\n",
    "\n",
    "from IPython.display import display, clear_output\n",
    "import ipywidgets as ipw\n",
    "import threading\n",
    "import time\n",
    "import subprocess"
   ]
  },
  {
   "cell_type": "code",
   "execution_count": null,
   "metadata": {
    "scrolled": false
   },
   "outputs": [],
   "source": [
    "countdown = ipw.IntProgress(value=0, max=9, description=\"update in\")\n",
    "info_out = ipw.Output()\n",
    "info_out.layout.border =\"2px solid black\"\n",
    "display(countdown, info_out)\n",
    "\n",
    "def update_status():\n",
    "    while(True):\n",
    "        with info_out:\n",
    "            clear_output()\n",
    "            ! date\n",
    "            print(\"\\nverdi daemon status\")\n",
    "            ! verdi daemon status\n",
    "            print(\"\\nverdi calculation list --all-states --past-days 1\")\n",
    "            ! verdi calculation list --all-states --past-days 1\n",
    "\n",
    "        for i in reversed(range(10)):\n",
    "            countdown.value = i\n",
    "            time.sleep(1)"
   ]
  },
  {
   "cell_type": "code",
   "execution_count": null,
   "metadata": {
    "scrolled": false
   },
   "outputs": [],
   "source": [
    "def on_restart(b):\n",
    "    with restart_out:\n",
    "        clear_output()\n",
    "        ! verdi daemon stop\n",
    "        ! verdi daemon start\n",
    "\n",
    "restart_out = ipw.Output()\n",
    "btn_restart = ipw.Button(description=\"Restart Daemon\")\n",
    "btn_restart.on_click(on_restart)\n",
    "display(btn_restart,restart_out)"
   ]
  },
  {
   "cell_type": "code",
   "execution_count": null,
   "metadata": {
    "scrolled": false
   },
   "outputs": [],
   "source": [
    "# start after everything is setup otherwise widgets might endup in wrong output\n",
    "threading.Thread(target=update_status).start()"
   ]
  }
 ],
 "metadata": {
  "kernelspec": {
   "display_name": "Python 2",
   "language": "python",
   "name": "python2"
  },
  "language_info": {
   "codemirror_mode": {
    "name": "ipython",
    "version": 2
   },
   "file_extension": ".py",
   "mimetype": "text/x-python",
   "name": "python",
   "nbconvert_exporter": "python",
   "pygments_lexer": "ipython2",
   "version": "2.7.13"
  }
 },
 "nbformat": 4,
 "nbformat_minor": 2
}
