{
 "cells": [
  {
   "cell_type": "markdown",
   "metadata": {},
   "source": [
    "# Browse Workflows"
   ]
  },
  {
   "cell_type": "code",
   "execution_count": null,
   "metadata": {
    "scrolled": false
   },
   "outputs": [],
   "source": [
    "from aiida import load_dbenv, is_dbenv_loaded\n",
    "from aiida.backends import settings\n",
    "if not is_dbenv_loaded():\n",
    "    load_dbenv(profile=settings.AIIDADB_PROFILE)\n",
    "    \n",
    "from aiida.orm.querybuilder import QueryBuilder\n",
    "from aiida.orm.calculation.work import WorkCalculation\n",
    "from aiida.work.run import run, async, submit\n",
    "from aiida.common.links import LinkType\n",
    "\n",
    "import ipywidgets as ipw\n",
    "import datetime\n",
    "from pprint import pprint\n",
    "from base64 import b64decode\n",
    "from collections import OrderedDict\n",
    "from IPython.display import display, clear_output, Image\n",
    "\n",
    "# needed for resubmission\n",
    "from apps.surfaces.nanoribbon.nanoribbonwork import NanoribbonWorkChain\n",
    "from apps.surfaces.slab.slabwork import SlabGeoOptWorkChain"
   ]
  },
  {
   "cell_type": "code",
   "execution_count": null,
   "metadata": {
    "scrolled": false
   },
   "outputs": [],
   "source": [
    "# preprocessing\n",
    "qb = QueryBuilder()\n",
    "qb.append(WorkCalculation, filters={'extras': {'!has_key': 'resubmitted'}})\n",
    "for n in qb.all():\n",
    "    n[0].set_extra('resubmitted', False)"
   ]
  },
  {
   "cell_type": "code",
   "execution_count": null,
   "metadata": {
    "scrolled": false
   },
   "outputs": [],
   "source": [
    "def on_search_change(c):\n",
    "    update_search()\n",
    "\n",
    "age_range = ipw.IntRangeSlider(\n",
    "                value=[0, 7],\n",
    "                min=0,\n",
    "                max=100,\n",
    "                step=1,\n",
    "                description='age in days:',\n",
    "                layout=ipw.Layout(width=\"900px\"))\n",
    "age_range.observe(on_search_change, names='value')\n",
    "\n",
    "state_select = ipw.RadioButtons(options=['new', 'succeed', 'failed', 'resubmitted', 'all'], description='State:')\n",
    "state_select.observe(on_search_change, names='value')\n",
    "\n",
    "display(age_range, state_select)"
   ]
  },
  {
   "cell_type": "code",
   "execution_count": null,
   "metadata": {
    "scrolled": false
   },
   "outputs": [],
   "source": [
    "def update_search():\n",
    "    wf_select.options = {\"Searching...\": False}\n",
    "    \n",
    "    min_age = datetime.datetime.now() - datetime.timedelta(days=age_range.value[0])\n",
    "    max_age = datetime.datetime.now() - datetime.timedelta(days=age_range.value[1])\n",
    "\n",
    "    filters = {}\n",
    "    filters['ctime'] = {'and':[{'<=': min_age},{'>': max_age}]}\n",
    "    filters['attributes'] = {'!has_key': 'source_code'} # exclude workfunctions\n",
    "    \n",
    "    if state_select.value == 'new':\n",
    "        filters['extras'] = {'!has_key': 'preprocess_successful'}\n",
    "\n",
    "    elif state_select.value == 'succeed':\n",
    "        filters['extras.preprocess_successful'] = True\n",
    "\n",
    "    elif state_select.value == 'failed':\n",
    "        filters['extras.preprocess_successful'] = False\n",
    "        filters['extras.resubmitted'] = False\n",
    "\n",
    "    elif state_select.value == r'resubmitted':\n",
    "        filters['extras.resubmitted'] = True\n",
    "\n",
    "    else:\n",
    "        assert state_select.value == 'all'\n",
    "    \n",
    "    qb = QueryBuilder()\n",
    "    qb.append(WorkCalculation, filters=filters)\n",
    "    qb.order_by({WorkCalculation:{'ctime':'desc'}})\n",
    "\n",
    "    options = OrderedDict()\n",
    "    for n in qb.iterall():\n",
    "        n = n[0]\n",
    "        ctime = n.ctime.strftime(\"%Y-%m-%d %H:%M\")\n",
    "        nsteps = len(n.get_outputs())\n",
    "        label = \"PK %d; %s; %s; steps: %d\" %(n.pk, ctime, n.get_attr(\"_process_label\"), nsteps)\n",
    "        if \"structure\" in n.get_inputs_dict():\n",
    "            s = n.inp.structure\n",
    "            label += \"   structure: PK: %s %s\"%(s.pk, s.description)\n",
    "        options[label] = n\n",
    "    wf_select.options = options\n",
    "    wf_select.value = options.values()[0] if options else None"
   ]
  },
  {
   "cell_type": "code",
   "execution_count": null,
   "metadata": {
    "scrolled": false
   },
   "outputs": [],
   "source": [
    "def on_wf_changed(c):\n",
    "    update_wf()\n",
    "\n",
    "wf_select = ipw.Select(layout=ipw.Layout(height=\"300px\", width=\"900px\"))\n",
    "wf_select.observe(on_wf_changed, names='value')\n",
    "display(wf_select)"
   ]
  },
  {
   "cell_type": "code",
   "execution_count": null,
   "metadata": {
    "scrolled": false
   },
   "outputs": [],
   "source": [
    "def on_kill_clicked(b):\n",
    "    kill_wf(wf_select.value)\n",
    "\n",
    "def on_resub_clicked(b):\n",
    "    resubmit_wf(wf_select.value)\n",
    "    update_search()\n",
    "\n",
    "def on_toggle_resubstate_clicked(b):\n",
    "    state = wf_select.value.get_extra('resubmitted')\n",
    "    wf_select.value.set_extra('resubmitted', not state)\n",
    "    update_search()\n",
    "\n",
    "def on_refresh_clicked(b):\n",
    "    update_search()\n",
    "\n",
    "btn_kill = ipw.Button(description=\"Kill Workflow\")\n",
    "btn_kill.on_click(on_kill_clicked)\n",
    "\n",
    "btn_resub = ipw.Button(description=\"Resubmit Workflow\")\n",
    "btn_resub.on_click(on_resub_clicked)\n",
    "\n",
    "btn_toggleresub = ipw.Button(description=\"Toggle resubmitted\")\n",
    "btn_toggleresub.on_click(on_toggle_resubstate_clicked)\n",
    "\n",
    "refresh_btn = ipw.Button(description=\"Refresh\")\n",
    "refresh_btn.on_click(on_refresh_clicked)\n",
    "\n",
    "btn_box = ipw.HBox([btn_kill, btn_resub, btn_toggleresub, refresh_btn])\n",
    "display(btn_box)"
   ]
  },
  {
   "cell_type": "code",
   "execution_count": null,
   "metadata": {},
   "outputs": [],
   "source": [
    "progress = ipw.IntProgress(description=\"Loading...\", max=100)\n",
    "display(progress)"
   ]
  },
  {
   "cell_type": "code",
   "execution_count": null,
   "metadata": {
    "scrolled": false
   },
   "outputs": [],
   "source": [
    "wf_out = ipw.Output(layout=ipw.Layout(border=\"2px solid black\"))\n",
    "display(wf_out)"
   ]
  },
  {
   "cell_type": "code",
   "execution_count": null,
   "metadata": {
    "scrolled": false
   },
   "outputs": [],
   "source": [
    "def update_wf():\n",
    "    with wf_out:\n",
    "        clear_output()\n",
    "        btn_box.layout.display = 'none' # hide buttons\n",
    "            \n",
    "        node = wf_select.value\n",
    "        if not node:\n",
    "            print(\"no selection\")\n",
    "            return\n",
    "\n",
    "        progress.value = 1\n",
    "        progress.layout.display = None # show progress bar\n",
    "        \n",
    "        print(\"NODE:\")\n",
    "        print(\"  PK: %s\"%node.pk)\n",
    "        print(\"  Class: %s\"%node.get_attr('_process_label'))\n",
    "\n",
    "        if \"thumbnail\" in node.get_extras():\n",
    "            print(\"\\n\\nSTRUCTURE:\")\n",
    "            display(Image(data=b64decode(node.get_extra(\"thumbnail\"))))\n",
    "        progress.value = 5\n",
    "                \n",
    "        print(\"\\n\\nINPUTS:\")\n",
    "        for k, v in node.get_inputs_dict().items():\n",
    "            print(\"  %s: %s\"%(k,v))\n",
    "        \n",
    "        print(\"\\n\\nEXTRAS:\")\n",
    "        for k, v in node.get_extras().items():\n",
    "            if k != \"thumbnail\":\n",
    "                print(\"  %s: %s\"%(k,v))\n",
    "        progress.value = 10\n",
    "        \n",
    "        print(\"\\n\\nREPORT:\")\n",
    "        ! verdi work report $node.pk\n",
    "        progress.value = 40\n",
    "        \n",
    "        print(\"\\n\\nTREE:\")\n",
    "        ! verdi work tree --node-label label $node.pk\n",
    "        progress.value = 70\n",
    "        \n",
    "        print(\"\\n\\nSTATE:\")\n",
    "        ! verdi work tree --node-label state $node.pk\n",
    "        progress.value = 100\n",
    "        progress.layout.display = 'none' # hide progress bar\n",
    "        \n",
    "        # enable buttons if applicable\n",
    "        failed = not node.get_extra(\"preprocess_successful\") if \"preprocess_successful\" in node.get_extras() else False\n",
    "        btn_toggleresub.disabled = not failed\n",
    "        btn_resub.disabled = not failed\n",
    "        btn_kill.disabled = node.is_sealed\n",
    "        btn_box.layout.display = None # show buttons"
   ]
  },
  {
   "cell_type": "code",
   "execution_count": null,
   "metadata": {
    "scrolled": false
   },
   "outputs": [],
   "source": [
    "def kill_wf(wf):\n",
    "    if not wf.is_sealed:\n",
    "        wf._set_attr('_aborted', True)\n",
    "\n",
    "    for child in wf.get_outputs(link_type=LinkType.CALL):\n",
    "        if not child.has_finished():\n",
    "            print(\"Killing: PK=%d\"%child.pk)\n",
    "            child.kill()"
   ]
  },
  {
   "cell_type": "code",
   "execution_count": null,
   "metadata": {
    "scrolled": false
   },
   "outputs": [],
   "source": [
    "def resubmit_wf(wf):\n",
    "    wfclass = eval(wf.get_attr('_process_label')) # requires prev import of class\n",
    "    wfinps = wf.get_inputs_dict()\n",
    "    \n",
    "    outputs = submit(wfclass, **wfinps)\n",
    "    print(outputs) \n",
    "    wf.set_extra('resubmitted', True)"
   ]
  },
  {
   "cell_type": "code",
   "execution_count": null,
   "metadata": {
    "scrolled": false
   },
   "outputs": [],
   "source": [
    "update_search()"
   ]
  }
 ],
 "metadata": {
  "kernelspec": {
   "display_name": "Python 2",
   "language": "python",
   "name": "python2"
  },
  "language_info": {
   "codemirror_mode": {
    "name": "ipython",
    "version": 2
   },
   "file_extension": ".py",
   "mimetype": "text/x-python",
   "name": "python",
   "nbconvert_exporter": "python",
   "pygments_lexer": "ipython2",
   "version": "2.7.13"
  }
 },
 "nbformat": 4,
 "nbformat_minor": 2
}
