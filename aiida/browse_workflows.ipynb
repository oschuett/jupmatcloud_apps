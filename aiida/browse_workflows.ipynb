{
 "cells": [
  {
   "cell_type": "markdown",
   "metadata": {},
   "source": [
    "# Browse Workflows"
   ]
  },
  {
   "cell_type": "code",
   "execution_count": null,
   "metadata": {},
   "outputs": [],
   "source": [
    "from aiida import load_dbenv, is_dbenv_loaded\n",
    "from aiida.backends import settings\n",
    "if not is_dbenv_loaded():\n",
    "    load_dbenv(profile=settings.AIIDADB_PROFILE)\n",
    "    \n",
    "from aiida.orm.querybuilder import QueryBuilder\n",
    "from aiida.orm.calculation.work import WorkCalculation\n",
    "\n",
    "import ipywidgets as ipw\n",
    "import datetime\n",
    "from pprint import pprint\n",
    "from collections import OrderedDict\n",
    "from IPython.display import display, clear_output"
   ]
  },
  {
   "cell_type": "code",
   "execution_count": null,
   "metadata": {},
   "outputs": [],
   "source": [
    "age_range = ipw.IntRangeSlider(\n",
    "                value=[0, 7],\n",
    "                min=0,\n",
    "                max=100,\n",
    "                step=1,\n",
    "                description='age in days:',\n",
    "                layout=ipw.Layout(width=\"900px\"))\n",
    "\n",
    "def on_age_change(c):\n",
    "    update_search()\n",
    "\n",
    "age_range.observe(on_age_change, names='value')\n",
    "display(age_range)"
   ]
  },
  {
   "cell_type": "code",
   "execution_count": null,
   "metadata": {},
   "outputs": [],
   "source": [
    "def update_search():\n",
    "    min_age = datetime.datetime.now() - datetime.timedelta(days=age_range.value[0])\n",
    "    max_age = datetime.datetime.now() - datetime.timedelta(days=age_range.value[1])\n",
    "\n",
    "    qb = QueryBuilder()\n",
    "    qb.append(WorkCalculation, filters={\n",
    "                                        'ctime':{'and':[{'<=': min_age},{'>': max_age}]},\n",
    "                                        'attributes': {'!has_key': 'source_code'}\n",
    "              })\n",
    "    qb.order_by({WorkCalculation:{'ctime':'desc'}})\n",
    "\n",
    "    options = OrderedDict()\n",
    "    for n in qb.iterall():\n",
    "        n = n[0]\n",
    "        ctime = n.ctime.strftime(\"%Y-%m-%d %H:%M\")\n",
    "        nsteps = len(n.get_outputs())\n",
    "        label = \"PK %d; %s; %s; steps: %d\" %(n.pk, ctime, n.get_attr(\"_process_label\"), nsteps)\n",
    "        if \"structure\" in n.get_inputs_dict():\n",
    "            s = n.inp.structure\n",
    "            label += \"   structure: PK: %s %s\"%(s.pk, s.description)\n",
    "        options[label] = n\n",
    "    wf_select.options = options"
   ]
  },
  {
   "cell_type": "code",
   "execution_count": null,
   "metadata": {},
   "outputs": [],
   "source": [
    "def on_wf_changed(c):\n",
    "    update_wf()\n",
    "\n",
    "wf_out = ipw.Output(layout=ipw.Layout(border=\"2px solid black\"))\n",
    "wf_select = ipw.Select(layout=ipw.Layout(height=\"300px\", width=\"900px\"))\n",
    "wf_select.observe(on_wf_changed, names='value')\n",
    "display(wf_select, wf_out)"
   ]
  },
  {
   "cell_type": "code",
   "execution_count": null,
   "metadata": {},
   "outputs": [],
   "source": [
    "def update_wf():\n",
    "    with wf_out:\n",
    "        clear_output()\n",
    "        node = wf_select.value\n",
    "        if not node:\n",
    "            print(\"no selection\")\n",
    "            return\n",
    "\n",
    "        print(\"NODE:\")\n",
    "        print(repr(node))\n",
    "        \n",
    "        print(\"\\n\\nINPUTS:\")\n",
    "        pprint(node.get_inputs_dict())\n",
    "        \n",
    "        print(\"\\n\\nREPORT:\")\n",
    "        ! verdi work report $node.pk\n",
    "        \n",
    "        print(\"\\n\\nTREE:\")\n",
    "        ! verdi work tree $node.pk\n",
    "        \n",
    "        print(\"\\n\\nSTATE:\")\n",
    "        ! verdi work tree --node-label state $node.pk"
   ]
  },
  {
   "cell_type": "code",
   "execution_count": null,
   "metadata": {},
   "outputs": [],
   "source": [
    "update_search()"
   ]
  }
 ],
 "metadata": {
  "kernelspec": {
   "display_name": "Python 2",
   "language": "python",
   "name": "python2"
  },
  "language_info": {
   "codemirror_mode": {
    "name": "ipython",
    "version": 2
   },
   "file_extension": ".py",
   "mimetype": "text/x-python",
   "name": "python",
   "nbconvert_exporter": "python",
   "pygments_lexer": "ipython2",
   "version": "2.7.13"
  }
 },
 "nbformat": 4,
 "nbformat_minor": 2
}
