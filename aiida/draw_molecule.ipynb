{
 "cells": [
  {
   "cell_type": "markdown",
   "metadata": {},
   "source": [
    "# Draw a Molecule"
   ]
  },
  {
   "cell_type": "code",
   "execution_count": null,
   "metadata": {
    "collapsed": true
   },
   "outputs": [],
   "source": [
    "from __future__ import print_function\n",
    "\n",
    "from aiida import load_dbenv, is_dbenv_loaded\n",
    "from aiida.backends import settings\n",
    "if not is_dbenv_loaded():\n",
    "    load_dbenv(profile=settings.AIIDADB_PROFILE)\n",
    "\n",
    "from aiida.orm.data.structure import StructureData\n",
    "\n",
    "import numpy as np\n",
    "from numpy.linalg import norm\n",
    "import scipy.stats\n",
    "\n",
    "import ipywidgets as ipw\n",
    "from IPython.display import display, clear_output\n",
    "import nglview\n",
    "import StringIO\n",
    "from tempfile import NamedTemporaryFile\n",
    "\n",
    "import ase.io\n",
    "from molview_ipywidget import MolViewWidget"
   ]
  },
  {
   "cell_type": "markdown",
   "metadata": {},
   "source": [
    "## Step 1: Draw Molecule"
   ]
  },
  {
   "cell_type": "code",
   "execution_count": null,
   "metadata": {
    "collapsed": true
   },
   "outputs": [],
   "source": [
    "molview = MolViewWidget()\n",
    "\n",
    "def on_mol_change(c):\n",
    "    global atoms\n",
    "    with mol_out:\n",
    "        clear_output()\n",
    "        tmp = NamedTemporaryFile(suffix=\".mol\")\n",
    "        f = open(tmp.name, \"w\")\n",
    "        f.write(molview.value)\n",
    "        f.close()\n",
    "        atoms = ase.io.read(tmp.name)\n",
    "        tmp.close()\n",
    "        fix_scale(atoms)\n",
    "        atoms.center(vacuum=inp_vac.value)\n",
    "        atoms.pbc = (True,True,True)\n",
    "        update_view()\n",
    "\n",
    "mol_out = ipw.Output()\n",
    "molview.observe(on_mol_change, names='value')\n",
    "display(molview, mol_out)"
   ]
  },
  {
   "cell_type": "code",
   "execution_count": null,
   "metadata": {
    "collapsed": true
   },
   "outputs": [],
   "source": [
    "def fix_scale(atoms):\n",
    "    # set bounding box as cell\n",
    "    cx = 1.5 * (np.amax(atoms.positions[:,0]) - np.amin(atoms.positions[:,0]))\n",
    "    cy = 1.5 * (np.amax(atoms.positions[:,1]) - np.amin(atoms.positions[:,1]))\n",
    "    cz = 1.5 * (np.amax(atoms.positions[:,2]) - np.amin(atoms.positions[:,2]))\n",
    "    atoms.cell = (cx, cy, cz)\n",
    "    atoms.pbc = (True,True,True)\n",
    "    \n",
    "    # calculate all distances between C atoms\n",
    "    c_atoms = [i for i, s in enumerate(atoms.get_chemical_symbols()) if s==\"C\"]\n",
    "    n = len(c_atoms)\n",
    "    if n<2:\n",
    "        raise Exception(\"Can not determine scale without C-C bonds.\")\n",
    "    dists = np.zeros([n,n])\n",
    "    for i in range(n):\n",
    "        for j in range(n):\n",
    "            dists[i,j] = norm(atoms[c_atoms[i]].position - atoms[c_atoms[j]].position)\n",
    "            \n",
    "    # find bond distances to closest neighbor\n",
    "    dists += np.diag([np.inf]*n) # don't consider diagonal\n",
    "    bonds = np.amin(dists, axis=1)\n",
    "    print(bonds)\n",
    "    # average bond distance\n",
    "    avg_bond = float(scipy.stats.mode(bonds)[0])\n",
    "    \n",
    "    # scale box to match equilibrium carbon-carbon bond distance\n",
    "    cc_eq = 1.4313333333\n",
    "    s = cc_eq / avg_bond\n",
    "    print(\"Scaled positions by: %f\"%s)\n",
    "    atoms.set_cell([s*cx, s*cy, cz], scale_atoms=True)\n",
    "    atoms.center()"
   ]
  },
  {
   "cell_type": "code",
   "execution_count": null,
   "metadata": {
    "collapsed": true
   },
   "outputs": [],
   "source": [
    "def update_view():\n",
    "    global atoms\n",
    "    viewer.remove_unitcell()\n",
    "    if hasattr(viewer, \"component_0\"):\n",
    "        viewer.component_0.remove_ball_and_stick()\n",
    "        viewer.component_0.remove_unitcell()\n",
    "        cid = viewer.component_0.id\n",
    "        viewer.remove_component(cid)\n",
    "    viewer.add_component(nglview.ASEStructure(atoms)) # adds ball+stick\n",
    "    viewer.add_unitcell()\n",
    "    viewer.center_view()\n",
    "       \n",
    "    tmp = StringIO.StringIO()\n",
    "    atoms.write(tmp, format=\"xyz\")\n",
    "    coords.value = \"<pre>\"+tmp.getvalue()+\"</pre>\"\n",
    "    tmp.close()\n",
    "    \n",
    "viewer = nglview.NGLWidget()\n",
    "coords = ipw.HTML()\n",
    "display(ipw.VBox([viewer, coords]))"
   ]
  },
  {
   "cell_type": "markdown",
   "metadata": {},
   "source": [
    "## Step 2: Define Cell"
   ]
  },
  {
   "cell_type": "code",
   "execution_count": null,
   "metadata": {
    "collapsed": true
   },
   "outputs": [],
   "source": [
    "def on_vac_change(c):\n",
    "    global atoms\n",
    "    atoms.center(vacuum=inp_vac.value)\n",
    "    atoms.pbc = (True,True,True)\n",
    "    update_view()\n",
    "\n",
    "inp_vac = ipw.FloatSlider(value=2.5, min=0.1, max=10.0, continuous_update=False)\n",
    "lab_vac = ipw.Label(u'Vacuum [Å]:')\n",
    "inp_vac.observe(on_vac_change, \"value\")\n",
    "display(ipw.HBox([lab_vac, inp_vac]))"
   ]
  },
  {
   "cell_type": "markdown",
   "metadata": {},
   "source": [
    "## Step 3: Store in AiiDA Database"
   ]
  },
  {
   "cell_type": "code",
   "execution_count": null,
   "metadata": {
    "collapsed": true
   },
   "outputs": [],
   "source": [
    "def on_click_store(b):\n",
    "    global atoms\n",
    "    with store_out:\n",
    "        clear_output()\n",
    "        s = StructureData(ase=atoms)\n",
    "        s.description = inp_descr.value\n",
    "        s.store()\n",
    "        print(\"Stored in AiiDA: \"+repr(s))\n",
    "\n",
    "store_out = ipw.Output()\n",
    "inp_descr = ipw.Text(placeholder=\"Description (optional)\")\n",
    "btn_store = ipw.Button(description='Store in AiiDA')\n",
    "btn_store.on_click(on_click_store)\n",
    "display(ipw.HBox([btn_store, inp_descr]), store_out)"
   ]
  }
 ],
 "metadata": {
  "kernelspec": {
   "display_name": "Python 2",
   "language": "python",
   "name": "python2"
  },
  "language_info": {
   "codemirror_mode": {
    "name": "ipython",
    "version": 2
   },
   "file_extension": ".py",
   "mimetype": "text/x-python",
   "name": "python",
   "nbconvert_exporter": "python",
   "pygments_lexer": "ipython2",
   "version": "2.7.13"
  }
 },
 "nbformat": 4,
 "nbformat_minor": 2
}
