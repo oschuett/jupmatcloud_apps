{
 "cells": [
  {
   "cell_type": "markdown",
   "metadata": {},
   "source": [
    "# Import Molecule from ASE into AiiDA"
   ]
  },
  {
   "cell_type": "code",
   "execution_count": null,
   "metadata": {},
   "outputs": [],
   "source": [
    "from __future__ import print_function\n",
    "\n",
    "from aiida import load_dbenv, is_dbenv_loaded\n",
    "from aiida.backends import settings\n",
    "if not is_dbenv_loaded():\n",
    "    load_dbenv(profile=settings.AIIDADB_PROFILE)\n",
    "\n",
    "from aiida.orm.data.structure import StructureData\n",
    "\n",
    "import ase.build\n",
    "from ase.collections import g2\n",
    "\n",
    "import ipywidgets as ipw\n",
    "from IPython.display import display, clear_output\n",
    "import nglview\n",
    "import StringIO"
   ]
  },
  {
   "cell_type": "code",
   "execution_count": null,
   "metadata": {},
   "outputs": [],
   "source": [
    "viewer = nglview.NGLWidget()\n",
    "coords = ipw.HTML()\n",
    "display(ipw.VBox([viewer, coords]))"
   ]
  },
  {
   "cell_type": "code",
   "execution_count": null,
   "metadata": {},
   "outputs": [],
   "source": [
    "def update_view():\n",
    "    global atoms\n",
    "    if hasattr(viewer, \"component_0\"):\n",
    "        viewer.component_0.remove_ball_and_stick()\n",
    "        cid = viewer.component_0.id\n",
    "        viewer.remove_component(cid)\n",
    "\n",
    "    viewer.add_component(nglview.ASEStructure(atoms))\n",
    "    viewer.add_ball_and_stick()\n",
    "    viewer.add_unitcell()\n",
    "    viewer.center_view()\n",
    "       \n",
    "    tmp = StringIO.StringIO()\n",
    "    atoms.write(tmp, format=\"xyz\")\n",
    "    coords.value = \"<pre>\"+tmp.getvalue()+\"</pre>\"\n",
    "    tmp.close()"
   ]
  },
  {
   "cell_type": "markdown",
   "metadata": {},
   "source": [
    "## Step 1: Select Molecule"
   ]
  },
  {
   "cell_type": "code",
   "execution_count": null,
   "metadata": {},
   "outputs": [],
   "source": [
    "def on_mol_change(c):\n",
    "    global atoms\n",
    "    atoms = ase.build.molecule(inp_mol.value)\n",
    "    update_view()\n",
    "    \n",
    "inp_mol = ipw.Dropdown(options=g2.names, value=\"H2O\")\n",
    "inp_mol.observe(on_mol_change, names='value')\n",
    "display(inp_mol)\n",
    "on_mol_change(None)"
   ]
  },
  {
   "cell_type": "markdown",
   "metadata": {},
   "source": [
    "## Step 2: Define Cell"
   ]
  },
  {
   "cell_type": "code",
   "execution_count": null,
   "metadata": {},
   "outputs": [],
   "source": [
    "def on_click_vac(b):\n",
    "    global atoms\n",
    "    atoms.center(vacuum=inp_vac.value)\n",
    "    atoms.pbc = (True,True,True)\n",
    "    update_view()\n",
    "\n",
    "inp_vac = ipw.FloatText(value=2.5)\n",
    "lab_vac = ipw.Label(u'Vacuum [Å]:')\n",
    "btn_vac = ipw.Button(description=\"Add Vacuum\")\n",
    "btn_vac.on_click(on_click_vac)\n",
    "display(ipw.HBox([lab_vac, inp_vac, btn_vac]))"
   ]
  },
  {
   "cell_type": "markdown",
   "metadata": {},
   "source": [
    "## Step 3: Store in AiiDA Database"
   ]
  },
  {
   "cell_type": "code",
   "execution_count": null,
   "metadata": {},
   "outputs": [],
   "source": [
    "def on_click_store(b):\n",
    "    global atoms\n",
    "    clear_output()\n",
    "    s = StructureData(ase=atoms)\n",
    "    s.description = inp_descr.value\n",
    "    s.store()\n",
    "    print(\"Stored in AiiDA: \"+repr(s))\n",
    "    \n",
    "inp_descr = ipw.Text(placeholder=\"Description (optional)\")\n",
    "btn_store = ipw.Button(description='Store in AiiDA')\n",
    "btn_store.on_click(on_click_store)\n",
    "display(ipw.HBox([btn_store, inp_descr]))"
   ]
  }
 ],
 "metadata": {
  "kernelspec": {
   "display_name": "Python 2",
   "language": "python",
   "name": "python2"
  },
  "language_info": {
   "codemirror_mode": {
    "name": "ipython",
    "version": 2
   },
   "file_extension": ".py",
   "mimetype": "text/x-python",
   "name": "python",
   "nbconvert_exporter": "python",
   "pygments_lexer": "ipython2",
   "version": "2.7.12"
  }
 },
 "nbformat": 4,
 "nbformat_minor": 2
}
