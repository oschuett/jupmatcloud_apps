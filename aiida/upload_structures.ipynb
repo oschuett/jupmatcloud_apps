{
 "cells": [
  {
   "cell_type": "markdown",
   "metadata": {},
   "source": [
    "# Upload Structure into AiiDA"
   ]
  },
  {
   "cell_type": "code",
   "execution_count": null,
   "metadata": {
    "collapsed": false
   },
   "outputs": [],
   "source": [
    "from __future__ import print_function\n",
    "\n",
    "from aiida import load_dbenv, is_dbenv_loaded\n",
    "from aiida.backends import settings\n",
    "if not is_dbenv_loaded():\n",
    "    load_dbenv(profile=settings.AIIDADB_PROFILE)\n",
    "\n",
    "from aiida.orm.data.structure import StructureData\n",
    "\n",
    "import ase.io\n",
    "import ipywidgets as widgets\n",
    "from IPython.display import display, clear_output\n",
    "from fileupload import FileUploadWidget\n",
    "from tempfile import NamedTemporaryFile"
   ]
  },
  {
   "cell_type": "markdown",
   "metadata": {},
   "source": [
    "## Step 1: Upload file"
   ]
  },
  {
   "cell_type": "code",
   "execution_count": null,
   "metadata": {
    "collapsed": false
   },
   "outputs": [],
   "source": [
    "def on_file_upload(c):\n",
    "    clear_output()\n",
    "    global traj\n",
    "    tmp = NamedTemporaryFile(suffix=file_upload.filename)\n",
    "    f = open(tmp.name, \"w\")\n",
    "    f.write(file_upload.data)\n",
    "    f.close()\n",
    "    traj = ase.io.read(tmp.name, index=\":\")\n",
    "    tmp.close()\n",
    "    #update_view()\n",
    "    print(\"Found %d structures:\"%len(traj))\n",
    "    print(traj)\n",
    "    \n",
    "#TODO: FileUploadWidget doesn't fire event when same file is uploaded twice\n",
    "file_upload = FileUploadWidget(\"Upload Structure\")\n",
    "file_upload.observe(on_file_upload, names='data')\n",
    "\n",
    "display(file_upload)"
   ]
  },
  {
   "cell_type": "markdown",
   "metadata": {},
   "source": [
    "## Step 2: Store in AiiDA Database"
   ]
  },
  {
   "cell_type": "code",
   "execution_count": null,
   "metadata": {
    "collapsed": false
   },
   "outputs": [],
   "source": [
    "def on_click_store(b):\n",
    "    clear_output()\n",
    "    global traj\n",
    "    for atoms in traj:\n",
    "        s = StructureData(ase=atoms)\n",
    "        s.description = inp_descr.value\n",
    "        s.store()\n",
    "        print(\"Stored in AiiDA: \"+repr(s))\n",
    "\n",
    "inp_descr = widgets.Text(placeholder=\"Description (optional)\")   \n",
    "btn_store = widgets.Button(description='Store in AiiDA')\n",
    "btn_store.on_click(on_click_store)\n",
    "display(widgets.HBox([btn_store, inp_descr]))"
   ]
  }
 ],
 "metadata": {
  "kernelspec": {
   "display_name": "Python 2",
   "language": "python",
   "name": "python2"
  },
  "language_info": {
   "codemirror_mode": {
    "name": "ipython",
    "version": 2
   },
   "file_extension": ".py",
   "mimetype": "text/x-python",
   "name": "python",
   "nbconvert_exporter": "python",
   "pygments_lexer": "ipython2",
   "version": "2.7.13"
  }
 },
 "nbformat": 4,
 "nbformat_minor": 2
}
