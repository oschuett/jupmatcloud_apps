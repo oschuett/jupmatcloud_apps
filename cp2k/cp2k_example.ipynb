{
 "cells": [
  {
   "cell_type": "code",
   "execution_count": null,
   "metadata": {
    "collapsed": true
   },
   "outputs": [],
   "source": [
    "%matplotlib inline\n",
    "\n",
    "from aiida import load_dbenv, is_dbenv_loaded\n",
    "from aiida.backends import settings\n",
    "if not is_dbenv_loaded():\n",
    "    load_dbenv(profile=settings.AIIDADB_PROFILE)\n",
    "\n",
    "from aiida.orm.calculation.job.cp2k import Cp2kCalculation\n",
    "from aiida.orm.data.structure import StructureData\n",
    "from aiida.orm.data.parameter import ParameterData\n",
    "from aiida.orm.code import Code\n",
    "\n",
    "import ase.build\n",
    "import matplotlib.pyplot as plt"
   ]
  },
  {
   "cell_type": "code",
   "execution_count": null,
   "metadata": {
    "collapsed": true
   },
   "outputs": [],
   "source": [
    "params = {\n",
    "    \"FORCE_EVAL\": {\n",
    "        'METHOD': 'Quickstep',\n",
    "        'DFT': {\n",
    "            'BASIS_SET_FILE_NAME': 'BASIS_MOLOPT',\n",
    "            'QS': {\n",
    "                'EPS_DEFAULT': 1.0e-12,\n",
    "                'WF_INTERPOLATION': 'ps',\n",
    "                'EXTRAPOLATION_ORDER': 3,\n",
    "            },\n",
    "            'MGRID': {\n",
    "                'NGRIDS': 4,\n",
    "                'CUTOFF': 280,\n",
    "                'REL_CUTOFF': 30,\n",
    "            },\n",
    "            'XC': {\n",
    "                'XC_FUNCTIONAL': {\n",
    "                    '_': 'LDA',\n",
    "                },\n",
    "            },\n",
    "            'POISSON': {\n",
    "                'PERIODIC': 'none',\n",
    "                'PSOLVER': 'MT',\n",
    "            },\n",
    "        },\n",
    "        'SUBSYS': {\n",
    "            'KIND': [\n",
    "                {'_': 'O', 'BASIS_SET': 'DZVP-MOLOPT-SR-GTH', 'POTENTIAL': 'GTH-LDA-q6' },\n",
    "                {'_': 'H', 'BASIS_SET': 'DZVP-MOLOPT-SR-GTH', 'POTENTIAL': 'GTH-LDA-q1' },\n",
    "            ],\n",
    "        },\n",
    "    },\n",
    "}"
   ]
  },
  {
   "cell_type": "code",
   "execution_count": null,
   "metadata": {
    "collapsed": true
   },
   "outputs": [],
   "source": [
    "inputs = {}\n",
    "\n",
    "# code\n",
    "inputs['code'] = Code.get_from_string(\"cp2k@daint\")\n",
    "\n",
    "# structure\n",
    "atoms = ase.build.molecule('H2O')\n",
    "atoms.center(vacuum=2.0)\n",
    "inputs['structure'] = StructureData(ase=atoms)\n",
    "\n",
    "# parameters\n",
    "inputs['parameters'] = ParameterData(dict=params)\n",
    "\n",
    "# options\n",
    "inputs['_options'] = {\n",
    "       \"resources\": {\"num_machines\": 1},\n",
    "       \"max_wallclock_seconds\": 3 * 60, # 3 min\n",
    "}\n",
    " \n",
    "output = Cp2kCalculation.process().run(**inputs)"
   ]
  },
  {
   "cell_type": "code",
   "execution_count": null,
   "metadata": {},
   "outputs": [],
   "source": [
    "output['output_parameters'].get_attrs()"
   ]
  },
  {
   "cell_type": "code",
   "execution_count": null,
   "metadata": {},
   "outputs": [],
   "source": [
    "folder = output['retrieved'].folder.get_abs_path(\"path\")\n",
    "! ls $folder"
   ]
  },
  {
   "cell_type": "code",
   "execution_count": null,
   "metadata": {},
   "outputs": [],
   "source": [
    "! cat $folder/aiida.out"
   ]
  },
  {
   "cell_type": "code",
   "execution_count": null,
   "metadata": {},
   "outputs": [],
   "source": [
    "scf_lines = ! grep -e \"Diag.\" $folder/aiida.out\n",
    "scf_energies = [float(l.split()[5]) for l in scf_lines]\n",
    "plt.plot(scf_energies)"
   ]
  }
 ],
 "metadata": {
  "kernelspec": {
   "display_name": "Python 2",
   "language": "python",
   "name": "python2"
  },
  "language_info": {
   "codemirror_mode": {
    "name": "ipython",
    "version": 2
   },
   "file_extension": ".py",
   "mimetype": "text/x-python",
   "name": "python",
   "nbconvert_exporter": "python",
   "pygments_lexer": "ipython2",
   "version": "2.7.12"
  }
 },
 "nbformat": 4,
 "nbformat_minor": 2
}
