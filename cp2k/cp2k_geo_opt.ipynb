{
 "cells": [
  {
   "cell_type": "markdown",
   "metadata": {},
   "source": [
    "# Submit CP2K Geometry Optimization"
   ]
  },
  {
   "cell_type": "code",
   "execution_count": null,
   "metadata": {
    "collapsed": true
   },
   "outputs": [],
   "source": [
    "from aiida import load_dbenv, is_dbenv_loaded\n",
    "from aiida.backends import settings\n",
    "if not is_dbenv_loaded():\n",
    "    load_dbenv(profile=settings.AIIDADB_PROFILE)\n",
    "\n",
    "from aiida.orm.querybuilder import QueryBuilder\n",
    "from aiida.orm.data.structure import StructureData\n",
    "from aiida.orm.data.parameter import ParameterData\n",
    "from aiida.orm.code import Code\n",
    "from aiida.orm.calculation.job.cp2k import Cp2kCalculation\n",
    "from aiida.orm import load_node\n",
    "from aiida.work.workfunction import workfunction\n",
    "\n",
    "import ipywidgets as ipw\n",
    "from IPython.display import display, clear_output, HTML\n",
    "import nglview\n",
    "\n",
    "from collections import OrderedDict"
   ]
  },
  {
   "cell_type": "markdown",
   "metadata": {},
   "source": [
    "## Step 1: Select Energy Calculation from Database"
   ]
  },
  {
   "cell_type": "code",
   "execution_count": null,
   "metadata": {
    "collapsed": false
   },
   "outputs": [],
   "source": [
    "# query AiiDA database for energy calculations\n",
    "qb = QueryBuilder()\n",
    "qb.append(ParameterData, tag=\"params\", filters={'attributes.GLOBAL.RUN_TYPE':{'ilike':'energy'}})\n",
    "qb.append(Cp2kCalculation, tag=\"calc\", output_of=\"params\", project=[\"id\", \"description\"])\n",
    "qb.order_by({'calc': {'ctime': 'desc'}})\n",
    "#print qb.count()\n",
    "\n",
    "all_energy_calcs = OrderedDict()\n",
    "all_energy_calcs[\"Select a Calculation\"] = None\n",
    "for pk, descr in qb.iterall():\n",
    "    label = \"PK: %d\"%pk\n",
    "    if descr:\n",
    "        label += \"; descr: \"+descr\n",
    "    all_energy_calcs[label] = pk\n",
    "\n",
    "energy_calc = None\n",
    "def on_energy_calc_change(c):\n",
    "    global energy_calc\n",
    "    energy_calc = load_node(drop_energy_calc.value)\n",
    "\n",
    "drop_energy_calc = ipw.Dropdown(options=all_energy_calcs, value=None)\n",
    "drop_energy_calc.observe(on_energy_calc_change, names='value')\n",
    "display(drop_energy_calc)"
   ]
  },
  {
   "cell_type": "markdown",
   "metadata": {},
   "source": [
    "## Step 2: Choose parameters"
   ]
  },
  {
   "cell_type": "code",
   "execution_count": null,
   "metadata": {
    "collapsed": false
   },
   "outputs": [],
   "source": [
    "rows = []\n",
    "w = \"100px\"\n",
    "\n",
    "# inp_compname = ipw.Dropdown(options=get_computer_names())\n",
    "# rows.append(ipw.HBox([ipw.Label(\"Computer\", width=w), inp_compname]))\n",
    "\n",
    "# inp_xc = ipw.Dropdown(options=[\"LDA\", \"PBE\"])\n",
    "# rows.append(ipw.HBox([ipw.Label(\"XC Functional\", width=w), inp_xc]))\n",
    "\n",
    "# inp_basis = ipw.Dropdown(options=[\"SZV-MOLOPT-SR-GTH\", \"DZVP-MOLOPT-SR-GTH\"])\n",
    "# rows.append(ipw.HBox([ipw.Label(\"Basis Set\", width=w), inp_basis]))\n",
    "\n",
    "inp_descr = ipw.Text(placeholder=\"(optional)\")\n",
    "rows.append(ipw.HBox([ipw.Label(\"Description\", width=w), inp_descr]))\n",
    "\n",
    "display(ipw.VBox(rows))"
   ]
  },
  {
   "cell_type": "code",
   "execution_count": null,
   "metadata": {
    "collapsed": true
   },
   "outputs": [],
   "source": [
    "@workfunction\n",
    "def build_parameters(energy_params):\n",
    "    params = energy_params.get_attrs()\n",
    "    params['GLOBAL']['RUN_TYPE'] = \"geo_opt\"\n",
    "    return ParameterData(dict=params)"
   ]
  },
  {
   "cell_type": "code",
   "execution_count": null,
   "metadata": {
    "collapsed": true
   },
   "outputs": [],
   "source": [
    "def build_calc():\n",
    "    code = energy_calc.inp.code\n",
    "    energy_params = energy_calc.inp.parameters\n",
    "    structure = energy_calc.inp.structure\n",
    "\n",
    "    # calc object\n",
    "    calc = code.new_calc()\n",
    "    calc.description = inp_descr.value\n",
    "\n",
    "    # structure\n",
    "    calc.use_structure(structure)\n",
    "\n",
    "    # parameters\n",
    "    parameters = build_parameters(energy_params)\n",
    "    calc.use_parameters(parameters)\n",
    "\n",
    "    # resources\n",
    "    calc.set_max_wallclock_seconds(3*60) # 3 min\n",
    "    calc.set_resources({\"num_machines\": 1})\n",
    "    return calc"
   ]
  },
  {
   "cell_type": "markdown",
   "metadata": {},
   "source": [
    "## Step 3: Test submission"
   ]
  },
  {
   "cell_type": "code",
   "execution_count": null,
   "metadata": {
    "collapsed": false
   },
   "outputs": [],
   "source": [
    "def on_test(b):\n",
    "    clear_output()\n",
    "    if energy_calc is None:\n",
    "        print(\"Please select an energy calculation.\")\n",
    "        return\n",
    "    \n",
    "    calc = build_calc()\n",
    "    folder = calc.submit_test()[0]\n",
    "    fn = folder.get_abs_path(calc._INPUT_FILE_NAME)\n",
    "    content = open(fn).read()\n",
    "    pre_tag = '<pre style=\"width:600px; max-height:250px; overflow-x:auto; line-height:1em; font-size:0.8em;\">'   \n",
    "    box_preview.value = pre_tag+content+\"</pre>\"\n",
    "    # toggle visibility to workaround an apparent bug\n",
    "    box_preview.visible = not chk_preview.value\n",
    "    box_preview.visible = chk_preview.value\n",
    "    print(\"Test went fine :-)\")\n",
    "    \n",
    "btn_test = ipw.Button(description=\"Test\")\n",
    "btn_test.on_click(on_test)\n",
    "chk_preview = ipw.Checkbox(description='preview', value=False)\n",
    "box_preview = ipw.HTML()\n",
    "ipw.jslink((chk_preview, 'value'), (box_preview, 'visible'))\n",
    "display(ipw.VBox([ipw.HBox([btn_test, chk_preview]), box_preview]))"
   ]
  },
  {
   "cell_type": "markdown",
   "metadata": {},
   "source": [
    "## Step 4: Submit calculation"
   ]
  },
  {
   "cell_type": "code",
   "execution_count": null,
   "metadata": {
    "collapsed": true
   },
   "outputs": [],
   "source": [
    "def on_submit(b):\n",
    "    clear_output()\n",
    "    calc = build_calc()\n",
    "    # store and submit\n",
    "    calc.store_all()\n",
    "    calc.submit()\n",
    "    msg = \"Submitted calculation: UUID=%s, pk=%s .<br>\"%(calc.uuid,calc.dbnode.pk)\n",
    "    msg += 'Results can be viewed <a href=\"view_cp2k_calc.ipynb?pk=%d\">here</a>'%calc.dbnode.pk\n",
    "    display(HTML(msg))\n",
    "    \n",
    "btn_submit = ipw.Button(description=\"Submit\")\n",
    "btn_submit.on_click(on_submit)\n",
    "display(btn_submit)"
   ]
  }
 ],
 "metadata": {
  "kernelspec": {
   "display_name": "Python 2",
   "language": "python",
   "name": "python2"
  },
  "language_info": {
   "codemirror_mode": {
    "name": "ipython",
    "version": 2
   },
   "file_extension": ".py",
   "mimetype": "text/x-python",
   "name": "python",
   "nbconvert_exporter": "python",
   "pygments_lexer": "ipython2",
   "version": "2.7.13"
  }
 },
 "nbformat": 4,
 "nbformat_minor": 2
}
