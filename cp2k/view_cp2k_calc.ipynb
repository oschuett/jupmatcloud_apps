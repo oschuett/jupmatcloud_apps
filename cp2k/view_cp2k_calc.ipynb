{
 "cells": [
  {
   "cell_type": "markdown",
   "metadata": {},
   "source": [
    "# View CP2K Calculation Results"
   ]
  },
  {
   "cell_type": "code",
   "execution_count": null,
   "metadata": {
    "collapsed": true
   },
   "outputs": [],
   "source": [
    "from __future__ import print_function\n",
    "\n",
    "from aiida import load_dbenv, is_dbenv_loaded\n",
    "from aiida.backends import settings\n",
    "if not is_dbenv_loaded():\n",
    "    load_dbenv(profile=settings.AIIDADB_PROFILE)\n",
    "\n",
    "from aiida.orm.querybuilder import QueryBuilder\n",
    "from aiida.orm.data.structure import StructureData\n",
    "from aiida.orm.data.parameter import ParameterData\n",
    "from aiida.orm.calculation.job.cp2k import Cp2kCalculation\n",
    "from aiida.orm.code import Code\n",
    "\n",
    "from aiida.orm import load_node \n",
    "\n",
    "import ipywidgets as ipw\n",
    "from IPython.display import display, clear_output\n",
    "import nglview\n",
    "\n",
    "import urlparse\n",
    "from collections import OrderedDict"
   ]
  },
  {
   "cell_type": "code",
   "execution_count": null,
   "metadata": {
    "collapsed": true
   },
   "outputs": [],
   "source": [
    "def get_all_calcs():\n",
    "    # query AiiDA database for structures\n",
    "    qb = QueryBuilder()\n",
    "    qb.append(Cp2kCalculation, project=[\"id\", \"description\"])\n",
    "    qb.order_by({Cp2kCalculation: {'ctime': 'desc'}})\n",
    "    #print qb.count()\n",
    "    qb.all()\n",
    "\n",
    "    all_calcs = OrderedDict()\n",
    "    for pk, descr in qb.iterall():\n",
    "        label = \"PK: %d\"%pk\n",
    "        if descr:\n",
    "            label += \"; descr: \"+descr\n",
    "        all_calcs[label] = pk\n",
    "    return all_calcs"
   ]
  },
  {
   "cell_type": "code",
   "execution_count": null,
   "metadata": {
    "collapsed": false
   },
   "outputs": [],
   "source": [
    "def reload_calcs(b):\n",
    "    inp_calc.options = get_all_calcs()\n",
    "    update_view(None)\n",
    "    \n",
    "#inp_calc = ipw.Dropdown(description=\"Calculation\", options=get_all_calcs())\n",
    "inp_calc = ipw.Select(options=get_all_calcs())\n",
    "lab_calc = ipw.Label(\"Calculations:\")\n",
    "btn_reload_cals = ipw.Button(description=\"Reload\")\n",
    "btn_reload_cals.on_click(reload_calcs)\n",
    "\n",
    "# parse URL\n",
    "url = urlparse.urlsplit(jupyter_notebook_url)\n",
    "querypart = urlparse.parse_qs(url.query)\n",
    "if 'pk' in querypart.keys():\n",
    "    inp_calc.value = int(querypart['pk'][0])\n",
    "\n",
    "display(ipw.HBox([lab_calc, inp_calc, btn_reload_cals]))"
   ]
  },
  {
   "cell_type": "code",
   "execution_count": null,
   "metadata": {
    "collapsed": false
   },
   "outputs": [],
   "source": [
    "info_box = ipw.HTML()\n",
    "\n",
    "def update_view(c):\n",
    "    clear_output()\n",
    "    if inp_calc.value == None:\n",
    "        return\n",
    "    calc = load_node(inp_calc.value)\n",
    "    output = \"pk: %s<br>\"%calc.pk\n",
    "    output += \"uuid: %s<br>\"%calc.uuid\n",
    "    output += \"state: \"+str(calc.get_state())+\"<br>\\n\"\n",
    "    if calc.get_state() == \"WITHSCHEDULER\":\n",
    "        output += \"scheduler state: \"+str(calc.get_scheduler_state())+\"<br>\\n\"\n",
    "    \n",
    "    if calc.get_state() == \"FINISHED\":\n",
    "        output += \"Energy: %e %s<br>\\n\"%(calc.res.energy, calc.res.energy_units)\n",
    "        #pre_block += \"Retrieved files:\\n   \"\n",
    "        #pre_block += \"\\n   \".join(sorted(calc.get_retrieved_node().get_folder_list())) + \"\\n\"\n",
    "        output += \"<a target='_blank' href='view_cp2k_orbitals.ipynb?pk=%d'>View orbitals</a><br>\"%calc.pk\n",
    "        rn = calc.get_retrieved_node()\n",
    "        relpath = rn.folder.abspath.replace(\"/project/.aiida/repository-default/\", \"aiida_repository/\")\n",
    "        output += \"<a target='_blank' href='/tree/%s/path'>Browser retrieved files</a><br>\"%relpath\n",
    "    output += \"<a target='_blank' href='../aiida/aiida_tree_browser.ipynb?pk=%d'>View AiiDA node</a><br>\"%calc.pk\n",
    "    info_box.value = output\n",
    "    \n",
    "\n",
    "update_view(None)\n",
    "inp_calc.observe(update_view, names='value')\n",
    "\n",
    "display(info_box)"
   ]
  }
 ],
 "metadata": {
  "kernelspec": {
   "display_name": "Python 2",
   "language": "python",
   "name": "python2"
  },
  "language_info": {
   "codemirror_mode": {
    "name": "ipython",
    "version": 2
   },
   "file_extension": ".py",
   "mimetype": "text/x-python",
   "name": "python",
   "nbconvert_exporter": "python",
   "pygments_lexer": "ipython2",
   "version": "2.7.13"
  }
 },
 "nbformat": 4,
 "nbformat_minor": 2
}
