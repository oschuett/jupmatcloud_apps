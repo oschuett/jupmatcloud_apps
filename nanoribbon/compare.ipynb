{
 "cells": [
  {
   "cell_type": "markdown",
   "metadata": {
    "deletable": true,
    "editable": true
   },
   "source": [
    "# Compare Bandstructures"
   ]
  },
  {
   "cell_type": "code",
   "execution_count": null,
   "metadata": {
    "collapsed": true,
    "deletable": true,
    "editable": true
   },
   "outputs": [],
   "source": [
    "from aiida import load_dbenv, is_dbenv_loaded\n",
    "from aiida.backends import settings\n",
    "if not is_dbenv_loaded():\n",
    "    load_dbenv(profile=settings.AIIDADB_PROFILE)"
   ]
  },
  {
   "cell_type": "code",
   "execution_count": null,
   "metadata": {
    "collapsed": false,
    "deletable": true,
    "editable": true,
    "scrolled": false
   },
   "outputs": [],
   "source": [
    "%matplotlib inline\n",
    "from matplotlib.gridspec import GridSpec\n",
    "from aiida.orm import load_node\n",
    "import nanoribbon\n",
    "import matplotlib.pyplot as plt\n",
    "import ipywidgets as widgets\n",
    "from IPython.display import display\n",
    "\n",
    "def make_plots(pk_list):\n",
    "    # display progress bar\n",
    "    progress = widgets.IntProgress(description='Plotting...', max=len(pk_list))\n",
    "    display(progress)\n",
    "\n",
    "    args_erang = [-3,3]\n",
    "\n",
    "    fig = plt.figure()\n",
    "    fig.set_size_inches(2.8*len(pk_list), 16)\n",
    "    gs = GridSpec(5, len(pk_list))\n",
    "    fig.text(0.05, 0.5, 'E(eV)', va='center', rotation='vertical')\n",
    "\n",
    "    for i, pk in enumerate(pk_list):\n",
    "        progress.value = i\n",
    "\n",
    "        node = load_node(pk=int(pk))\n",
    "\n",
    "        props = nanoribbon.get_all_properties(node)\n",
    "\n",
    "        if i==0:\n",
    "            ax1=fig.add_subplot(gs[1:5,i])\n",
    "        else:\n",
    "            ax1=fig.add_subplot(gs[1:5,i], sharey=ax_old)\n",
    "            ax1.tick_params(axis='y', which='both',left='on',right='off', labelleft='off')\n",
    "\n",
    "        allign=(props['homo']+props['lumo'])/2.0\n",
    "        #print \"plotting ({}/{})\".format(i+1,n_bands)        \n",
    "        nanoribbon.plot_b(props['hartree_calc_obj'], props['bands_calc_obj'], props['scf_calc_obj'], args_erang, allign, ax1)\n",
    "    #    ax1.xaxis('off')\n",
    "    #    ax1.tick_params(axis='x', which='both', bottom='off', top='off',  labelbottom='off')\n",
    "        ax1.tick_params(axis='x', which='both', bottom='off', top='off' )\n",
    "        labels = [item.get_text() for item in ax1.get_xticklabels()]\n",
    "        labels[0]='$\\Gamma$'\n",
    "        labels[-1]='X'\n",
    "        ax1.set_xticklabels(labels)\n",
    "\n",
    "        ax1.set_xlabel('-Abs. magn.: {}$\\mu_B$\\n-Tot. magn.: {}$\\mu_B$\\n-Band gap: {:.3f} eV'.format(props['amag'],props['tmag'],props['gap']))\n",
    "\n",
    "        ax2 = fig.add_subplot(gs[0:1,i])\n",
    "        nanoribbon.plot_thumbnail(ax2, props['struct'].get_ase())\n",
    "\n",
    "        ax_old = ax1\n",
    "\n",
    "    progress.close()"
   ]
  },
  {
   "cell_type": "code",
   "execution_count": null,
   "metadata": {
    "collapsed": false,
    "deletable": true,
    "editable": true
   },
   "outputs": [],
   "source": [
    "import urlparse\n",
    "url = urlparse.urlsplit(jupyter_notebook_url)\n",
    "params = urlparse.parse_qs(url.query)\n",
    "if 'pk' in params.keys():\n",
    "    make_plots(params['pk'])\n",
    "else:\n",
    "    print(\"Nothing to compare.\")"
   ]
  }
 ],
 "metadata": {
  "kernelspec": {
   "display_name": "Python 2",
   "language": "python",
   "name": "python2"
  },
  "language_info": {
   "codemirror_mode": {
    "name": "ipython",
    "version": 2
   },
   "file_extension": ".py",
   "mimetype": "text/x-python",
   "name": "python",
   "nbconvert_exporter": "python",
   "pygments_lexer": "ipython2",
   "version": "2.7.13"
  }
 },
 "nbformat": 4,
 "nbformat_minor": 2
}
