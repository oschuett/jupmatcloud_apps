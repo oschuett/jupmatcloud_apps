{
 "cells": [
  {
   "cell_type": "markdown",
   "metadata": {},
   "source": [
    "# Compare Bandstructures"
   ]
  },
  {
   "cell_type": "code",
   "execution_count": null,
   "metadata": {},
   "outputs": [],
   "source": [
    "from aiida import load_dbenv, is_dbenv_loaded\n",
    "from aiida.backends import settings\n",
    "if not is_dbenv_loaded():\n",
    "    load_dbenv(profile=settings.AIIDADB_PROFILE)\n",
    "    \n",
    "from aiida.orm import load_node\n",
    "from aiida.orm.querybuilder import QueryBuilder\n",
    "from aiida.orm.calculation.work import WorkCalculation\n",
    "from aiida.orm.calculation.job.quantumespresso.pw import PwCalculation\n",
    "from aiida.orm.calculation.job.quantumespresso.pp import PpCalculation\n",
    "\n",
    "from ase.data import covalent_radii, atomic_numbers\n",
    "from ase.data.colors import cpk_colors\n",
    "from ase.neighborlist import NeighborList\n",
    "\n",
    "from matplotlib.gridspec import GridSpec\n",
    "import matplotlib.pyplot as plt\n",
    "import ipywidgets as ipw\n",
    "import numpy as np\n",
    "import urlparse"
   ]
  },
  {
   "cell_type": "code",
   "execution_count": null,
   "metadata": {},
   "outputs": [],
   "source": [
    "def get_calc_by_label(workcalc, calc_class, label):\n",
    "    qb = QueryBuilder()\n",
    "    qb.append(WorkCalculation, filters={'uuid':workcalc.uuid})\n",
    "    qb.append(calc_class, output_of=WorkCalculation, filters={'label':label})\n",
    "    assert qb.count() == 1\n",
    "    calc = qb.first()[0]\n",
    "    assert(calc.get_state() == 'FINISHED')\n",
    "    return calc"
   ]
  },
  {
   "cell_type": "code",
   "execution_count": null,
   "metadata": {
    "scrolled": false
   },
   "outputs": [],
   "source": [
    "def make_plots(pk_list):\n",
    "    # display progress bar\n",
    "    progress = ipw.IntProgress(description='Plotting...', max=len(pk_list))\n",
    "    display(progress)\n",
    "\n",
    "    args_erang = [-3,3]\n",
    "\n",
    "    fig = plt.figure()\n",
    "    fig.set_size_inches(2.8*len(pk_list), 16)\n",
    "    gs = GridSpec(5, len(pk_list))\n",
    "    fig.text(0.05, 0.5, 'E(eV)', va='center', rotation='vertical')\n",
    "\n",
    "    for i, pk in enumerate(pk_list):\n",
    "        progress.value = i\n",
    "\n",
    "        if i==0:\n",
    "            ax1 = fig.add_subplot(gs[1:5,i])\n",
    "        else:\n",
    "            ax1 = fig.add_subplot(gs[1:5,i], sharey=ax_old)\n",
    "            ax1.tick_params(axis='y', which='both',left='on',right='off', labelleft='off')\n",
    "        ax_old = ax1 # needed for next iteration\n",
    "    \n",
    "        workcalc = load_node(pk=int(pk))\n",
    "        \n",
    "        vacuum_level = workcalc.get_extra('vacuum_level')\n",
    "        homo = workcalc.get_extra('homo')\n",
    "        lumo = workcalc.get_extra('lumo')\n",
    "        gap = workcalc.get_extra('gap')\n",
    "        abs_mag = workcalc.get_extra('absolute_magnetization')\n",
    "        tot_mag = workcalc.get_extra('total_magnetization')\n",
    "        \n",
    "        caption = 'Abs. magn.: {}$\\mu_B$\\nTot. magn.: {}$\\mu_B$\\nBand gap: {:.3f} eV'.format(abs_mag,tot_mag,gap)\n",
    "        ax1.set_xlabel(caption)\n",
    "        ax1.axhline(y=homo, linewidth=2, color='red', ls='--')\n",
    "\n",
    "        bands_calc = get_calc_by_label(workcalc, PwCalculation, \"bands\")\n",
    "        bands = bands_calc.out.output_band.get_bands()\n",
    "        structure = bands_calc.inp.structure\n",
    "        nspins, nkpoints, nbands = bands.shape\n",
    "        \n",
    "        ispin = 0 # spin hard-coded\n",
    "        \n",
    "        Lx = structure.cell_lengths[0]\n",
    "        x_max = np.pi / Lx\n",
    "        x_data = np.linspace(0.0, x_max, nkpoints)\n",
    "        y_datas = bands[ispin,:,:] - vacuum_level\n",
    "\n",
    "        for j in range(nbands):\n",
    "            ax1.plot(x_data, y_datas[:,j], color='gray')\n",
    "        \n",
    "        center = (homo + lumo)/2.0\n",
    "        ax1.set_ylim([center-3.0, center+3.0])\n",
    "\n",
    "        ax2 = fig.add_subplot(gs[0:1,i])\n",
    "        plot_thumbnail(ax2, structure)\n",
    "\n",
    "    progress.close()\n",
    "    plt.show()"
   ]
  },
  {
   "cell_type": "code",
   "execution_count": null,
   "metadata": {},
   "outputs": [],
   "source": [
    "def plot_thumbnail(ax, structure):\n",
    "    ase_struct = structure.get_ase()\n",
    "    s = ase_struct.repeat((2,1,1))\n",
    "    cov_radii = [covalent_radii[a.number] for a in s]\n",
    "    nl = NeighborList(cov_radii, bothways = True, self_interaction = False)\n",
    "    nl.update(s)\n",
    "    \n",
    "    ax.set_aspect(1)\n",
    "    ax.axes.set_xlim([0,s.cell[0][0]])\n",
    "    ax.axes.set_ylim([5,s.cell[1][1]-5])\n",
    "    ax.set_axis_bgcolor((0.423,0.690,0.933))\n",
    "    ax.axes.get_yaxis().set_visible(False)\n",
    "\n",
    "    name = ase_struct.get_chemical_formula() # get name before repeat\n",
    "    ax.set_xlabel(name, fontsize=12)\n",
    "    ax.tick_params(axis='x', which='both', bottom='off', top='off',labelbottom='off')\n",
    "    \n",
    "    for at in s:\n",
    "        #circles\n",
    "        x,y,z = at.position\n",
    "        n = atomic_numbers[at.symbol]\n",
    "        ax.add_artist(plt.Circle((x,y), covalent_radii[n]*0.5, color=cpk_colors[n], fill=True, clip_on=True))\n",
    "        #bonds\n",
    "        nlist = nl.get_neighbors(at.index)[0]\n",
    "        for theneig in nlist:\n",
    "            x,y,z = (s[theneig].position +  at.position)/2\n",
    "            x0,y0,z0 = at.position\n",
    "            if (x-x0)**2 + (y-y0)**2 < 2 :\n",
    "                ax.plot([x0,x],[y0,y],color=cpk_colors[n],linewidth=2,linestyle='-')"
   ]
  },
  {
   "cell_type": "code",
   "execution_count": null,
   "metadata": {},
   "outputs": [],
   "source": [
    "url = urlparse.urlsplit(jupyter_notebook_url)\n",
    "params = urlparse.parse_qs(url.query)\n",
    "if 'pk' in params.keys():\n",
    "    make_plots(params['pk'])\n",
    "else:\n",
    "    print(\"Nothing to compare.\")"
   ]
  }
 ],
 "metadata": {
  "kernelspec": {
   "display_name": "Python 2",
   "language": "python",
   "name": "python2"
  },
  "language_info": {
   "codemirror_mode": {
    "name": "ipython",
    "version": 2
   },
   "file_extension": ".py",
   "mimetype": "text/x-python",
   "name": "python",
   "nbconvert_exporter": "python",
   "pygments_lexer": "ipython2",
   "version": "2.7.13"
  }
 },
 "nbformat": 4,
 "nbformat_minor": 2
}
