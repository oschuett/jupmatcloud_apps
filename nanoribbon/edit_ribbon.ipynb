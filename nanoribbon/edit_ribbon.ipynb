{
 "cells": [
  {
   "cell_type": "markdown",
   "metadata": {},
   "source": [
    "# Assign spin and remove atoms"
   ]
  },
  {
   "cell_type": "code",
   "execution_count": null,
   "metadata": {},
   "outputs": [],
   "source": [
    "from aiida import load_dbenv, is_dbenv_loaded\n",
    "from aiida.backends import settings\n",
    "if not is_dbenv_loaded():\n",
    "    load_dbenv(profile=settings.AIIDADB_PROFILE)\n",
    "\n",
    "from aiida.orm.querybuilder import QueryBuilder\n",
    "from aiida.orm.data.structure import StructureData\n",
    "from aiida.orm.data.array import ArrayData\n",
    "from aiida.work.workfunction import workfunction\n",
    "\n",
    "from IPython.display import display, clear_output\n",
    "from collections import OrderedDict\n",
    "import ipywidgets as ipw\n",
    "import nglview\n",
    "import numpy as np"
   ]
  },
  {
   "cell_type": "markdown",
   "metadata": {},
   "source": [
    "## Step 1: Select a structure from the AiiDA database"
   ]
  },
  {
   "cell_type": "code",
   "execution_count": null,
   "metadata": {},
   "outputs": [],
   "source": [
    "# query AiiDA database for structures\n",
    "qb = QueryBuilder()\n",
    "qb.append(StructureData)\n",
    "   \n",
    "all_nodes = [ node_tuple[0] for node_tuple in qb.iterall() ]\n",
    "all_nodes.sort(key=lambda n: n.pk)\n",
    "\n",
    "all_structs = OrderedDict()\n",
    "all_structs[\"Select a Structure\"] = False\n",
    "\n",
    "#print(\"Loading structures...\")\n",
    "for node in all_nodes:\n",
    "    label = \"%s PK: %d %s\"%(node.get_formula(), node.pk, node.description)\n",
    "    all_structs[label] = node\n",
    "\n",
    "def on_struct_change(c):\n",
    "    global atoms, removals\n",
    "    node = drop_struct.value\n",
    "    removals = []\n",
    "    atoms = node.get_ase() if node else None\n",
    "    update_viewer()\n",
    "    inp_descr.value = node.description + \".edit\"\n",
    "    \n",
    "drop_struct = ipw.Dropdown(options=all_structs, value=False)\n",
    "drop_struct.observe(on_struct_change, names='value')\n",
    "display(drop_struct)"
   ]
  },
  {
   "cell_type": "markdown",
   "metadata": {},
   "source": [
    "## Step 2: Edit Structure"
   ]
  },
  {
   "cell_type": "code",
   "execution_count": null,
   "metadata": {},
   "outputs": [],
   "source": [
    "def update_viewer():\n",
    "    global viewer, atoms\n",
    "    if hasattr(viewer, \"component_0\"):\n",
    "        #viewer.clear_representations()\n",
    "        viewer.component_0.remove_ball_and_stick()\n",
    "        viewer.component_0.remove_ball_and_stick()\n",
    "        viewer.component_0.remove_ball_and_stick()\n",
    "        viewer.component_0.remove_unitcell()\n",
    "        cid = viewer.component_0.id\n",
    "        viewer.remove_component(cid)\n",
    "    \n",
    "    if atoms:\n",
    "        viewer.add_component(nglview.ASEStructure(atoms)) # adds ball+stick\n",
    "        viewer.add_unitcell()\n",
    "        viewer.center_view()\n",
    "        \n",
    "        spin_ups = \",\".join([str(i) for i, t in enumerate(atoms.get_tags()) if t==1])\n",
    "        spin_downs = \",\".join([str(i) for i, t in enumerate(atoms.get_tags()) if t==2])\n",
    "        \n",
    "        viewer.add_representation('ball+stick', selection=\"@\"+spin_ups, color='red', aspectRatio=3.0, opacity=0.4)\n",
    "        viewer.add_representation('ball+stick', selection=\"@\"+spin_downs, color='blue', aspectRatio=3.0, opacity=0.4)"
   ]
  },
  {
   "cell_type": "code",
   "execution_count": null,
   "metadata": {},
   "outputs": [],
   "source": [
    "def on_picked(c):\n",
    "    global atoms, removals, viewer\n",
    "        \n",
    "    if 'atom' not in viewer.picked.keys():\n",
    "        return # did not click on atom\n",
    "\n",
    "    idx = viewer.picked['atom']['index']\n",
    "    tags = atoms.get_tags()\n",
    "\n",
    "    if tool.value == \"spin 0\":\n",
    "        tags[idx] = 0\n",
    "        atoms.set_tags(tags)\n",
    "    elif tool.value == \"spin up\":\n",
    "        tags[idx] = 1\n",
    "        atoms.set_tags(tags)\n",
    "    elif tool.value == \"spin down\":\n",
    "        tags[idx] = 2\n",
    "        atoms.set_tags(tags)\n",
    "    elif tool.value == \"remove atom\":\n",
    "        del atoms[idx]\n",
    "        removals.append(idx)\n",
    "\n",
    "    update_viewer()"
   ]
  },
  {
   "cell_type": "code",
   "execution_count": null,
   "metadata": {},
   "outputs": [],
   "source": [
    "viewer = nglview.NGLWidget()\n",
    "viewer.observe(on_picked, names='picked')\n",
    "tool = ipw.Dropdown(description=\"On click...\", options=[\"spin 0\", \"spin up\", \"spin down\", \"remove atom\"])\n",
    "\n",
    "display(viewer, tool)"
   ]
  },
  {
   "cell_type": "markdown",
   "metadata": {},
   "source": [
    "## Step 3: Store structure in the AiiDA database"
   ]
  },
  {
   "cell_type": "code",
   "execution_count": null,
   "metadata": {},
   "outputs": [],
   "source": [
    "# using a workfunction to create link to original structure\n",
    "@workfunction\n",
    "def edit(orig_struct, args):\n",
    "    atoms = orig_struct.get_ase()\n",
    "    removals = args.get_array(\"removals\")\n",
    "    for i in removals:\n",
    "        del atoms[i]\n",
    "    tags = args.get_array(\"tags\")\n",
    "    atoms.set_tags(tags)\n",
    "    return StructureData(ase=atoms)"
   ]
  },
  {
   "cell_type": "code",
   "execution_count": null,
   "metadata": {},
   "outputs": [],
   "source": [
    "def on_click_store(b):\n",
    "    global atoms, removals\n",
    "    \n",
    "    orig_struct = drop_struct.value\n",
    "    args = ArrayData()\n",
    "    args.set_array(\"removals\", np.array(removals))\n",
    "    args.set_array(\"tags\", atoms.get_tags())\n",
    "    s = edit(orig_struct, args)\n",
    "    s.description = inp_descr.value\n",
    "    s.store()\n",
    "    print(\"Stored in AiiDA: \"+repr(s))\n",
    "    \n",
    "inp_descr = ipw.Text(placeholder=\"Description (optional)\")   \n",
    "btn_store = ipw.Button(description='Store in AiiDA')\n",
    "btn_store.on_click(on_click_store)\n",
    "display(ipw.HBox([btn_store, inp_descr]))"
   ]
  }
 ],
 "metadata": {
  "kernelspec": {
   "display_name": "Python 2",
   "language": "python",
   "name": "python2"
  },
  "language_info": {
   "codemirror_mode": {
    "name": "ipython",
    "version": 2
   },
   "file_extension": ".py",
   "mimetype": "text/x-python",
   "name": "python",
   "nbconvert_exporter": "python",
   "pygments_lexer": "ipython2",
   "version": "2.7.13"
  }
 },
 "nbformat": 4,
 "nbformat_minor": 2
}
