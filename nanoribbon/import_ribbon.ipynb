{
 "cells": [
  {
   "cell_type": "markdown",
   "metadata": {},
   "source": [
    "# Prepare Ribbon for SPM Simulation with AiiDA"
   ]
  },
  {
   "cell_type": "code",
   "execution_count": null,
   "metadata": {
    "collapsed": true
   },
   "outputs": [],
   "source": [
    "from IPython.display import display, clear_output\n",
    "import ipywidgets as ipw\n",
    "from fileupload import FileUploadWidget\n",
    "import nglview\n",
    "\n",
    "from tempfile import NamedTemporaryFile\n",
    "import numpy as np\n",
    "from numpy.linalg import norm\n",
    "import scipy.stats\n",
    "import ase\n",
    "import ase.io\n",
    "from ase.data import covalent_radii\n",
    "from ase.neighborlist import NeighborList\n",
    "import ase.neighborlist\n",
    "\n",
    "from aiida import load_dbenv, is_dbenv_loaded\n",
    "from aiida.backends import settings\n",
    "if not is_dbenv_loaded():\n",
    "    load_dbenv(profile=settings.AIIDADB_PROFILE)\n",
    "    \n",
    "from aiida.orm import DataFactory"
   ]
  },
  {
   "cell_type": "markdown",
   "metadata": {},
   "source": [
    "## Step 1: Upload a .mol file from ChemSketch or select example"
   ]
  },
  {
   "cell_type": "code",
   "execution_count": null,
   "metadata": {
    "collapsed": true
   },
   "outputs": [],
   "source": [
    "def on_file_upload(c):\n",
    "    global atoms\n",
    "    tmp = NamedTemporaryFile(suffix=file_upload.filename)\n",
    "    f = open(tmp.name, \"w\")\n",
    "    f.write(file_upload.data)\n",
    "    f.close()\n",
    "    atoms = ase.io.read(tmp.name)\n",
    "    tmp.close()\n",
    "    setup_new_atoms()\n",
    "    \n",
    "\n",
    "def on_click_example(b):\n",
    "    global atoms\n",
    "    if b == btn_eg1:\n",
    "        atoms = ase.io.read(\"chevron.mol\")\n",
    "    if b == btn_eg2:\n",
    "        atoms = ase.io.read(\"polymer.mol\")\n",
    "    if b == btn_eg3:\n",
    "        atoms = ase.io.read(\"5_1GNR.mol\")\n",
    "    setup_new_atoms()\n",
    "    \n",
    "    \n",
    "#TODO: FileUploadWidget doesn't fire event when same file is uploaded twice\n",
    "file_upload = FileUploadWidget(\"Upload Structure\")\n",
    "file_upload.observe(on_file_upload, names='data')\n",
    "\n",
    "btn_eg1 = ipw.Button(description='chevron.mol')\n",
    "btn_eg2 = ipw.Button(description='polymer.mol')\n",
    "btn_eg3 = ipw.Button(description='p5_1GNR.mol')\n",
    "btn_eg1.on_click(on_click_example)\n",
    "btn_eg2.on_click(on_click_example)\n",
    "btn_eg3.on_click(on_click_example)\n",
    "newatoms_out = ipw.Output()\n",
    "\n",
    "display(ipw.HBox([file_upload, btn_eg1, btn_eg2, btn_eg3]), newatoms_out)"
   ]
  },
  {
   "cell_type": "code",
   "execution_count": null,
   "metadata": {
    "collapsed": true
   },
   "outputs": [],
   "source": [
    "def setup_new_atoms():\n",
    "    global atoms, selection, viewer\n",
    "    \n",
    "    with newatoms_out:\n",
    "        clear_output()\n",
    "        print(\"Found %i atoms.\"%len(atoms))\n",
    "        print(\"Fixing scale....\")\n",
    "        fix_scale(atoms)\n",
    "\n",
    "        # remove old components\n",
    "        if hasattr(viewer, \"component_0\"):\n",
    "            viewer.component_0.remove_ball_and_stick()\n",
    "            #viewer.component_0.remove_unitcell()\n",
    "            cid = viewer.component_0.id\n",
    "            viewer.remove_component(cid)\n",
    "\n",
    "        # empty selection\n",
    "        selection = set()\n",
    "\n",
    "        # add new component\n",
    "        viewer.add_component(nglview.ASEStructure(atoms)) # adds ball+stick\n",
    "        #viewer.add_unitcell()\n",
    "        viewer.center_view()"
   ]
  },
  {
   "cell_type": "code",
   "execution_count": null,
   "metadata": {
    "collapsed": true
   },
   "outputs": [],
   "source": [
    "def fix_scale(atoms):\n",
    "    # set bounding box as cell\n",
    "    cx = 1.5 * (np.amax(atoms.positions[:,0]) - np.amin(atoms.positions[:,0]))\n",
    "    cy = 1.5 * (np.amax(atoms.positions[:,1]) - np.amin(atoms.positions[:,1]))\n",
    "    cz = 15.0\n",
    "    atoms.cell = (cx, cy, cz)\n",
    "    atoms.pbc = (True,True,True)\n",
    "    \n",
    "    # calculate all atom-atom distances\n",
    "    n = len(atoms)\n",
    "    dists = np.zeros([n,n])\n",
    "    for i in range(n):\n",
    "        for j in range(n):\n",
    "            dists[i,j] = norm(atoms[i].position - atoms[j].position)\n",
    "            \n",
    "    # find bond distances to closest neighbor\n",
    "    dists += np.diag([np.inf]*n) # don't consider diagonal\n",
    "    bonds = np.amin(dists, axis=1)\n",
    "    \n",
    "    # average bond distance\n",
    "    avg_bond = float(scipy.stats.mode(bonds)[0])\n",
    "    \n",
    "    # scale box to match equilibrium carbon-carbon bond distance\n",
    "    cc_eq = 1.4313333333\n",
    "    s = cc_eq / avg_bond\n",
    "    print(\"Scaled positions by: %f\"%s)\n",
    "    atoms.set_cell([s*cx, s*cy, cz], scale_atoms=True)\n",
    "    atoms.center()"
   ]
  },
  {
   "cell_type": "markdown",
   "metadata": {},
   "source": [
    "## Step 2: Select two equivalent atoms to guide the unit cell construction"
   ]
  },
  {
   "cell_type": "code",
   "execution_count": null,
   "metadata": {
    "collapsed": true
   },
   "outputs": [],
   "source": [
    "def on_picked(c):\n",
    "    global viewer, selection\n",
    "        \n",
    "    if 'atom' not in viewer.picked.keys():\n",
    "        return # did not click on atom\n",
    "    with picked_out:\n",
    "        clear_output()\n",
    "        #viewer.clear_representations()\n",
    "        viewer.component_0.remove_ball_and_stick()\n",
    "        viewer.component_0.remove_ball_and_stick()\n",
    "        viewer.add_ball_and_stick()\n",
    "        #viewer.add_unitcell()\n",
    "\n",
    "        idx = viewer.picked['atom']['index']\n",
    "\n",
    "        # toggle\n",
    "        if idx in selection:\n",
    "            selection.remove(idx)\n",
    "        else:\n",
    "            selection.add(idx)\n",
    "\n",
    "        #if(selection):\n",
    "        sel_str = \",\".join([str(i) for i in sorted(selection)])\n",
    "        print(\"Selected atoms: \"+ sel_str)\n",
    "        viewer.add_representation('ball+stick', selection=\"@\"+sel_str, color='red', aspectRatio=3.0)\n",
    "        #else:\n",
    "        #    print (\"nothing selected\")\n",
    "        viewer.picked = {} # reset, otherwise immidiately selecting same atom again won't create change event\n",
    "\n",
    "selection = set()    \n",
    "viewer = nglview.NGLWidget()\n",
    "viewer.observe(on_picked, names='picked')\n",
    "picked_out = ipw.Output()\n",
    "display(viewer, picked_out)"
   ]
  },
  {
   "cell_type": "markdown",
   "metadata": {},
   "source": [
    "## Step 3: Construct unit cell and check results"
   ]
  },
  {
   "cell_type": "code",
   "execution_count": null,
   "metadata": {
    "collapsed": true
   },
   "outputs": [],
   "source": [
    "def on_click_cell(b):\n",
    "    global viewer2, atoms2\n",
    "    \n",
    "    with clickcell_out:\n",
    "        clear_output()\n",
    "        atoms2 = None\n",
    "        if hasattr(viewer2, \"component_0\"):\n",
    "            viewer2.component_0.remove_ball_and_stick()\n",
    "            viewer2.component_0.remove_unitcell()\n",
    "            cid = viewer2.component_0.id\n",
    "            viewer2.remove_component(cid)   \n",
    "\n",
    "        if len(selection) != 2:\n",
    "            print(\"You must select exactly two atoms\")\n",
    "        else:\n",
    "            atoms2 = atoms.copy()\n",
    "            construct_cell(atoms2, selection)\n",
    "\n",
    "            # display in second viewer\n",
    "            viewer2.add_component(nglview.ASEStructure(atoms2)) # adds ball+stick\n",
    "            #viewer2.add_ball_and_stick()\n",
    "            viewer2.add_unitcell()\n",
    "            viewer2.center_view()\n",
    "\n",
    "btn_cell = ipw.Button(description='Construct Cell')\n",
    "btn_cell.on_click(on_click_cell)\n",
    "clickcell_out = ipw.Output()\n",
    "display(btn_cell, clickcell_out)"
   ]
  },
  {
   "cell_type": "code",
   "execution_count": null,
   "metadata": {
    "collapsed": true
   },
   "outputs": [],
   "source": [
    "atoms2 = None\n",
    "viewer2 = nglview.NGLWidget()\n",
    "display(viewer2)"
   ]
  },
  {
   "cell_type": "code",
   "execution_count": null,
   "metadata": {
    "collapsed": true
   },
   "outputs": [],
   "source": [
    "def construct_cell(atoms, selection):\n",
    "    id1, id2 = selection\n",
    "    \n",
    "    p1 = [atoms[id1].x, atoms[id1].y]\n",
    "    p0 = [atoms[id2].x, atoms[id2].y]\n",
    "    p2 = [atoms[id2].x, atoms[id1].y]\n",
    "    \n",
    "    v0 = np.array(p0) - np.array(p1)\n",
    "    v1 = np.array(p2) - np.array(p1)\n",
    "\n",
    "    angle = np.math.atan2(np.linalg.det([v0,v1]),np.dot(v0,v1))\n",
    "\n",
    "    #angle=np.degrees(angle)\n",
    "\n",
    "    yrange = np.amax(atoms.positions[:,1])-np.amin(atoms.positions[:,1])\n",
    "    \n",
    "    cx = norm(v0)\n",
    "    cy = 15.0 + yrange\n",
    "    cz = 15.0\n",
    "    #print np.degrees(angle),v0,v1,p0,p1\n",
    "    if np.abs(angle) > 0.01:\n",
    "    #   s.euler_rotate(phi=angle,theta=0,psi=0,center(x[id1],y[id1],z[id1]))\n",
    "        atoms.rotate_euler(center=atoms[id1].position, phi=-angle,theta=0.0,psi=0.0)\n",
    "    atoms.cell = (cx,cy,cz)\n",
    "    atoms.pbc = (True,True,True)\n",
    "    atoms.wrap(eps=0.001)\n",
    "    atoms.center()\n",
    "\n",
    "    #### REMOVE REDUNDANT ATOMS\n",
    "    tobedel = []\n",
    "\n",
    "    cov_radii = [covalent_radii[a.number] for a in atoms]\n",
    "    nl = NeighborList(cov_radii, bothways = False, self_interaction = False)\n",
    "    nl.update(atoms)\n",
    "\n",
    "    for a in atoms:\n",
    "        indices, offsets = nl.get_neighbors(a.index)\n",
    "        for i, offset in zip(indices, offsets):\n",
    "            dist = norm(a.position -(atoms.positions[i] + np.dot(offset, atoms.get_cell())))\n",
    "            if dist < 0.4 :\n",
    "                tobedel.append(atoms[i].index)\n",
    "\n",
    "    del atoms[tobedel]\n",
    "    #s.write(\"unit.xyz\")\n",
    "    #### END REMOVE REDUNDANT ATOMS\n",
    "\n",
    "    #s.cell=[cx,cy,cz]\n",
    "    #s.set_cell(s.cell/(1.54/1.41333),scale_atoms=True)\n",
    "    #s.cell=[cx/scale_armchair,cy,cz]\n",
    "    #s.center()\n",
    "\n",
    "\n",
    "\n",
    "    #### ENDFIND UNIT CELL AND APPLIES IT\n",
    "\n",
    "\n",
    "    #### ADD Hydrogens\n",
    "    cov_radii = [covalent_radii[a.number] for a in atoms]\n",
    "    nl = NeighborList(cov_radii, bothways = True, self_interaction = False)\n",
    "    nl.update(atoms)\n",
    "\n",
    "    need_a_H = []\n",
    "    for a in atoms:\n",
    "        nlist=nl.get_neighbors(a.index)[0]\n",
    "        if len(nlist)<3:\n",
    "            if a.symbol=='C':\n",
    "                need_a_H.append(a.index)\n",
    "\n",
    "    print \"Added missing Hydrogen atoms: \", need_a_H\n",
    "\n",
    "    dCH=1.1\n",
    "    for a in need_a_H:\n",
    "        vec = np.zeros(3)\n",
    "        indices, offsets = nl.get_neighbors(atoms[a].index)\n",
    "        for i, offset in zip(indices, offsets):\n",
    "            vec += -atoms[a].position +(atoms.positions[i] + np.dot(offset, atoms.get_cell()))\n",
    "        vec = -vec/norm(vec)*dCH\n",
    "        vec += atoms[a].position\n",
    "        htoadd = ase.Atom('H',vec)\n",
    "        atoms.append(htoadd)"
   ]
  },
  {
   "cell_type": "markdown",
   "metadata": {},
   "source": [
    "## Step 4: Store structure in the AiiDA database"
   ]
  },
  {
   "cell_type": "code",
   "execution_count": null,
   "metadata": {
    "collapsed": true
   },
   "outputs": [],
   "source": [
    "def on_click_store(b):\n",
    "    global atoms2\n",
    "    \n",
    "    if not atoms2:\n",
    "        print(\"Unit cell has to be constructed first.\")\n",
    "        return\n",
    "    \n",
    "    StructureData = DataFactory('structure')\n",
    "    s = StructureData(ase=atoms2)\n",
    "    s.description = inp_descr.value\n",
    "    s.store()\n",
    "    print(\"Stored in AiiDA: \"+repr(s))\n",
    "\n",
    "inp_descr = ipw.Text(placeholder=\"Description (optional)\")   \n",
    "btn_store = ipw.Button(description='Store in AiiDA')\n",
    "btn_store.on_click(on_click_store)\n",
    "display(ipw.HBox([btn_store, inp_descr]))"
   ]
  }
 ],
 "metadata": {
  "kernelspec": {
   "display_name": "Python 2",
   "language": "python",
   "name": "python2"
  },
  "language_info": {
   "codemirror_mode": {
    "name": "ipython",
    "version": 2
   },
   "file_extension": ".py",
   "mimetype": "text/x-python",
   "name": "python",
   "nbconvert_exporter": "python",
   "pygments_lexer": "ipython2",
   "version": "2.7.13"
  }
 },
 "nbformat": 4,
 "nbformat_minor": 2
}
