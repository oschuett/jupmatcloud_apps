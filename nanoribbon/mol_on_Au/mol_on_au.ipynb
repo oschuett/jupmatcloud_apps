{
 "cells": [
  {
   "cell_type": "markdown",
   "metadata": {
    "deletable": true,
    "editable": true
   },
   "source": [
    "# Prepare Molecule for SPM Simulation with AiiDA"
   ]
  },
  {
   "cell_type": "code",
   "execution_count": null,
   "metadata": {
    "collapsed": false,
    "deletable": true,
    "editable": true
   },
   "outputs": [],
   "source": [
    "import os\n",
    "import os.path\n",
    "import re\n",
    "import time\n",
    "import threading\n",
    "import subprocess\n",
    "\n",
    "import ase\n",
    "import ase.io\n",
    "import nglview\n",
    "import numpy as np\n",
    "\n",
    "import ipympl\n",
    "import matplotlib.pyplot as plt\n",
    "\n",
    "import ipywidgets as widgets\n",
    "from IPython.display import display, clear_output\n",
    "from fileupload import FileUploadWidget\n",
    "from tempfile import NamedTemporaryFile\n",
    "\n",
    "from aiida import load_dbenv, is_dbenv_loaded\n",
    "from aiida.backends import settings\n",
    "if not is_dbenv_loaded():\n",
    "    load_dbenv(profile=settings.AIIDADB_PROFILE)\n",
    "from aiida.orm import DataFactory"
   ]
  },
  {
   "cell_type": "code",
   "execution_count": null,
   "metadata": {
    "collapsed": false,
    "deletable": true,
    "editable": true
   },
   "outputs": [],
   "source": [
    "%%html\n",
    "<!-- hide matplotlib figure title -->\n",
    "<style> .ui-dialog-titlebar { display: none; } </style>"
   ]
  },
  {
   "cell_type": "markdown",
   "metadata": {},
   "source": [
    "## Step 1: Upload a .xyz file or select example molecule"
   ]
  },
  {
   "cell_type": "code",
   "execution_count": null,
   "metadata": {
    "collapsed": false
   },
   "outputs": [],
   "source": [
    "def on_file_upload(c):\n",
    "    global mol\n",
    "    tmp = NamedTemporaryFile(suffix=file_upload.filename)\n",
    "    f = open(tmp.name, \"w\")\n",
    "    f.write(file_upload.data)\n",
    "    f.close()\n",
    "    mol = ase.io.read(tmp.name)\n",
    "    tmp.close()\n",
    "    setup_new_mol()\n",
    "\n",
    "def on_click_example(b):\n",
    "    global mol\n",
    "    if b == btn_eg1:\n",
    "        mol = ase.io.read(\"mol_start.xyz\")\n",
    "    if b == btn_eg2:\n",
    "        mol = ase.io.read(\"mol_start2.xyz\")\n",
    "    setup_new_mol()\n",
    "    \n",
    "    \n",
    "#TODO: FileUploadWidget doesn't fire event when same file is uploaded twice\n",
    "file_upload = FileUploadWidget(\"Upload Molecule\")\n",
    "file_upload.observe(on_file_upload, names='data')\n",
    "\n",
    "btn_eg1 = widgets.Button(description='Example 1')\n",
    "btn_eg2 = widgets.Button(description='Example 2')\n",
    "btn_eg1.on_click(on_click_example)\n",
    "btn_eg2.on_click(on_click_example)\n",
    "display(widgets.HBox([file_upload, btn_eg1, btn_eg2]))"
   ]
  },
  {
   "cell_type": "code",
   "execution_count": null,
   "metadata": {
    "collapsed": true
   },
   "outputs": [],
   "source": [
    "def setup_new_mol():\n",
    "    global viewer_struct\n",
    "    \n",
    "    clear_output()\n",
    "    print(\"Found %i atoms.\"%len(mol))\n",
    "    prepare_mol_on_slab()\n",
    "    \n",
    "    # remove old components\n",
    "    for i in viewer._ngl_component_ids:\n",
    "        viewer.remove_component(i)\n",
    "    \n",
    "    viewer_struct = ASEStructure2(mol_on_au)\n",
    "    viewer.add_trajectory(viewer_struct)\n",
    "    viewer.add_ball_and_stick()\n",
    "    viewer.add_unitcell()\n",
    "    viewer.center_view()\n",
    "    #TODO https://github.com/arose/ngl/blob/master/src/controls/viewer-controls.js\n",
    "    #w.orientation = [[-1,0,0,0],[0,1,0,0],[0,0,1,0],[0,0,0,0.1]] "
   ]
  },
  {
   "cell_type": "code",
   "execution_count": null,
   "metadata": {
    "collapsed": false,
    "deletable": true,
    "editable": true
   },
   "outputs": [],
   "source": [
    "def prepare_mol_on_slab():\n",
    "    global mol_on_au, mol, au_slab\n",
    "    \n",
    "    # determine cell size\n",
    "    aux = 2.973735971\n",
    "    auy = 5.150661791\n",
    "    auz_top = 18.49\n",
    "    dminau = 2.3\n",
    "\n",
    "    cx = np.amax(mol.positions[:,0]) - np.amin(mol.positions[:,0])\n",
    "    cellmax = cx\n",
    "    cx = cx + 10\n",
    "    cy = np.amax(mol.positions[:,1]) - np.amin(mol.positions[:,1])\n",
    "    cy = cy + 10\n",
    "    cz = 40\n",
    "    nx = int(round(cx/aux))\n",
    "    ny = int(round(cy/auy))\n",
    "    cx = nx * aux\n",
    "    cy = ny * auy\n",
    "    #print \"ABC\", cx, cy, cz\n",
    "    mol.cell = (cx,cy,cz)\n",
    "    mol.pbc = (True,True,True)\n",
    "    \n",
    "    # position molecule a bit above gold slab\n",
    "    mol.center()\n",
    "    minz = np.amin(mol.positions[:,2])\n",
    "    dz = (-minz + auz_top + dminau)\n",
    "    mol.positions[:,2] += dz\n",
    "    \n",
    "    # template for gold slab\n",
    "    au_templ = [    ('H'  ,   1.502273797989   ,  3.091176986694   , 10.434000015259),\n",
    "                    ('H'  ,   0.017487669364   ,  0.521309018135   , 10.439200401306),\n",
    "                    ('Au' ,   0.011242070235   ,  3.954530715942   , 11.276800155640),\n",
    "                    ('Au' ,   1.498110055923   ,  1.378893256187   , 11.276800155640),\n",
    "                    ('Au' ,   0.011242070235   ,  2.237301826477   , 13.704799652100),\n",
    "                    ('Au' ,   1.498110055923   ,  4.812939167023   , 13.704799652100),\n",
    "                    ('Au' ,   1.498110055923   ,  3.095984896024   , 16.073392868042),\n",
    "                    ('Au' ,   0.011242070235   ,  0.520347436269   , 16.073581695557),\n",
    "                    ('Au' ,   0.011242070235   ,  3.954530715942   , 18.493516921997),\n",
    "                    ('Au' ,   1.498110055923   ,  1.378893256187   , 18.495817184448), ]\n",
    "    \n",
    "    # generate gold slab\n",
    "    #print \"molecule from 1 to \",atomsmol\n",
    "    #print \"substrate from \",atomsmol+1,\" to \", atomsmol+nx*ny*2*5\n",
    "    #print \"fix positions from \",atomsmol+1,\" to \", atomsmol+nx*ny*2*5 ,\"or in DFT to\", atomsmol+nx*ny*2*3\n",
    "    au_slab = ase.Atoms()\n",
    "    for sym, tx, ty, tz in au_templ:\n",
    "        for i in range(nx):\n",
    "            for j in range(ny):\n",
    "                pos = (tx + i*aux, ty + j*auy, tz)\n",
    "                a = ase.Atom(sym, pos)\n",
    "                au_slab.append(a)\n",
    "\n",
    "    #print \"total number of atoms \",len(au_atoms)\n",
    "    mol_on_au = mol + au_slab"
   ]
  },
  {
   "cell_type": "markdown",
   "metadata": {
    "deletable": true,
    "editable": true
   },
   "source": [
    "## Step2: Position molecule on surface"
   ]
  },
  {
   "cell_type": "code",
   "execution_count": null,
   "metadata": {
    "collapsed": true
   },
   "outputs": [],
   "source": [
    "# TODO merge this upstream\n",
    "from nglview.base_adaptor import Structure, Trajectory\n",
    "from nglview.utils.py_utils import tempfolder\n",
    "\n",
    "class ASEStructure2(Trajectory, Structure):\n",
    "    def __init__(self, ase_atoms, ext='pdb', params={}):\n",
    "        super(ASEStructure2, self).__init__()\n",
    "        self.path = ''\n",
    "        self.ext = ext\n",
    "        self.params = params\n",
    "        self._ase_atoms = ase_atoms\n",
    "\n",
    "    def get_structure_string(self):\n",
    "        with tempfolder():\n",
    "            self._ase_atoms.write('tmp.pdb')\n",
    "            return open('tmp.pdb').read()\n",
    "        \n",
    "    def get_coordinates(self, index):\n",
    "        return self._ase_atoms.positions\n",
    "\n",
    "    @property\n",
    "    def n_frames(self):\n",
    "        return 1"
   ]
  },
  {
   "cell_type": "code",
   "execution_count": null,
   "metadata": {
    "collapsed": false,
    "deletable": true,
    "editable": true
   },
   "outputs": [],
   "source": [
    "viewer = nglview.NGLWidget()\n",
    "display(viewer)"
   ]
  },
  {
   "cell_type": "code",
   "execution_count": null,
   "metadata": {
    "collapsed": false,
    "deletable": true,
    "editable": true
   },
   "outputs": [],
   "source": [
    "#<i class=\"fa fa-repeat\" aria-hidden=\"true\"></i>\n",
    "btn_rotleft = widgets.Button(description='Rotate left')\n",
    "btn_rotright = widgets.Button(description='Rotate right')\n",
    "btn_up = widgets.Button(description='Move up')\n",
    "btn_down = widgets.Button(description='Move down')\n",
    "\n",
    "\n",
    "def on_click_dir(b):\n",
    "    global mol_on_au\n",
    "    if b == btn_rotleft:\n",
    "        mol.rotate(a=+0.1, v=\"z\", center=\"COM\")\n",
    "    if b == btn_rotright:\n",
    "        mol.rotate(a=-0.1, v=\"z\", center=\"COM\")\n",
    "    if b == btn_up:\n",
    "        mol.positions[:,2] += 0.1\n",
    "    if b == btn_down:\n",
    "        mol.positions[:,2] -= 0.1\n",
    "\n",
    "    mol_on_au = mol + au_slab\n",
    "    update_ngview()\n",
    "    \n",
    "btn_rotleft.on_click(on_click_dir)\n",
    "btn_rotright.on_click(on_click_dir)\n",
    "btn_up.on_click(on_click_dir)\n",
    "btn_down.on_click(on_click_dir)\n",
    "display(widgets.HBox([btn_up, btn_down, btn_rotleft, btn_rotright]))"
   ]
  },
  {
   "cell_type": "code",
   "execution_count": null,
   "metadata": {
    "collapsed": false,
    "deletable": true,
    "editable": true
   },
   "outputs": [],
   "source": [
    "def update_ngview():\n",
    "    viewer_struct._ase_atoms = mol_on_au\n",
    "    # add new component before remoing old one, preserves orientation\n",
    "    #viewer.add_structure(nglview.ASEStructure(mol_on_au))\n",
    "    #viewer.component_1.add_ball_and_stick()\n",
    "    #viewer.component_1.add_unitcell()\n",
    "    #viewer.remove_component(w._ngl_component_ids[0])\n",
    "    viewer.on_frame_changed(None)"
   ]
  },
  {
   "cell_type": "code",
   "execution_count": null,
   "metadata": {
    "collapsed": false,
    "deletable": true,
    "editable": true
   },
   "outputs": [],
   "source": [
    "def read_traj(fn):\n",
    "    global mol, au_slab, mol_on_au\n",
    "    traj = open(fn).read()\n",
    "    lines = traj.strip().split(\"\\n\")\n",
    "    #natoms = len()\n",
    "    #lines[-]\n",
    "    #for line in reversed(traj.split(\"\\n\")):\n",
    "    #    print line\n",
    "    #    if \" E = \" in line:\n",
    "    #        break\n",
    "    natoms = int(lines[0])\n",
    "    assert(len(lines)%float(natoms+2)==0.0)\n",
    "    #energy = float(lines[-natoms-1].split()[5])\n",
    "    positions = []\n",
    "    for i, line in enumerate(lines[-natoms:-natoms+len(mol)]):\n",
    "        s, x, y, z = line.split()\n",
    "        mol[i].position = [float(x), float(y), float(z)]\n",
    "    mol_on_au = mol + au_slab\n",
    "    #TODO read eneries"
   ]
  },
  {
   "cell_type": "code",
   "execution_count": null,
   "metadata": {
    "collapsed": true,
    "deletable": true,
    "editable": true
   },
   "outputs": [],
   "source": [
    "def update_plot(ax):\n",
    "    #energy_curve[0].set_data(xdata, energies)\n",
    "    #fig.canvas.draw()\n",
    "    ax.clear()\n",
    "    ax.plot(energies, marker=\"o\")\n",
    "    ax.set_xlabel(\"Optimization Step\")\n",
    "    ax.set_ylabel(\"Energy [a.u.]\")\n",
    "    ax.figure.canvas.draw()"
   ]
  },
  {
   "cell_type": "markdown",
   "metadata": {
    "deletable": true,
    "editable": true
   },
   "source": [
    "## Step 3: Run geometry optimization (DFTB)"
   ]
  },
  {
   "cell_type": "code",
   "execution_count": null,
   "metadata": {
    "collapsed": false,
    "deletable": true,
    "editable": true
   },
   "outputs": [],
   "source": [
    "# run CP2K\n",
    "output_area = widgets.HTML()\n",
    "fig, ax = plt.subplots(figsize=(7,4))\n",
    "ax.set_xlabel(\"Optimization Step\")\n",
    "ax.set_ylabel(\"Energy [a.u.]\")\n",
    "#energy_curve = ax.plot([])\n",
    "\n",
    "def update_energies_positions(ax):\n",
    "    # update plot\n",
    "    if not os.path.exists(\"PROJECT-pos-1.xyz\"):\n",
    "        return\n",
    "    traj = open(\"PROJECT-pos-1.xyz\").read()\n",
    "    energies = [float(x) for x in re.findall(\" E = (.*)\", traj)]\n",
    "    #xdata = np.arange(len(energies)) \n",
    "    ax.clear()\n",
    "    ax.plot(energies, marker=\"o\")\n",
    "    ax.set_xlabel(\"Optimization Step\")\n",
    "    ax.set_ylabel(\"Energy [a.u.]\")\n",
    "    ax.figure.canvas.draw()\n",
    "    \n",
    "    read_traj(\"PROJECT-pos-1.xyz\")\n",
    "    update_ngview()\n",
    "    \n",
    "\n",
    "def output_worker():\n",
    "    pre_tag = '<pre style=\"width:600px; max-height:250px; overflow-x:auto; line-height:1em; font-size:0.8em;\">'   \n",
    "    dots = 0\n",
    "    latest = \"\"\n",
    "    while(cp2k_process.poll() == None):\n",
    "        time.sleep(1)\n",
    "        # update output window\n",
    "        if os.path.exists(\"mol_on_au.out\"):\n",
    "            full = open(\"mol_on_au.out\").read() # TODO seek forward\n",
    "            output = \"\\n\".join(full.split(\"\\n\")[-20:]) #last 100 lines\n",
    "        else:\n",
    "            output = \"\"\n",
    "        dots += 1\n",
    "        if(latest!=output): # new output\n",
    "            dots = 0 # rest dot counter\n",
    "            update_energies_positions(ax)\n",
    "        latest = output\n",
    "        output += \"\\n\" + (\".\"*dots) + \"\\n\"\n",
    "        output_area.value = pre_tag + output + '</pre>'\n",
    "    \n",
    "    # read one last time entirely\n",
    "    update_energies_positions(ax)\n",
    "    output = open(\"mol_on_au.out\").read()\n",
    "    output += \"\\n\\nCP2K finished, exit code: %s\"%cp2k_process.returncode\n",
    "    output_area.value = pre_tag + output + '</pre>'\n",
    "    max_force.disabled = False\n",
    "    btn_startstop.description=\"Start CP2K\"\n",
    "    \n",
    "\n",
    "def start_cp2k():\n",
    "    global cp2k_process\n",
    "    max_force.disabled = True\n",
    "    btn_startstop.description=\"Stop CP2K\"\n",
    "    \n",
    "    # construct CP2K input \n",
    "    mol.write(\"mol.xyz\")\n",
    "    mol_on_au = mol + au_slab\n",
    "    mol_on_au.write(\"mol_on_au.xyz\")\n",
    "    cp2k_inp = open(\"mol_on_au_cp2k.tmpl\").read()\n",
    "    cp2k_inp = cp2k_inp.replace(\"<first_mol_atom>\", \"1\")\n",
    "    cp2k_inp = cp2k_inp.replace(\"<last_mol_atom>\", \"%d\"%len(mol))\n",
    "    cp2k_inp = cp2k_inp.replace(\"<first_au_atom>\", \"%d\"%(len(mol)+1))\n",
    "    cp2k_inp = cp2k_inp.replace(\"<last_au_atom>\", \"%d\"%len(mol_on_au))\n",
    "    cp2k_inp = cp2k_inp.replace(\"<cell_abc>\", \"%f %f %f\"%tuple(mol.cell.diagonal()))\n",
    "    cp2k_inp = cp2k_inp.replace(\"<max_force>\", \"%f\"%max_force.value)\n",
    "    open(\"mol_on_au.inp\", \"w\").write(cp2k_inp)\n",
    "\n",
    "    # start cp2k\n",
    "    if os.path.exists(\"mol_on_au.out\"):\n",
    "        os.remove(\"mol_on_au.out\")\n",
    "    if os.path.exists(\"PROJECT-pos-1.xyz\"):\n",
    "        os.remove(\"PROJECT-pos-1.xyz\")\n",
    "    cmd = \"cp2k.psmp -i mol_on_au.inp -o mol_on_au.out\"\n",
    "    cp2k_process = subprocess.Popen(cmd.split())\n",
    "    \n",
    "    # start output thread\n",
    "    threading.Thread(target=output_worker).start()\n",
    "\n",
    "\n",
    "def on_click_startstop(e):\n",
    "    if(btn_startstop.description.startswith(\"Start\")):\n",
    "        start_cp2k()\n",
    "    else:\n",
    "        cp2k_process.kill()\n",
    "       \n",
    "\n",
    "btn_startstop = widgets.Button(description=\"Start CP2K\")\n",
    "btn_startstop.on_click(on_click_startstop)\n",
    "\n",
    "max_force = widgets.FloatSlider(description='MAX_FORCE:', value=1e-3, min=1e-4, max=1e-2, step=1e-5, \n",
    "                                 readout_format='.1e', layout=widgets.Layout(width=\"600px\"),)\n",
    "\n",
    "\n",
    "display(widgets.VBox([max_force, btn_startstop, output_area, fig.canvas.manager.canvas]))"
   ]
  },
  {
   "cell_type": "markdown",
   "metadata": {
    "collapsed": true
   },
   "source": [
    "## Step 4: Store structure in the AiiDA database"
   ]
  },
  {
   "cell_type": "code",
   "execution_count": null,
   "metadata": {
    "collapsed": false
   },
   "outputs": [],
   "source": [
    "def on_click_store(b):\n",
    "    global mol_on_au\n",
    "    \n",
    "    StructureData = DataFactory('structure')\n",
    "    s = StructureData(ase=mol_on_au)\n",
    "    s.description = inp_descr.value\n",
    "    s.store()\n",
    "    print(\"Stored in AiiDA: \"+repr(s))\n",
    "\n",
    "inp_descr = widgets.Text(placeholder=\"Description (optional)\")   \n",
    "btn_store = widgets.Button(description='Store in AiiDA')\n",
    "btn_store.on_click(on_click_store)\n",
    "display(widgets.HBox([btn_store, inp_descr]))"
   ]
  }
 ],
 "metadata": {
  "kernelspec": {
   "display_name": "Python 2",
   "language": "python",
   "name": "python2"
  },
  "language_info": {
   "codemirror_mode": {
    "name": "ipython",
    "version": 2
   },
   "file_extension": ".py",
   "mimetype": "text/x-python",
   "name": "python",
   "nbconvert_exporter": "python",
   "pygments_lexer": "ipython2",
   "version": "2.7.13"
  }
 },
 "nbformat": 4,
 "nbformat_minor": 2
}
