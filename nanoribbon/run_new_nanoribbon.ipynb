{
 "cells": [
  {
   "cell_type": "code",
   "execution_count": null,
   "metadata": {},
   "outputs": [],
   "source": [
    "from aiida import load_dbenv, is_dbenv_loaded\n",
    "from aiida.backends import settings\n",
    "if not is_dbenv_loaded():\n",
    "    load_dbenv(profile=settings.AIIDADB_PROFILE)\n",
    "\n",
    "from aiida.orm.code import Code\n",
    "from aiida.orm.data.base import Int, Float, Str\n",
    "from aiida.orm.querybuilder import QueryBuilder\n",
    "from aiida.work.run import run, async, submit\n",
    "from aiida.orm.data.structure import StructureData\n",
    "\n",
    "import nglview\n",
    "import numpy as np\n",
    "import ipywidgets as ipw\n",
    "from collections import OrderedDict\n",
    "from IPython.display import display, clear_output, HTML\n",
    "import nglview\n",
    "\n",
    "from structure_browser import StructureBrowser\n",
    "from apps.nanoribbon.workchain import NanoribbonWorkChain"
   ]
  },
  {
   "cell_type": "code",
   "execution_count": null,
   "metadata": {},
   "outputs": [],
   "source": [
    "def on_struct_change(c):\n",
    "    refresh_structure_view()\n",
    "    \n",
    "struct_browser = StructureBrowser()\n",
    "struct_browser.results.observe(on_struct_change, names='value')    \n",
    "viewer = nglview.NGLWidget()\n",
    "\n",
    "clear_output()\n",
    "display(ipw.VBox([struct_browser, viewer]))"
   ]
  },
  {
   "cell_type": "code",
   "execution_count": null,
   "metadata": {},
   "outputs": [],
   "source": [
    "def refresh_structure_view():\n",
    "    global viewer, atoms\n",
    "    if hasattr(viewer, \"component_0\"):\n",
    "        #viewer.clear_representations()\n",
    "        viewer.component_0.remove_ball_and_stick()\n",
    "        viewer.component_0.remove_ball_and_stick()\n",
    "        viewer.component_0.remove_ball_and_stick()\n",
    "        viewer.component_0.remove_unitcell()\n",
    "        cid = viewer.component_0.id\n",
    "        viewer.remove_component(cid)\n",
    "    \n",
    "    node = struct_browser.results.value\n",
    "    if not node:\n",
    "        return\n",
    "    atoms = node.get_ase()\n",
    "    viewer.add_component(nglview.ASEStructure(atoms)) # adds ball+stick\n",
    "    viewer.add_unitcell()\n",
    "    viewer.center_view()\n",
    "\n",
    "    spin_ups = \",\".join([str(i) for i, t in enumerate(atoms.get_tags()) if t==1])\n",
    "    spin_downs = \",\".join([str(i) for i, t in enumerate(atoms.get_tags()) if t==2])\n",
    "\n",
    "    viewer.add_representation('ball+stick', selection=\"@\"+spin_ups, color='red', aspectRatio=3.0, opacity=0.4)\n",
    "    viewer.add_representation('ball+stick', selection=\"@\"+spin_downs, color='green', aspectRatio=3.0, opacity=0.4)"
   ]
  },
  {
   "cell_type": "code",
   "execution_count": null,
   "metadata": {},
   "outputs": [],
   "source": [
    "qb = QueryBuilder()\n",
    "qb.append(Code)\n",
    "all_codes = list(qb.iterall())\n",
    "\n",
    "# query AiiDA database for Codes\n",
    "qb = QueryBuilder()\n",
    "qb.append(Code)\n",
    "   \n",
    "all_nodes = [ node_tuple[0] for node_tuple in qb.iterall() ]\n",
    "all_nodes.sort(key=lambda n: n.pk)\n",
    "\n",
    "all_codes = OrderedDict()\n",
    "\n",
    "for node in all_nodes:\n",
    "    label = \"%s PK: %d\"%(node.label, node.pk)\n",
    "    all_codes[label] = node\n",
    "\n",
    "default_pw_code = [v for k, v in all_codes.items() if k.lower().startswith(\"pw\")][-1]\n",
    "default_pp_code = [v for k, v in all_codes.items() if k.lower().startswith(\"pp\")][-1]\n",
    "default_projwfc_code = [v for k, v in all_codes.items() if k.lower().startswith(\"projwfc\")][-1]\n",
    "drop_pw_code = ipw.Dropdown(description=\"pw\", options=all_codes, value=default_pw_code)\n",
    "drop_pp_code = ipw.Dropdown(description=\"pp\", options=all_codes, value=default_pp_code)\n",
    "drop_projwfc_code = ipw.Dropdown(description=\"projwfc\", options=all_codes, value=default_projwfc_code)\n",
    "slider_precision = ipw.FloatSlider(description='Precision:', value=1.0, min=0.1, max=3.0, step=0.1)\n",
    "display(ipw.VBox([drop_pw_code, drop_pp_code, drop_projwfc_code, slider_precision]))"
   ]
  },
  {
   "cell_type": "code",
   "execution_count": null,
   "metadata": {},
   "outputs": [],
   "source": [
    "def on_submit(b):\n",
    "    with submit_out:\n",
    "        clear_output()\n",
    "        pw_code = drop_pw_code.value\n",
    "        pp_code = drop_pp_code.value\n",
    "        projwfc_code = drop_projwfc_code.value\n",
    "        struct = struct_browser.results.value\n",
    "        precision = Float(slider_precision.value)\n",
    "\n",
    "        if struct == None:\n",
    "            print(\"Please select a structure\")\n",
    "            return\n",
    "\n",
    "        outputs = submit(NanoribbonWorkChain,\n",
    "                         pw_code=pw_code,\n",
    "                         pp_code=pp_code,\n",
    "                         projwfc_code=projwfc_code,\n",
    "                         structure=struct,\n",
    "                         precision=precision)\n",
    "        print(outputs)\n",
    "\n",
    "btn_submit = ipw.Button(description=\"Submit\")\n",
    "btn_submit.on_click(on_submit)\n",
    "submit_out = ipw.Output()\n",
    "display(btn_submit, submit_out)"
   ]
  }
 ],
 "metadata": {
  "kernelspec": {
   "display_name": "Python 2",
   "language": "python",
   "name": "python2"
  },
  "language_info": {
   "codemirror_mode": {
    "name": "ipython",
    "version": 2
   },
   "file_extension": ".py",
   "mimetype": "text/x-python",
   "name": "python",
   "nbconvert_exporter": "python",
   "pygments_lexer": "ipython2",
   "version": "2.7.13"
  }
 },
 "nbformat": 4,
 "nbformat_minor": 2
}
