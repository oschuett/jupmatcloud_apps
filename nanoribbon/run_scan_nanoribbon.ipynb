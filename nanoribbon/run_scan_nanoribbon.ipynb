{
 "cells": [
  {
   "cell_type": "markdown",
   "metadata": {},
   "source": [
    "# Submit Nanoribbon SPM Calculation"
   ]
  },
  {
   "cell_type": "code",
   "execution_count": null,
   "metadata": {
    "collapsed": false
   },
   "outputs": [],
   "source": [
    "from aiida import load_dbenv, is_dbenv_loaded\n",
    "from aiida.backends import settings\n",
    "if not is_dbenv_loaded():\n",
    "    load_dbenv(profile=settings.AIIDADB_PROFILE)\n",
    "\n",
    "from aiida.orm.querybuilder import QueryBuilder\n",
    "from aiida.orm.data.structure import StructureData\n",
    "\n",
    "import ipywidgets as widgets\n",
    "from IPython.display import display\n",
    "import nglview\n",
    "\n",
    "from collections import OrderedDict\n",
    "# from aiida.workflows.user.scan_nanoribbons  import ScananoribbonWorkflow\n",
    "# import os.path\n",
    "# import sys\n",
    "\n",
    "# import configparser\n",
    "# from ase.io import read"
   ]
  },
  {
   "cell_type": "markdown",
   "metadata": {},
   "source": [
    "## Step 1: Select structure from AiiDA database"
   ]
  },
  {
   "cell_type": "code",
   "execution_count": null,
   "metadata": {
    "collapsed": false
   },
   "outputs": [],
   "source": [
    "# query AiiDA database for structures\n",
    "qb = QueryBuilder()\n",
    "qb.append(StructureData)\n",
    "   \n",
    "#print qb.count()\n",
    "\n",
    "all_nodes = [ node_tuple[0] for node_tuple in qb.iterall() ]\n",
    "all_nodes.sort(key=lambda n: n.pk)\n",
    "\n",
    "all_structs = OrderedDict()\n",
    "all_structs[\"Select a Structure\"] = None\n",
    "\n",
    "for node in all_nodes:\n",
    "    label = \"PK: %d %s\"%(node.pk, node.description)\n",
    "    all_structs[label] = node\n",
    "\n",
    "def on_struct_change(c):\n",
    "    global atoms\n",
    "    node = drop_struct.value\n",
    "    atoms = node.get_ase()\n",
    "    for i in viewer._ngl_component_ids:\n",
    "        viewer.remove_component(i)\n",
    "    viewer.add_component(nglview.ASEStructure(atoms))\n",
    "    viewer.add_ball_and_stick()\n",
    "    viewer.add_unitcell()\n",
    "    viewer.center_view()\n",
    "\n",
    "drop_struct = widgets.Dropdown(options=all_structs, value=None)\n",
    "drop_struct.observe(on_struct_change, names='value')\n",
    "viewer = nglview.NGLWidget()\n",
    "display(widgets.VBox([drop_struct, viewer]))"
   ]
  },
  {
   "cell_type": "markdown",
   "metadata": {},
   "source": [
    "## Step 2: Choose workflow parameters"
   ]
  },
  {
   "cell_type": "code",
   "execution_count": null,
   "metadata": {
    "collapsed": false
   },
   "outputs": [],
   "source": [
    "%%html\n",
    "\n",
    "<!-- make widget labels wider -->\n",
    "<style>\n",
    "    .widget-label { min-width: 20ex !important; }\n",
    "</style>"
   ]
  },
  {
   "cell_type": "code",
   "execution_count": null,
   "metadata": {
    "collapsed": false
   },
   "outputs": [],
   "source": [
    "l = widgets.Layout(width=\"400px\")\n",
    "maxkpt_bands = widgets.BoundedIntText(value=120, min=12, max=120, description='maxkpt_bands', layout=l)\n",
    "maxkpt_cell  = widgets.BoundedIntText(value=30, min=3, max=30, description='maxkpt_cell', layout=l)\n",
    "maxkpt_geo   = widgets.BoundedIntText(value=30, min=3, max=30, description='maxkpt_geo', layout=l)\n",
    "maxkpt_scf   = widgets.BoundedIntText(value=60, min=6, max=60, description='maxkpt_scf', layout=l)\n",
    "magauto      = widgets.Checkbox(description='Automatic mag.? ', layout=l)\n",
    "refa0        = widgets.BoundedFloatText(value=2.461, min=2.461, max=2.481,step=0.01, description='refa0', layout=l)\n",
    "range        = widgets.BoundedFloatText(value=2.0, min=2.0, max=4.0, step=0.1, description='range_sts_eV', layout=l)\n",
    "delta_sts    = widgets.BoundedFloatText(value=0.05, min=0.02, max=0.1,step=0.01, description='delta_sts_eV', layout=l)\n",
    "degauss_sts  = widgets.BoundedFloatText(value=0.075, min=0.03, max=0.15,step=0.01, description='degauss_sts_eV', layout=l)\n",
    "torestart    = widgets.Checkbox(description='Restart calculation? ', layout=l)\n",
    "fromw        = widgets.Dropdown(options=['SCF', 'RELAX', 'HARTREE', 'BANDS'], description='Restart from:', layout=l)\n",
    "relax_pk     = widgets.BoundedIntText(value=0, min=0, max=30000, description='relax_pk', layout=l)\n",
    "scf_pk       = widgets.BoundedIntText(value=0, min=0, max=30000, description='scf_pk', layout=l)\n",
    "hartree_pk   = widgets.BoundedIntText(value=0, min=0, max=30000, description='hartree_pk', layout=l)\n",
    "bands_pk     = widgets.BoundedIntText(value=0, min=0, max=30000, description='bands_pk', layout=l)\n",
    "pw_codename  = widgets.Dropdown(options=['PW@HYPATIA','PW@DAINT'], description='PW CODE:', layout=l)\n",
    "    \n",
    "hartree_codename = widgets.Dropdown(options=['PP@HYPATIA','PP@DAINT'], description='HARTREE CODE:', layout=l)\n",
    "sts_codename     = widgets.Dropdown(options=['PP_mod@HYPATIA','PP@DAINT'], description='PP CODE for sts:', layout=l)\n",
    "pp_codename      = widgets.Dropdown(options=['PP@HYPATIA','PP@DAINT'], description='PP CODE:', layout=l)\n",
    "bands_codename   = widgets.Dropdown(options=['BANDS@HYPATIA','BANDS@DAINT'], description='BANDS CODE:', layout=l)\n",
    "\n",
    "num_mpi_procs_per_machine = widgets.BoundedIntText(value=16, min=1, max=44, description='#cores per node', layout=l)\n",
    "nodes                     = widgets.BoundedIntText(value=1, min=1, max=20, description='#nodes', layout=l)\n",
    "max_wallclock_seconds     = widgets.BoundedIntText(value=24*60*60, min=600, max=48*60*60, description='max seconds', layout=l)\n",
    "pseudo_family             = widgets.Dropdown(options=['mypseudos','GTH','PAW'], description='pseudo family:', layout=l)\n",
    "\n",
    "box = widgets.VBox([maxkpt_bands, maxkpt_cell,maxkpt_geo,maxkpt_scf,magauto,refa0,range,delta_sts,degauss_sts,\n",
    "                    torestart,fromw,relax_pk,scf_pk,hartree_pk,bands_pk,pw_codename,hartree_codename,\n",
    "                    sts_codename,pp_codename,bands_codename,\n",
    "                    pseudo_family,\n",
    "                    num_mpi_procs_per_machine,nodes,max_wallclock_seconds])\n",
    "\n",
    "display(box)"
   ]
  },
  {
   "cell_type": "markdown",
   "metadata": {},
   "source": [
    "## Step 3: Submit calculation"
   ]
  },
  {
   "cell_type": "code",
   "execution_count": null,
   "metadata": {
    "collapsed": true
   },
   "outputs": [],
   "source": [
    "def on_click_submit(b):\n",
    "    print(\"TODO: implement job submission.\")\n",
    "\n",
    "btn_submit = widgets.Button(description=\"Submit Calculation\")\n",
    "btn_submit.on_click(on_click_submit)\n",
    "display(btn_submit)"
   ]
  },
  {
   "cell_type": "code",
   "execution_count": null,
   "metadata": {
    "collapsed": false
   },
   "outputs": [],
   "source": [
    "def submit1():\n",
    "    coordfname='fileout_from_sketch2xyz.xyz'\n",
    "\n",
    "    thegeo=read(coordfname)\n",
    "    strucformula=thegeo.get_chemical_formula()\n",
    "    struclabel=strucformula+'  '+coordfname\n",
    "\n",
    "    kpoints={}\n",
    "    kpoints  ['maxkpt_bands']     = 12\n",
    "    kpoints  ['maxkpt_cell' ]     = 3\n",
    "    kpoints  ['maxkpt_geo'  ]     = 3\n",
    "    kpoints  ['maxkpt_scf'  ]     = 6\n",
    "    kpoints  ['refa0'       ]     = 2.4608613389\n",
    "\n",
    "    sts_params = {}\n",
    "    sts_params ['range']          = 2.0\n",
    "    sts_params ['delta_sts']      = 0.05\n",
    "    sts_params ['degauss_sts']    = 0.075\n",
    "\n",
    "    res_params = {}\n",
    "    res_params ['torestart']      = False\n",
    "    res_params ['from']           = \"SCF\"\n",
    "    res_params ['relax_pk']       = 0\n",
    "    res_params ['scf_pk']         = 0\n",
    "    res_params ['hartree_pk']     = 0\n",
    "    res_params ['bands_pk']       = 0\n",
    "\n",
    "    params = {'pw_codename'              : \"PW@hypatia\",\n",
    "              'hartree_codename'         : \"PP@hypatia\",\n",
    "              'sts_codename'             : \"PP_mod@hypatia\",\n",
    "              'pp_codename'              : \"PP@hypatia\",\n",
    "              'bands_codename'           : \"bands5.2@hypatia\",\n",
    "              'num_mpiprocs_per_machine' : 16,\n",
    "              'nodes'                    : 1,\n",
    "              'max_wallclock_seconds'    : 24.0*60*60,\n",
    "              'pseudo_family'            : \"mypseudos\",\n",
    "              'struclabel'               : struclabel,\n",
    "              'strucformula'             : strucformula,\n",
    "              'inpcoord'                 : coordfname, \n",
    "              'mag_auto'                 : False,\n",
    "              'kpoints'                  : kpoints,\n",
    "              'sts'                      : sts_params,\n",
    "              'restart'                  : res_params,\n",
    "              'queue'                    : \"short\",\n",
    "              }\n",
    "\n",
    "\n"
   ]
  },
  {
   "cell_type": "code",
   "execution_count": null,
   "metadata": {
    "collapsed": false
   },
   "outputs": [],
   "source": [
    "def submit2():\n",
    "    if not params['restart']['torestart']:\n",
    "     print \"run from scratch\"\n",
    "     wf=ScananoribbonWorkflow(params=params)\n",
    "     wf.store()\n",
    "     wf.cell_opt()\n",
    "     #wf.scf()\n",
    "     #wf.bands()\n",
    "     #wf.sts()\n",
    "    else:\n",
    "     if params['restart']['fromw']=='RELAX':\n",
    "       wf=ScananoribbonWorkflow(params=params)\n",
    "       wf.store()\n",
    "       wf.relax()\n",
    "     elif params['restart']['fromw']=='SCF':\n",
    "       print \"restart from SCF using relax\" , params['restart']['relax_pk']\n",
    "       wf=ScananoribbonWorkflow(params=params)\n",
    "       wf.store()\n",
    "       wf.scf()\n",
    "     elif params['restart']['fromw']=='HARTREE':\n",
    "       print \"restart from HARTREE using \" , params['restart']['scf_pk']\n",
    "       wf=ScananoribbonWorkflow(params=params)\n",
    "       wf.store()\n",
    "       wf.plot_hartree()\n",
    "     elif params['restart']['fromw']=='BANDS':\n",
    "       print \"restart from BANDS using \" , params['restart']['scf_pk']\n",
    "       wf=ScananoribbonWorkflow(params=params)\n",
    "       wf.store()\n",
    "       wf.bands()\n",
    "     elif params['restart']['from']=='KS':\n",
    "       print \"restart from ks using \" , params['restart']['bands_pk'], params['restart']['scf_pk']\n",
    "       wf=ScananoribbonWorkflow(params=params)\n",
    "       wf.store()\n",
    "       wf.KS()\n",
    "     elif params['restart']['fromw']=='STSF':\n",
    "       wf=ScananoribbonWorkflow(params=params)\n",
    "       wf.store()\n",
    "       wf.stsf()\n",
    "     elif params['restart']['fromw']=='STSE':\n",
    "       wf=ScananoribbonWorkflow(params=params)\n",
    "       wf.store()\n",
    "       wf.stse()\n",
    "     elif params['restart']['fromw']=='TOTMAG':\n",
    "       wf=ScananoribbonWorkflow(params=params)\n",
    "       wf.store()\n",
    "       wf.totmag()\n",
    "     else:\n",
    "       print \"wrong option\"\n",
    "       sys.exit()"
   ]
  }
 ],
 "metadata": {
  "kernelspec": {
   "display_name": "Python 2",
   "language": "python",
   "name": "python2"
  },
  "language_info": {
   "codemirror_mode": {
    "name": "ipython",
    "version": 2
   },
   "file_extension": ".py",
   "mimetype": "text/x-python",
   "name": "python",
   "nbconvert_exporter": "python",
   "pygments_lexer": "ipython2",
   "version": "2.7.13"
  }
 },
 "nbformat": 4,
 "nbformat_minor": 2
}
