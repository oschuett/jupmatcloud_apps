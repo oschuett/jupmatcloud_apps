{
 "cells": [
  {
   "cell_type": "markdown",
   "metadata": {
    "deletable": true,
    "editable": true
   },
   "source": [
    "# Search AiiDA Database for Nanoribbons"
   ]
  },
  {
   "cell_type": "code",
   "execution_count": null,
   "metadata": {
    "collapsed": true,
    "deletable": true,
    "editable": true
   },
   "outputs": [],
   "source": [
    "from aiida import load_dbenv, is_dbenv_loaded\n",
    "from aiida.backends import settings\n",
    "if not is_dbenv_loaded():\n",
    "    load_dbenv(profile=settings.AIIDADB_PROFILE)\n",
    "    \n",
    "from aiida.orm.querybuilder import QueryBuilder\n",
    "from aiida.orm.data.array.bands import BandsData\n",
    "import nanoribbon\n",
    "\n",
    "import ipywidgets as widgets\n",
    "from IPython.display import display"
   ]
  },
  {
   "cell_type": "code",
   "execution_count": null,
   "metadata": {
    "collapsed": true
   },
   "outputs": [],
   "source": [
    "%%html\n",
    "\n",
    "<!-- make widget labels wider -->\n",
    "<style>\n",
    "    .widget-label { min-width: 20ex !important; }\n",
    "</style>"
   ]
  },
  {
   "cell_type": "code",
   "execution_count": null,
   "metadata": {
    "collapsed": false,
    "deletable": true,
    "editable": true,
    "scrolled": false
   },
   "outputs": [],
   "source": [
    "def search(formula_list, expr, gap_range, homo_range, lumo_range, efermi_range, totmag_range, absmag_range, pk_list, progress):\n",
    "\n",
    "        # html table header\n",
    "        html  = '<style>#aiida_results td,th {padding: 2px}</style>' \n",
    "        html += '<form action=\"compare.ipynb\" method=\"get\" target=\"_blank\">'\n",
    "        html += '<table border=1 id=\"aiida_results\" style=\"margin:10px;\"><tr>'\n",
    "        html += '<th></th>'\n",
    "        html += '<th>PK</th>'\n",
    "        html += '<th>Formula</th>'\n",
    "        html += '<th>HOMO</th>'\n",
    "        html += '<th>LUMO</th>'\n",
    "        html += '<th>GAP</th>'\n",
    "        html += '<th>Fermi Energy</th>'\n",
    "        html += '<th>Total Mag.</th>'\n",
    "        html += '<th>Abs Mag.</th>'\n",
    "        html += '<th></th>'\n",
    "        html += '</tr>'\n",
    "\n",
    "        # query AiiDA database\n",
    "        qb = QueryBuilder()\n",
    "        qb.append(BandsData)\n",
    "\n",
    "        # configure progress bar\n",
    "        progress.max = qb.count()\n",
    "\n",
    "        nmatch = 0\n",
    "        for i, node_tuple in enumerate(qb.iterall()):\n",
    "            node = node_tuple[0]\n",
    "           \n",
    "            # update progressbar, but not too often\n",
    "            if i % 5 == 0:\n",
    "                progress.value = i\n",
    "            \n",
    "            # filter PKs first (it's for free)\n",
    "            if pk_list and str(node.pk) not in pk_list:\n",
    "                continue\n",
    "\n",
    "            props = nanoribbon.get_all_properties(node)\n",
    "            \n",
    "            # filter results\n",
    "            if formula_list and props['formula'] not in formula_list:\n",
    "                continue\n",
    "            if expr and not eval(expr, props):\n",
    "                continue\n",
    "            if props['gap'] < gap_range[0] or props['gap'] > gap_range[1]:\n",
    "                continue\n",
    "            if props['homo'] < homo_range[0] or props['homo'] > homo_range[1]:\n",
    "                continue\n",
    "            if props['lumo'] < lumo_range[0] or props['lumo'] > lumo_range[1]:\n",
    "                continue\n",
    "            if props['fermi'] < efermi_range[0] or props['fermi'] > efermi_range[1]:\n",
    "                continue\n",
    "            if props['tmag'] < totmag_range[0] or props['tmag'] > totmag_range[1]:\n",
    "                continue\n",
    "            if props['amag'] < absmag_range[0] or props['amag'] > absmag_range[1]:\n",
    "                continue\n",
    "\n",
    "            nmatch += 1\n",
    "            \n",
    "            # append table row\n",
    "            html += '<tr>'\n",
    "            html += '<td><input type=\"checkbox\" name=\"pk\" value=\"%s\"></td>'%node.pk\n",
    "            html += '<td>%s</td>' % props['pk']\n",
    "            html += '<td>%s</td>' % props['formula']\n",
    "            html += '<td>%f</td>' % props['homo']\n",
    "            html += '<td>%f</td>' % props['lumo']\n",
    "            html += '<td>%f</td>' % props['gap']\n",
    "            html += '<td>%f</td>' % props['fermi']\n",
    "            html += '<td>%f</td>' % props['tmag']\n",
    "            html += '<td>%f</td>' % props['amag']\n",
    "            html += \"<td><a target='_blank' href='./show.ipynb?pk=%s'>Show</a></td>\"%node.pk\n",
    "            html += '</tr>'\n",
    "\n",
    "        html += '</table>'\n",
    "        html += 'Found %d matches among %d entries.<br>'%(nmatch, qb.count())\n",
    "        html += '<input type=\"submit\" value=\"Compare\">'\n",
    "        html += '</form>'\n",
    "        \n",
    "        return html"
   ]
  },
  {
   "cell_type": "code",
   "execution_count": null,
   "metadata": {
    "collapsed": true,
    "deletable": true,
    "editable": true
   },
   "outputs": [],
   "source": [
    "# search via criteria\n",
    "layout = widgets.Layout(width=\"592px\")\n",
    "inp_pks = widgets.Text(description='PKs', placeholder='e.g. 4062 4753 (space separated)', layout=layout)\n",
    "inp_formula = widgets.Text(description='Formulas:', placeholder='e.g. C44H16 C36H4', layout=layout)\n",
    "\n",
    "def slider(desc, min, max):\n",
    "    return widgets.FloatRangeSlider(description=desc, min=min, max=max, value=[min, max], step=0.05, layout=layout)    \n",
    "\n",
    "inp_gap = slider(\"Gap:\", 0.0, +3.0)\n",
    "inp_homo = slider(\"HOMO:\", -6.0, -3.0)\n",
    "inp_lumo = slider(\"LUMO:\", -5.0, -2.0)\n",
    "inp_efermi = slider(\"Fermi Energy:\", -6.0, -2.0)\n",
    "inp_tmagn = slider(\"Total Magn.:\", -6.0, +6.0)\n",
    "inp_amagn = slider(\"Abs. Magn.:\", 0.0, +20.0)\n",
    "search_crit = [inp_pks, inp_formula, inp_gap, inp_homo, inp_lumo, inp_efermi, inp_tmagn, inp_amagn]"
   ]
  },
  {
   "cell_type": "code",
   "execution_count": null,
   "metadata": {
    "collapsed": false,
    "deletable": true,
    "editable": true
   },
   "outputs": [],
   "source": [
    "# search via expression\n",
    "expr_example_vars = {'pk':'123', 'formula':'CH66', 'homo':0.0, 'lumo':0.0, \n",
    "                     'gap':0.0, 'fermi':0.0, 'tmag':0.0, 'amag':0.0}\n",
    "\n",
    "# # help text\n",
    "# expr_help = \"Write a valid boolean Python expression. Available variables are: <ul>\"\n",
    "# for k in expr_example_vars.keys():\n",
    "#     expr_help += \"<li>%s</li>\"%k\n",
    "# expr_help += \"</ul>\"\n",
    "\n",
    "inp_expr = widgets.Text(description='Expression:', placeholder='e.g. fermi>-4 and \"C44\" in formula', layout=layout)\n",
    "expr_valid = widgets.Valid(value=True)\n",
    "expr_row = widgets.HBox([inp_expr, expr_valid])\n",
    "search_crit.append(expr_row)\n",
    "\n",
    "def on_expr_change(change):\n",
    "    try:\n",
    "        expr = inp_expr.value\n",
    "        if(expr):\n",
    "            bool(eval(expr, expr_example_vars))\n",
    "        expr_valid.value = True\n",
    "        expr_valid.description = \"\"\n",
    "        button.disabled = False\n",
    "    except Exception as e:\n",
    "        expr_valid.value = False\n",
    "        expr_valid.description = str(e)\n",
    "        button.disabled = True\n",
    "\n",
    "inp_expr.observe(on_expr_change, names='value')"
   ]
  },
  {
   "cell_type": "code",
   "execution_count": null,
   "metadata": {
    "collapsed": false,
    "deletable": true,
    "editable": true
   },
   "outputs": [],
   "source": [
    "button = widgets.Button(description=\"Search\")\n",
    "results = widgets.HTML()\n",
    "progress = widgets.IntProgress(description='Searching...')\n",
    "progress.layout.visibility = \"hidden\"\n",
    "app = widgets.VBox(children=search_crit + [button, progress, results])"
   ]
  },
  {
   "cell_type": "code",
   "execution_count": null,
   "metadata": {
    "collapsed": false,
    "deletable": true,
    "editable": true
   },
   "outputs": [],
   "source": [
    "def on_click_search(b):\n",
    "    # turn on busy indication\n",
    "    results.value = \"\"\n",
    "    button.layout.visibility = \"hidden\"\n",
    "    progress.layout.visibility = \"visible\"\n",
    "    inp_expr.disabled = True\n",
    "    for w in search_crit:\n",
    "        w.disabled = True\n",
    "    \n",
    "    #actual search\n",
    "    results.value = search(pk_list=inp_pks.value.strip().split(),\n",
    "                           formula_list=inp_formula.value,\n",
    "                           expr=inp_expr.value,\n",
    "                           gap_range=inp_gap.value,\n",
    "                           homo_range=inp_homo.value,\n",
    "                           lumo_range=inp_lumo.value,\n",
    "                           efermi_range=inp_efermi.value,\n",
    "                           totmag_range=inp_tmagn.value,\n",
    "                           absmag_range=inp_amagn.value,\n",
    "                           progress=progress)\n",
    "    \n",
    "    # turn off busy indication\n",
    "    progress.layout.visibility = \"hidden\"\n",
    "    button.layout.visibility = \"visible\"\n",
    "    inp_expr.disabled = False\n",
    "    for w in search_crit:\n",
    "        w.disabled = False\n",
    "    \n",
    "# register event handler\n",
    "button.on_click(on_click_search)"
   ]
  },
  {
   "cell_type": "code",
   "execution_count": null,
   "metadata": {
    "collapsed": false,
    "deletable": true,
    "editable": true
   },
   "outputs": [],
   "source": [
    "display(app)"
   ]
  }
 ],
 "metadata": {
  "kernelspec": {
   "display_name": "Python 2",
   "language": "python",
   "name": "python2"
  },
  "language_info": {
   "codemirror_mode": {
    "name": "ipython",
    "version": 2
   },
   "file_extension": ".py",
   "mimetype": "text/x-python",
   "name": "python",
   "nbconvert_exporter": "python",
   "pygments_lexer": "ipython2",
   "version": "2.7.13"
  }
 },
 "nbformat": 4,
 "nbformat_minor": 2
}
