{
 "cells": [
  {
   "cell_type": "markdown",
   "metadata": {},
   "source": [
    "# Detailed Report"
   ]
  },
  {
   "cell_type": "code",
   "execution_count": 1,
   "metadata": {},
   "outputs": [],
   "source": [
    "from aiida import load_dbenv, is_dbenv_loaded\n",
    "from aiida.backends import settings\n",
    "if not is_dbenv_loaded():\n",
    "    load_dbenv(profile=settings.AIIDADB_PROFILE)\n",
    "\n",
    "from aiida.orm import load_node\n",
    "from aiida.orm.querybuilder import QueryBuilder\n",
    "from aiida.orm.calculation.work import WorkCalculation\n",
    "from aiida.orm.calculation.job.quantumespresso.pw import PwCalculation\n",
    "from aiida.orm.calculation.job.quantumespresso.pp import PpCalculation\n",
    "\n",
    "import numpy as np\n",
    "import bqplot as bq\n",
    "import ipywidgets as ipw\n",
    "from IPython.display import display, clear_output\n",
    "import re\n",
    "import gzip\n",
    "import matplotlib.pyplot as plt\n",
    "from collections import OrderedDict\n",
    "import urlparse"
   ]
  },
  {
   "cell_type": "code",
   "execution_count": 2,
   "metadata": {},
   "outputs": [],
   "source": [
    "def get_calc_by_label(workcalc, calc_class, label):\n",
    "    qb = QueryBuilder()\n",
    "    qb.append(WorkCalculation, filters={'uuid':workcalc.uuid})\n",
    "    qb.append(calc_class, output_of=WorkCalculation, filters={'label':label})\n",
    "    assert qb.count() == 1\n",
    "    calc = qb.first()[0]\n",
    "    assert(calc.get_state() == 'FINISHED')\n",
    "    return calc"
   ]
  },
  {
   "cell_type": "code",
   "execution_count": 8,
   "metadata": {},
   "outputs": [],
   "source": [
    "url = urlparse.urlsplit(jupyter_notebook_url)\n",
    "#pk = urlparse.parse_qs(url.query)['pk'][0]\n",
    "pk = 513\n",
    "workcalc = load_node(pk=int(pk))\n",
    "\n",
    "bands_calc = get_calc_by_label(workcalc, PwCalculation, \"bands\")\n",
    "orbitals_calc = get_calc_by_label(workcalc, PpCalculation, \"export_orbitals\")\n",
    "bands = bands_calc.out.output_band.get_bands()\n",
    "structure = bands_calc.inp.structure\n",
    "nspins, nkpoints, nbands = bands.shape\n",
    "\n",
    "fermi_energy = workcalc.get_extra('fermi_energy')\n",
    "vacuum_level = workcalc.get_extra('vacuum_level')\n",
    "homo = workcalc.get_extra('homo')\n",
    "lumo = workcalc.get_extra('lumo')\n",
    "gap = workcalc.get_extra('gap')"
   ]
  },
  {
   "cell_type": "code",
   "execution_count": 115,
   "metadata": {},
   "outputs": [],
   "source": [
    "def plot_spin(ispin):\n",
    "    \n",
    "    center = (homo + lumo)/2.0\n",
    "    x_sc = bq.LinearScale()\n",
    "    y_sc = bq.LinearScale(max=center+3.0, min=center-3.0)\n",
    "    \n",
    "    color_sc = bq.ColorScale(colors=['gray', 'red'], min=0.0, max=1.0)\n",
    "    colors = np.zeros(nbands)\n",
    "    \n",
    "    ax_x = bq.Axis(label='X', scale=x_sc, grid_lines='solid', num_ticks=4)\n",
    "    ax_y = bq.Axis(label='Y', scale=y_sc, orientation='vertical', grid_lines='solid')\n",
    "\n",
    "    x_data = np.linspace(0, 0.5, nkpoints)\n",
    "    y_datas = bands[ispin,:,:].transpose() - vacuum_level\n",
    "    \n",
    "    lines = bq.Lines(x=x_data, y=y_datas, color=colors, animate=True,\n",
    "                     scales={'x': x_sc, 'y': y_sc, 'color': color_sc})\n",
    "\n",
    "    ratio = 0.25\n",
    "    layout = ipw.Layout(height=\"800px\", width=\"200px\")\n",
    "    \n",
    "    m_fig = dict(left=30, top=60, bottom=60, right=30)\n",
    "    fig = bq.Figure(axes=[ax_x, ax_y], marks=[lines], title='Spin %i'%ispin, \n",
    "                    layout=layout, fig_margin=m_fig,\n",
    "                    min_aspect_ratio=ratio, max_aspect_ratio=ratio)\n",
    "\n",
    "    #fig.layout.margin = \"0px\"\n",
    "    \n",
    "    def print_event(self, target):\n",
    "        global selected_spin, selected_band \n",
    "        selected_spin = ispin\n",
    "        selected_band = target['data']['index']\n",
    "        on_selection_change()\n",
    "        \n",
    "            \n",
    "    #lines.on_element_click(print_event)\n",
    "    lines.on_hover(print_event)\n",
    "\n",
    "    #lines.interactions = {'click': 'tooltip'}\n",
    "    #fig.fig_margin = {'top': 60, 'right': 20, 'bottom': 60, 'left': 20}\n",
    "    save_btn = ipw.Button(description=\"Download png\")\n",
    "    save_btn.on_click(lambda b: fig.save_png())\n",
    "    layout = ipw.Layout(align_items=\"center\", padding=\"0px\", margin=\"0px\")\n",
    "    box = ipw.VBox([fig, save_btn], layout=layout)\n",
    "    return box, lines"
   ]
  },
  {
   "cell_type": "code",
   "execution_count": 109,
   "metadata": {},
   "outputs": [],
   "source": [
    "def read_cube(fn):\n",
    "    lines = gzip.open(fn).readlines()\n",
    "    header = np.fromstring(\"\".join(lines[2:6]), sep=' ').reshape(4,4)\n",
    "    #print(header)\n",
    "    natoms, nx, ny, nz = header[:,0].astype(int)\n",
    "    z0 = header[0,3] # z origin z origin\n",
    "    dz = header[3,3] # z step size\n",
    "    cube = np.fromstring(\"\".join(lines[natoms+6:]), sep=' ').reshape(nx, ny, nz)\n",
    "    return(cube, z0, dz)"
   ]
  },
  {
   "cell_type": "code",
   "execution_count": 110,
   "metadata": {},
   "outputs": [],
   "source": [
    "def on_selection_change():\n",
    "    global selected_cube_files\n",
    "    with info_out:\n",
    "        clear_output()\n",
    "        print(\"selected spin: %d\"%selected_spin)\n",
    "        print(\"selected band: %d\"%selected_band)\n",
    "\n",
    "        colors = np.zeros((nspins, nbands))\n",
    "        colors[selected_spin, selected_band] = 1.0\n",
    "        lines0.color = colors[0,:]\n",
    "        lines1.color = colors[1,:]\n",
    "        #orbitals_calc.out.retrieved.get_folder_list()\n",
    "        \n",
    "        lower = nkpoints * selected_spin\n",
    "        upper = lower + nkpoints\n",
    "        selected_cube_files = []\n",
    "        for fn in sorted(orbitals_calc.out.retrieved.get_folder_list()):\n",
    "            m = re.match(\"aiida.filplot_K(\\d\\d\\d)_B(\\d\\d\\d)_orbital.cube.gz\", fn)\n",
    "            if not m:\n",
    "                continue\n",
    "            k, b = int(m.group(1)), int(m.group(2))\n",
    "            if b != selected_band:\n",
    "                continue\n",
    "            if lower < k and k < upper:\n",
    "                selected_cube_files.append(fn)\n",
    "\n",
    "        n = len(selected_cube_files)\n",
    "        kpoint_slider.max = max(n, 1)\n",
    "        print(\"found %d cube files\"%n)\n",
    "        on_kpoint_change(None)    "
   ]
  },
  {
   "cell_type": "code",
   "execution_count": 111,
   "metadata": {},
   "outputs": [],
   "source": [
    "def on_kpoint_change(c):\n",
    "    global selected_cube\n",
    "    with kpnt_out:\n",
    "        clear_output()\n",
    "        i = kpoint_slider.value\n",
    "        if i > len(selected_cube_files):\n",
    "            print(\"Found no cube files\")\n",
    "            selected_cube = None\n",
    "            height_slider.options = {\"---\":0}\n",
    "            \n",
    "        else:    \n",
    "            fn = selected_cube_files[i-1]\n",
    "            print(fn)\n",
    "            absfn = orbitals_calc.out.retrieved.get_abs_path(fn)\n",
    "            selected_cube, z0, dz = read_cube(absfn)\n",
    "            nz = selected_cube.shape[2]\n",
    "        \n",
    "            zmid = structure.cell_lengths[2] / 2.0\n",
    "            options = OrderedDict()\n",
    "            for i in range(nz):\n",
    "                z = (z0 + dz*i) * 0.529177 - zmid\n",
    "                options[u\"%.3f Å\"%z] = i\n",
    "            height_slider.options = options\n",
    "        \n",
    "        on_height_change(None)"
   ]
  },
  {
   "cell_type": "code",
   "execution_count": 112,
   "metadata": {},
   "outputs": [],
   "source": [
    "def on_height_change(c):\n",
    "    with orb_out:\n",
    "        clear_output()\n",
    "        if selected_cube is None:\n",
    "            return\n",
    "        plt.gcf().dpi=150.0\n",
    "        z = height_slider.value\n",
    "        plt.imshow(selected_cube[:,:,z].transpose())\n",
    "        #plt.colorbar()\n",
    "        plt.show()"
   ]
  },
  {
   "cell_type": "code",
   "execution_count": 114,
   "metadata": {},
   "outputs": [
    {
     "name": "stdout",
     "output_type": "stream",
     "text": [
      "{'top': 60, 'right': 30, 'bottom': 60, 'left': 30}\n",
      "{'top': 60, 'right': 30, 'bottom': 60, 'left': 30}\n"
     ]
    },
    {
     "data": {
      "application/vnd.jupyter.widget-view+json": {
       "model_id": "534bd11ba16943288cfdeafe54d32624",
       "version_major": 2,
       "version_minor": 0
      },
      "text/plain": [
       "A Jupyter Widget"
      ]
     },
     "metadata": {},
     "output_type": "display_data"
    }
   ],
   "source": [
    "box0, lines0 = plot_spin(0)\n",
    "box1, lines1 = plot_spin(1)\n",
    "\n",
    "info_out = ipw.Output()\n",
    "kpnt_out = ipw.Output()\n",
    "orb_out = ipw.Output()\n",
    "\n",
    "layout = ipw.Layout(width=\"400px\")\n",
    "kpoint_slider = ipw.IntSlider(description=\"k-point\", min=1, max=1, layout=layout)\n",
    "kpoint_slider.observe(on_kpoint_change, names='value')\n",
    "\n",
    "height_slider = ipw.SelectionSlider(description=\"height\", options={\"---\":0}, layout=layout)\n",
    "height_slider.observe(on_height_change, names='value')\n",
    "\n",
    "layout = ipw.Layout(align_items=\"center\")\n",
    "side_box = ipw.VBox([info_out, kpoint_slider, height_slider, kpnt_out, orb_out], layout=layout)\n",
    "display(ipw.HBox([box0, box1, side_box]))"
   ]
  }
 ],
 "metadata": {
  "kernelspec": {
   "display_name": "Python 2",
   "language": "python",
   "name": "python2"
  },
  "language_info": {
   "codemirror_mode": {
    "name": "ipython",
    "version": 2
   },
   "file_extension": ".py",
   "mimetype": "text/x-python",
   "name": "python",
   "nbconvert_exporter": "python",
   "pygments_lexer": "ipython2",
   "version": "2.7.13"
  }
 },
 "nbformat": 4,
 "nbformat_minor": 2
}
