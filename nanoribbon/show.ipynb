{
 "cells": [
  {
   "cell_type": "markdown",
   "metadata": {},
   "source": [
    "# Detailed Report"
   ]
  },
  {
   "cell_type": "code",
   "execution_count": null,
   "metadata": {
    "collapsed": true
   },
   "outputs": [],
   "source": [
    "import urlparse\n",
    "url = urlparse.urlsplit(jupyter_notebook_url)\n",
    "pk = urlparse.parse_qs(url.query)['pk'][0] # WorkCalculation"
   ]
  },
  {
   "cell_type": "code",
   "execution_count": null,
   "metadata": {
    "collapsed": true
   },
   "outputs": [],
   "source": [
    "from aiida import load_dbenv, is_dbenv_loaded\n",
    "from aiida.backends import settings\n",
    "if not is_dbenv_loaded():\n",
    "    load_dbenv(profile=settings.AIIDADB_PROFILE)"
   ]
  },
  {
   "cell_type": "code",
   "execution_count": null,
   "metadata": {
    "collapsed": true
   },
   "outputs": [],
   "source": [
    "%matplotlib inline\n",
    "from aiida.orm.data.remote import RemoteData\n",
    "from aiida.orm import load_node\n",
    "import nanoribbon\n",
    "\n",
    "import matplotlib.pyplot as plt\n",
    "import matplotlib.image as image\n",
    "from glob import glob\n",
    "from os import path\n",
    "import re\n",
    "import numpy as np\n",
    "import gzip\n",
    "\n",
    "import ipywidgets as ipw\n",
    "from IPython.display import display, clear_output"
   ]
  },
  {
   "cell_type": "code",
   "execution_count": null,
   "metadata": {
    "collapsed": true
   },
   "outputs": [],
   "source": [
    "def read_cube(fn):\n",
    "    lines = gzip.open(fn).readlines()\n",
    "    header = np.fromstring(\"\".join(lines[2:6]), sep=' ').reshape(4,4)\n",
    "    natoms, nx, ny, nz = header[:,0].astype(int)\n",
    "    cube = np.fromstring(\"\".join(lines[natoms+6:]), sep=' ').reshape(nx, ny, nz)\n",
    "    return(cube)"
   ]
  },
  {
   "cell_type": "markdown",
   "metadata": {},
   "source": [
    "## Kohn Sham Orbitals"
   ]
  },
  {
   "cell_type": "code",
   "execution_count": null,
   "metadata": {
    "collapsed": true
   },
   "outputs": [],
   "source": [
    "node = load_node(pk=int(pk))\n",
    "all_orbitals = [fn for fn in node.out.hartree.get_folder_list() if fn.endswith(\"_orbital.cube.gz\")]\n",
    "\n",
    "def on_orb_change(c):\n",
    "    global cube\n",
    "    fn = node.out.hartree.get_abs_path(orb_select.value)\n",
    "    cube = read_cube(fn)\n",
    "    height_slider.max=cube.shape[2]-1\n",
    "    on_height_change(None)\n",
    "\n",
    "orb_select = ipw.Dropdown(options=all_orbitals, description=\"Orbitals\")\n",
    "orb_select.observe(on_orb_change, names='value')\n",
    "display(orb_select)"
   ]
  },
  {
   "cell_type": "code",
   "execution_count": null,
   "metadata": {
    "collapsed": true
   },
   "outputs": [],
   "source": [
    "def on_height_change(c):\n",
    "    with plt_out:\n",
    "        clear_output()\n",
    "        z = height_slider.value\n",
    "        plt.gcf().dpi=100.0\n",
    "        plt.imshow(cube[:,:,z])\n",
    "        plt.colorbar()\n",
    "        plt.show()\n",
    "\n",
    "height_slider = ipw.IntSlider(description=\"Height\", min=0, max=1, continuous_update=False)   \n",
    "height_slider.observe(on_height_change, names='value')\n",
    "plt_out = ipw.Output()\n",
    "display(height_slider, plt_out)\n",
    "\n",
    "on_orb_change(None)"
   ]
  },
  {
   "cell_type": "code",
   "execution_count": null,
   "metadata": {
    "collapsed": true
   },
   "outputs": [],
   "source": [
    "# node = load_node(pk=int(pk))\n",
    "# bands_calc_obj, scf_calc_obj, hartree_calc_obj, struct = nanoribbon.get_calc_obj(node)\n",
    "# remote_datas = [i for i in bands_calc_obj.get_outputs() if isinstance(i, RemoteData)]\n",
    "# assert(len(remote_datas)==1)\n",
    "# remote_data = remote_datas[0]"
   ]
  },
  {
   "cell_type": "code",
   "execution_count": null,
   "metadata": {
    "collapsed": true
   },
   "outputs": [],
   "source": [
    "#fig, ax = plt.subplots(figsize=(5,5))\n",
    "#nanoribbon.plot_thumbnail(ax, struct.get_ase())"
   ]
  },
  {
   "cell_type": "code",
   "execution_count": null,
   "metadata": {
    "collapsed": true
   },
   "outputs": [],
   "source": [
    "# def build_img_view(remote_data, label, description):\n",
    "#     nodes = [ i for i in remote_data.get_outputs() if i.label.endswith(label)]\n",
    "#     if(len(nodes)!=1):\n",
    "#         print(\"Node for %s not found\"%description)\n",
    "#         return\n",
    "\n",
    "#     png_dir = nodes[0].out.retrieved.get_abs_path()+'/path'\n",
    "#     allpngs = glob(png_dir+'/*.png')\n",
    "\n",
    "#     def on_change(c):\n",
    "#         clear_output()\n",
    "#         if \"Please select\" in dropdown.value:\n",
    "#             return\n",
    "#         s = 5 if checkbox.value else 10\n",
    "#         fig, ax = plt.subplots(figsize=(s,s))\n",
    "#         ax.xaxis.set_visible(False)\n",
    "#         ax.yaxis.set_visible(False)\n",
    "#         fn = png_dir + \"/\" + dropdown.value\n",
    "#         img = image.imread(fn)\n",
    "#         ax.imshow(img)\n",
    "\n",
    "#     options = [\"Please select\"] + [path.basename(fn) for fn in allpngs]\n",
    "#     dropdown = widgets.Dropdown(options=options, description=description)\n",
    "#     checkbox = widgets.Checkbox(value=True, description='thumbnail')\n",
    "\n",
    "#     dropdown.observe(on_change, names='value')\n",
    "#     checkbox.observe(on_change, names='value')\n",
    "#     display(widgets.HBox([dropdown,checkbox]))"
   ]
  },
  {
   "cell_type": "code",
   "execution_count": null,
   "metadata": {
    "collapsed": true
   },
   "outputs": [],
   "source": [
    "#build_img_view(remote_data, \" KS\", \"KS Figure\")"
   ]
  },
  {
   "cell_type": "code",
   "execution_count": null,
   "metadata": {
    "collapsed": true
   },
   "outputs": [],
   "source": [
    "#build_img_view(remote_data, \" STS FILLED\", \"STS Filled\")"
   ]
  },
  {
   "cell_type": "code",
   "execution_count": null,
   "metadata": {
    "collapsed": true
   },
   "outputs": [],
   "source": [
    "#build_img_view(remote_data, \" STS EMPTY\", \"STS Empty\")"
   ]
  }
 ],
 "metadata": {
  "kernelspec": {
   "display_name": "Python 2",
   "language": "python",
   "name": "python2"
  },
  "language_info": {
   "codemirror_mode": {
    "name": "ipython",
    "version": 2
   },
   "file_extension": ".py",
   "mimetype": "text/x-python",
   "name": "python",
   "nbconvert_exporter": "python",
   "pygments_lexer": "ipython2",
   "version": "2.7.13"
  }
 },
 "nbformat": 4,
 "nbformat_minor": 2
}
