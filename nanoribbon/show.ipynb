{
 "cells": [
  {
   "cell_type": "markdown",
   "metadata": {
    "deletable": true,
    "editable": true
   },
   "source": [
    "# Detailed Report"
   ]
  },
  {
   "cell_type": "code",
   "execution_count": null,
   "metadata": {
    "collapsed": false,
    "deletable": true,
    "editable": true
   },
   "outputs": [],
   "source": [
    "import urlparse\n",
    "url = urlparse.urlsplit(jupyter_notebook_url)\n",
    "pk = urlparse.parse_qs(url.query)['pk'][0]"
   ]
  },
  {
   "cell_type": "code",
   "execution_count": null,
   "metadata": {
    "collapsed": true,
    "deletable": true,
    "editable": true
   },
   "outputs": [],
   "source": [
    "from aiida import load_dbenv, is_dbenv_loaded\n",
    "from aiida.backends import settings\n",
    "if not is_dbenv_loaded():\n",
    "    load_dbenv(profile=settings.AIIDADB_PROFILE)"
   ]
  },
  {
   "cell_type": "code",
   "execution_count": null,
   "metadata": {
    "collapsed": true,
    "deletable": true,
    "editable": true
   },
   "outputs": [],
   "source": [
    "%matplotlib inline\n",
    "from aiida.orm.data.remote import RemoteData\n",
    "from aiida.orm import load_node\n",
    "import nanoribbon\n",
    "\n",
    "import matplotlib.pyplot as plt\n",
    "import matplotlib.image as image\n",
    "from glob import glob\n",
    "from os import path\n",
    "import re\n",
    "\n",
    "import ipywidgets as widgets\n",
    "from IPython.display import display, clear_output"
   ]
  },
  {
   "cell_type": "code",
   "execution_count": null,
   "metadata": {
    "collapsed": false,
    "deletable": true,
    "editable": true
   },
   "outputs": [],
   "source": [
    "node = load_node(pk=int(pk))\n",
    "bands_calc_obj, scf_calc_obj, hartree_calc_obj, struct = nanoribbon.get_calc_obj(node)\n",
    "remote_datas = [i for i in bands_calc_obj.get_outputs() if isinstance(i, RemoteData)]\n",
    "assert(len(remote_datas)==1)\n",
    "remote_data = remote_datas[0]"
   ]
  },
  {
   "cell_type": "code",
   "execution_count": null,
   "metadata": {
    "collapsed": false,
    "deletable": true,
    "editable": true
   },
   "outputs": [],
   "source": [
    "fig, ax = plt.subplots(figsize=(5,5))\n",
    "nanoribbon.plot_thumbnail(ax, struct.get_ase())"
   ]
  },
  {
   "cell_type": "code",
   "execution_count": null,
   "metadata": {
    "collapsed": false,
    "deletable": true,
    "editable": true
   },
   "outputs": [],
   "source": [
    "def build_img_view(remote_data, label, description):\n",
    "    nodes = [ i for i in remote_data.get_outputs() if i.label.endswith(label)]\n",
    "    if(len(nodes)!=1):\n",
    "        print(\"Node for %s not found\"%description)\n",
    "        return\n",
    "\n",
    "    png_dir = nodes[0].out.retrieved.get_abs_path()+'/path'\n",
    "    allpngs = glob(png_dir+'/*.png')\n",
    "\n",
    "    def on_change(c):\n",
    "        clear_output()\n",
    "        if \"Please select\" in dropdown.value:\n",
    "            return\n",
    "        s = 5 if checkbox.value else 10\n",
    "        fig, ax = plt.subplots(figsize=(s,s))\n",
    "        ax.xaxis.set_visible(False)\n",
    "        ax.yaxis.set_visible(False)\n",
    "        fn = png_dir + \"/\" + dropdown.value\n",
    "        img = image.imread(fn)\n",
    "        ax.imshow(img)\n",
    "\n",
    "    options = [\"Please select\"] + [path.basename(fn) for fn in allpngs]\n",
    "    dropdown = widgets.Dropdown(options=options, description=description)\n",
    "    checkbox = widgets.Checkbox(value=True, description='thumbnail')\n",
    "\n",
    "    dropdown.observe(on_change, names='value')\n",
    "    checkbox.observe(on_change, names='value')\n",
    "    display(widgets.HBox([dropdown,checkbox]))"
   ]
  },
  {
   "cell_type": "code",
   "execution_count": null,
   "metadata": {
    "collapsed": false,
    "deletable": true,
    "editable": true
   },
   "outputs": [],
   "source": [
    "build_img_view(remote_data, \" KS\", \"KS Figure\")"
   ]
  },
  {
   "cell_type": "code",
   "execution_count": null,
   "metadata": {
    "collapsed": false,
    "deletable": true,
    "editable": true
   },
   "outputs": [],
   "source": [
    "build_img_view(remote_data, \" STS FILLED\", \"STS Filled\")"
   ]
  },
  {
   "cell_type": "code",
   "execution_count": null,
   "metadata": {
    "collapsed": false,
    "deletable": true,
    "editable": true
   },
   "outputs": [],
   "source": [
    "build_img_view(remote_data, \" STS EMPTY\", \"STS Empty\")"
   ]
  }
 ],
 "metadata": {
  "kernelspec": {
   "display_name": "Python 2",
   "language": "python",
   "name": "python2"
  },
  "language_info": {
   "codemirror_mode": {
    "name": "ipython",
    "version": 2
   },
   "file_extension": ".py",
   "mimetype": "text/x-python",
   "name": "python",
   "nbconvert_exporter": "python",
   "pygments_lexer": "ipython2",
   "version": "2.7.13"
  }
 },
 "nbformat": 4,
 "nbformat_minor": 2
}
