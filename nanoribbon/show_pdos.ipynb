{
 "cells": [
  {
   "cell_type": "markdown",
   "metadata": {},
   "source": [
    "# Projected Density of States"
   ]
  },
  {
   "cell_type": "code",
   "execution_count": null,
   "metadata": {},
   "outputs": [],
   "source": [
    "from aiida import load_dbenv, is_dbenv_loaded\n",
    "from aiida.backends import settings\n",
    "if not is_dbenv_loaded():\n",
    "    load_dbenv(profile=settings.AIIDADB_PROFILE)\n",
    "    \n",
    "from aiida.orm import load_node\n",
    "from aiida.orm.querybuilder import QueryBuilder\n",
    "from aiida.orm.calculation.work import WorkCalculation\n",
    "from aiida.orm.calculation.job.JobCalculation\n",
    "\n",
    "import re\n",
    "import urlparse\n",
    "import numpy as np\n",
    "from xml.etree import ElementTree\n",
    "import matplotlib.pyplot as plt\n",
    "import ipywidgets as ipw\n",
    "from IPython.display import clear_output\n",
    "import nglview"
   ]
  },
  {
   "cell_type": "code",
   "execution_count": null,
   "metadata": {},
   "outputs": [],
   "source": [
    "def get_calc_by_label(workcalc, label):\n",
    "    qb = QueryBuilder()\n",
    "    qb.append(WorkCalculation, filters={'uuid':workcalc.uuid})\n",
    "    qb.append(JobCalculation, output_of=WorkCalculation, filters={'label':label})\n",
    "    assert qb.count() == 1\n",
    "    calc = qb.first()[0]\n",
    "    assert(calc.get_state() == 'FINISHED')\n",
    "    return calc"
   ]
  },
  {
   "cell_type": "code",
   "execution_count": null,
   "metadata": {},
   "outputs": [],
   "source": [
    "url = urlparse.urlsplit(jupyter_notebook_url)\n",
    "params = urlparse.parse_qs(url.query)\n",
    "pk = urlparse.parse_qs(url.query)['pk'][0]\n",
    "\n",
    "workcalc = load_node(pk=int(pk))\n",
    "vacuum_level = workcalc.get_extra('vacuum_level')\n",
    "homo = workcalc.get_extra('homo')\n",
    "lumo = workcalc.get_extra('lumo')\n",
    "\n",
    "pdos_calc = get_calc_by_label(workcalc, \"export_pdos\")\n",
    "bands_calc = get_calc_by_label(workcalc, \"bands\")\n",
    "structure = bands_calc.inp.structure\n",
    "ase_struct = structure.get_ase()\n",
    "natoms = len(ase_struct)\n",
    "\n",
    "bands = bands_calc.out.output_band.get_bands()\n",
    "if bands.ndim == 2:\n",
    "    bands = bands[None,:,:]"
   ]
  },
  {
   "cell_type": "code",
   "execution_count": null,
   "metadata": {},
   "outputs": [],
   "source": [
    "fn = pdos_calc.out.retrieved.get_abs_path('atomic_proj.xml')\n",
    "root = ElementTree.parse(fn).getroot()\n",
    "nbands = int(root.find('HEADER/NUMBER_OF_BANDS').text)\n",
    "nkpoints = int(root.find('HEADER/NUMBER_OF_K-POINTS').text)\n",
    "nspins = int(root.find('HEADER/NUMBER_OF_SPIN_COMPONENTS').text)\n",
    "natwfcs = int(root.find('HEADER/NUMBER_OF_ATOMIC_WFC').text)"
   ]
  },
  {
   "cell_type": "code",
   "execution_count": null,
   "metadata": {},
   "outputs": [],
   "source": [
    "# kpoint weights\n",
    "kpoint_weights = np.fromstring(root.find('WEIGHT_OF_K-POINTS').text, sep=' ')"
   ]
  },
  {
   "cell_type": "code",
   "execution_count": null,
   "metadata": {},
   "outputs": [],
   "source": [
    "# eigenvalues\n",
    "eigvalues = np.zeros((nspins, nbands, nkpoints))\n",
    "for i in range(nspins):\n",
    "    for k in range(nkpoints):\n",
    "        arr = np.fromstring(root.find('EIGENVALUES/K-POINT.%d/EIG.%s'%(k+1, i+1)).text, sep='\\n')\n",
    "        eigvalues[i, :, k] = arr * 13.60569806589 - vacuum_level # convert Ry to eV"
   ]
  },
  {
   "cell_type": "code",
   "execution_count": null,
   "metadata": {},
   "outputs": [],
   "source": [
    "# projections\n",
    "projections = np.zeros((nspins, nbands, nkpoints, natwfcs))\n",
    "for i in range(nspins):\n",
    "    for k in range(nkpoints):\n",
    "        for l in range(natwfcs):\n",
    "            raw = root.find('PROJECTIONS/K-POINT.%d/SPIN.%d/ATMWFC.%d'%(k+1, i+1, l+1)).text\n",
    "            arr = np.fromstring(raw.replace(\",\", \"\\n\"), sep=\"\\n\")\n",
    "            arr2 = arr.reshape(nbands, 2) # group real and imaginary part together\n",
    "            arr3 = np.sum(np.square(arr2), axis=1) # calculate square of abs value\n",
    "            projections[i, :, k, l] = arr3"
   ]
  },
  {
   "cell_type": "code",
   "execution_count": null,
   "metadata": {},
   "outputs": [],
   "source": [
    "# parse mapping atomic functions -> atoms\n",
    "# example:     state #   2: atom   1 (C  ), wfc  2 (l=1 m= 1)\n",
    "\n",
    "fn = pdos_calc.out.retrieved.get_abs_path('aiida.out')\n",
    "content = open(fn).read()\n",
    "m = re.findall(\"\\n\\s+state #\\s*(\\d+): atom\\s*(\\d+) \", content, re.DOTALL)\n",
    "atmwfc2atom = dict([(int(i), int(j)) for i,j in m])\n",
    "assert len(atmwfc2atom) == natwfcs\n",
    "assert len(set(atmwfc2atom.values())) == natoms"
   ]
  },
  {
   "cell_type": "code",
   "execution_count": null,
   "metadata": {},
   "outputs": [],
   "source": [
    "def w0gauss(x,n):\n",
    "    arg = np.minimum(200.0, x**2)\n",
    "    w0gauss = np.exp ( - arg) / np.sqrt(np.pi)\n",
    "    if n==0 :\n",
    "        return w0gauss\n",
    "    hd = 0.0\n",
    "    hp = np.exp( - arg)\n",
    "    ni = 0\n",
    "    a = 1.0 / np.sqrt(np.pi)\n",
    "    for i in range(1, n+1):\n",
    "        hd = 2.0 * x * hp - 2.0 * ni * hd\n",
    "        ni = ni + 1\n",
    "        a = - a / (i * 4.0)\n",
    "        hp = 2.0 * x * hd-2.0 * ni * hp\n",
    "        ni = ni + 1\n",
    "        w0gauss = w0gauss + a * hp\n",
    "    return w0gauss"
   ]
  },
  {
   "cell_type": "code",
   "execution_count": null,
   "metadata": {},
   "outputs": [],
   "source": [
    "def calc_pdos(sigma, ngauss, Emin, Emax, atmwfcs):\n",
    "    DeltaE = 0.01\n",
    "    x = np.arange(Emin,Emax,DeltaE)\n",
    "    \n",
    "    # calculate histogram for all spins, bands, and kpoints in parallel\n",
    "    xx = np.tile(x[:, None, None, None], (1, nspins, nbands, nkpoints))\n",
    "    arg = (xx - eigvalues) / sigma\n",
    "    delta = w0gauss(arg, n=ngauss) / sigma\n",
    "    \n",
    "    if atmwfcs:\n",
    "        p = np.sum(projections[:,:,:,atmwfcs], axis=3) # sum over selected atmwfcs\n",
    "    else:\n",
    "        p = np.sum(projections, axis=3) # sum overa all atmwfcs\n",
    "\n",
    "    c = delta * p * kpoint_weights\n",
    "    y = np.sum(c, axis=(2,3)) # sum over bands and kpoints\n",
    "    \n",
    "    return x, y"
   ]
  },
  {
   "cell_type": "code",
   "execution_count": null,
   "metadata": {},
   "outputs": [],
   "source": [
    "def plot_pdos(ax, pdos, ispin):\n",
    "    x, y = pdos\n",
    "    ax.plot(y[:,ispin], x) # vertical plot\n",
    "    ax.set_xlim(0, 1.1*np.amax(y))\n",
    "    ax.set_xlabel('abitrary unit')"
   ]
  },
  {
   "cell_type": "code",
   "execution_count": null,
   "metadata": {},
   "outputs": [],
   "source": [
    "def plot_bands(ax, ispin):\n",
    "    nspins, nkpoints, nbands = bands.shape\n",
    "    \n",
    "    ax.set_title(\"Spin %d\"%ispin)\n",
    "    ax.set_xlabel('$k\\AA^{-1}$')\n",
    "    ax.axhline(y=homo, linewidth=2, color='red', ls='--')\n",
    "\n",
    "    # plot bands\n",
    "    Lx = structure.cell_lengths[0]\n",
    "    x_max = np.pi / Lx\n",
    "    x_data = np.linspace(0.0, x_max, nkpoints)\n",
    "    y_datas = bands[ispin,:,:] - vacuum_level\n",
    "\n",
    "    ax.set_xlim(0, x_max)\n",
    "    for j in range(nbands):\n",
    "        ax.plot(x_data, y_datas[:,j], color='gray')"
   ]
  },
  {
   "cell_type": "code",
   "execution_count": null,
   "metadata": {},
   "outputs": [],
   "source": [
    "def plot_all():\n",
    "    # collect all atmwfc located on selected atoms\n",
    "    if selected_atoms:\n",
    "        atmwfcs = [k-1 for k, v in atmwfc2atom.items() if v-1 in selected_atoms]\n",
    "        print(\"Selected atmwfcs: \"+str(atmwfcs))\n",
    "    else:\n",
    "        print(\"No atom selected - showing full PDOS\")\n",
    "        atmwfcs = None # all\n",
    "        \n",
    "    sigma = sigma_slider.value\n",
    "    ngauss = ngauss_slider.value\n",
    "\n",
    "    fig = plt.figure()\n",
    "    fig.set_size_inches(12, 16)\n",
    "    sharey = None\n",
    "    center = (homo + lumo)/2.0\n",
    "    Emin, Emax = center-3.0, center+3.0\n",
    "    pdos = calc_pdos(ngauss=ngauss, sigma=sigma, Emin=Emin, Emax=Emax, atmwfcs=atmwfcs)\n",
    "    \n",
    "    for ispin in range(nspins):\n",
    "        # band plot\n",
    "        ax1 = fig.add_subplot(1, 4, 2*ispin+1, sharey=sharey)\n",
    "        if not sharey:\n",
    "            ax1.set_ylabel('E(eV)')\n",
    "            sharey = ax1\n",
    "        else:\n",
    "            ax1.tick_params(axis='y', which='both',left='on',right='off', labelleft='off')\n",
    "        plot_bands(ax=ax1, ispin=ispin)\n",
    "\n",
    "        # pdos plot\n",
    "        ax2 = fig.add_subplot(1, 4, 2*ispin+2, sharey=sharey)\n",
    "        ax2.tick_params(axis='y', which='both',left='on',right='off', labelleft='off')\n",
    "        plot_pdos(ax=ax2, pdos=pdos, ispin=ispin)\n",
    "    \n",
    "    sharey.set_ylim(Emin, Emax)\n",
    "    plt.show()"
   ]
  },
  {
   "cell_type": "code",
   "execution_count": null,
   "metadata": {},
   "outputs": [],
   "source": [
    "def on_picked(c):\n",
    "    global selected_atoms\n",
    "    \n",
    "    if 'atom' not in viewer.picked.keys():\n",
    "        return # did not click on atom\n",
    "    with plot_out:\n",
    "        clear_output()\n",
    "        #viewer.clear_representations()\n",
    "        viewer.component_0.remove_ball_and_stick()\n",
    "        viewer.component_0.remove_ball_and_stick()\n",
    "        viewer.add_ball_and_stick()\n",
    "        #viewer.add_unitcell()\n",
    "\n",
    "        idx = viewer.picked['atom']['index']\n",
    "\n",
    "        # toggle\n",
    "        if idx in selected_atoms:\n",
    "            selected_atoms.remove(idx)\n",
    "        else:\n",
    "            selected_atoms.add(idx)\n",
    "\n",
    "        #if(selection):\n",
    "        sel_str = \",\".join([str(i) for i in sorted(selected_atoms)])\n",
    "        viewer.add_representation('ball+stick', selection=\"@\"+sel_str, color='red', aspectRatio=3.0)\n",
    "        #else:\n",
    "        #    print (\"nothing selected\")\n",
    "        viewer.picked = {} # reset, otherwise immidiately selecting same atom again won't create change event\n",
    "        \n",
    "        plot_all()"
   ]
  },
  {
   "cell_type": "code",
   "execution_count": null,
   "metadata": {},
   "outputs": [],
   "source": [
    "def on_change(c):\n",
    "    with plot_out:\n",
    "        clear_output()\n",
    "        plot_all()\n",
    "\n",
    "style = {\"description_width\":\"200px\"}\n",
    "layout = ipw.Layout(width=\"600px\")\n",
    "sigma_slider = ipw.FloatSlider(description=\"Broadening [eV]\", min=0.01, max=0.5, value=0.1, step=0.01,\n",
    "                               continuous_update=False, layout=layout, style=style)\n",
    "sigma_slider.observe(on_change, names='value')\n",
    "ngauss_slider = ipw.IntSlider(description=\"Methfessel-Paxton order\", min=0, max=3, value=0,\n",
    "                              continuous_update=False, layout=layout, style=style)\n",
    "ngauss_slider.observe(on_change, names='value')\n",
    "\n",
    "selected_atoms = set()    \n",
    "viewer = nglview.NGLWidget()\n",
    "\n",
    "viewer.add_component(nglview.ASEStructure(ase_struct)) # adds ball+stick\n",
    "viewer.add_unitcell()\n",
    "viewer.center_view()\n",
    "\n",
    "viewer.observe(on_picked, names='picked')\n",
    "plot_out = ipw.Output()\n",
    "\n",
    "display(sigma_slider, ngauss_slider, viewer, plot_out)\n",
    "on_change(None)"
   ]
  }
 ],
 "metadata": {
  "kernelspec": {
   "display_name": "Python 2",
   "language": "python",
   "name": "python2"
  },
  "language_info": {
   "codemirror_mode": {
    "name": "ipython",
    "version": 2
   },
   "file_extension": ".py",
   "mimetype": "text/x-python",
   "name": "python",
   "nbconvert_exporter": "python",
   "pygments_lexer": "ipython2",
   "version": "2.7.13"
  }
 },
 "nbformat": 4,
 "nbformat_minor": 2
}
