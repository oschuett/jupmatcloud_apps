{
 "cells": [
  {
   "cell_type": "markdown",
   "metadata": {},
   "source": [
    "# SeeK-path: the k-path finder and visualizer\n",
    "\n",
    "For details see http://materialscloud.org/tools/seekpath/input_structure/"
   ]
  },
  {
   "cell_type": "code",
   "execution_count": null,
   "metadata": {
    "collapsed": false,
    "deletable": true,
    "editable": true
   },
   "outputs": [],
   "source": [
    "# Credit: https://github.com/giovannipizzi/seekpath/blob/develop/webservice/static/js/orig/BZVisualizer.js\n",
    "import numpy as np\n",
    "import pythreejs as THREE\n",
    "from seekpath.brillouinzone import brillouinzone\n",
    "\n",
    "class BZVisualizer(THREE.Renderer):\n",
    "    def __init__(self, res, size=300):\n",
    "        b1, b2, b3 = np.array(seekpath.hpkot.tools.get_reciprocal_cell_rows(res['primitive_lattice']))\n",
    "        faces_data = brillouinzone.get_BZ(b1=b1, b2=b2, b3=b3)\n",
    "    \n",
    "        # construct WebGL scene\n",
    "        scene = []\n",
    "    \n",
    "        # brillouinzone\n",
    "        #bz_mat = THREE.BasicMaterial(color=\"#d53e4f\", opacity=0.5, transparent=True, side='FrontSide')\n",
    "        bz_mat = THREE.BasicMaterial(color=\"#d53e4f\", wireframe=True)\n",
    "        bz_geom = THREE.PlainGeometry(vertices=faces_data['triangles_vertices'], faces=faces_data['triangles'])\n",
    "        bz_mesh = THREE.Mesh(geometry=bz_geom, material=bz_mat);\n",
    "        scene.append(bz_mesh)\n",
    "    \n",
    "        # kpoints\n",
    "        point_mat = THREE.BasicMaterial(color=\"#3288bd\", opacity=1.0, transparent=False)\n",
    "        for k,v in res['point_coords'].items():\n",
    "            pos = v[0] * b1 + v[1] * b2 + v[2] * b3\n",
    "            point = THREE.Mesh(geometry=THREE.SphereGeometry(radius=0.05), material=point_mat, position=pos.tolist())\n",
    "            scene.append(point)\n",
    " \n",
    "        # paths\n",
    "        line_mat = THREE.LineBasicMaterial(linewidth=4, color='#045add')\n",
    "        for p in res['path']:\n",
    "            vertices = []\n",
    "            for i in p:\n",
    "                v = res['point_coords'][i]\n",
    "                pos = v[0] * b1 + v[1] * b2 + v[2] * b3\n",
    "                vertices.append(pos.tolist())\n",
    "                line_geo = THREE.PlainGeometry(vertices=vertices)\n",
    "            path = THREE.Line(geometry=line_geo, material=line_mat, type='LineStrip')\n",
    "            scene.append(path)\n",
    "    \n",
    "        # setup renderer\n",
    "        cam = THREE.PerspectiveCamera(position=[5.0, 0, 0])\n",
    "        ctrls = [THREE.OrbitControls(controlling=cam)]\n",
    "        super(THREE.Renderer, self).__init__(camera=cam, scene=THREE.Scene(children=scene), controls=ctrls, width=\"%d\"%size, height=\"%d\"%size)"
   ]
  },
  {
   "cell_type": "code",
   "execution_count": null,
   "metadata": {
    "collapsed": false,
    "deletable": true,
    "editable": true
   },
   "outputs": [],
   "source": [
    "#Credit: https://github.com/giovannipizzi/seekpath/blob/develop/webservice/seekpath_app.py\n",
    "import ase.io\n",
    "import seekpath, seekpath.hpkot\n",
    "from glob import glob\n",
    "import ipywidgets as widgets\n",
    "from IPython.display import display\n",
    "import nglview as nv\n",
    "\n",
    "structs = widgets.Dropdown(options=glob(\"./structures/*.xsf\"), description='Structure:')\n",
    "\n",
    "def get_visualizer(fn):\n",
    "    atoms = ase.io.read(fn)\n",
    "    system = (atoms.cell, atoms.get_scaled_positions(), atoms.get_atomic_numbers())\n",
    "    res = seekpath.hpkot.get_path(system, with_time_reversal=False) \n",
    "    bz = BZVisualizer(res)\n",
    "    w = nv.NGLWidget(nv.ASEStructure(atoms))\n",
    "    w.add_ball_and_stick()\n",
    "    w.center_view()\n",
    "    return widgets.HBox((bz, w,))\n",
    "\n",
    "app = widgets.VBox((structs, get_visualizer(structs.value)))\n",
    "\n",
    "def on_change(change):\n",
    "    app.children[1].close()\n",
    "    app.children = (structs, get_visualizer(structs.value))\n",
    "    \n",
    "structs.observe(on_change, names='value') \n",
    "\n",
    "display(app)"
   ]
  }
 ],
 "metadata": {
  "hide_input": false,
  "kernelspec": {
   "display_name": "Python 2",
   "language": "python",
   "name": "python2"
  },
  "language_info": {
   "codemirror_mode": {
    "name": "ipython",
    "version": 2
   },
   "file_extension": ".py",
   "mimetype": "text/x-python",
   "name": "python",
   "nbconvert_exporter": "python",
   "pygments_lexer": "ipython2",
   "version": "2.7.13"
  }
 },
 "nbformat": 4,
 "nbformat_minor": 2
}
