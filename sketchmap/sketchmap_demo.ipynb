{
 "cells": [
  {
   "cell_type": "markdown",
   "metadata": {},
   "source": [
    "# Sketch-Map Demo"
   ]
  },
  {
   "cell_type": "code",
   "execution_count": null,
   "metadata": {
    "collapsed": true
   },
   "outputs": [],
   "source": [
    "from collections import OrderedDict\n",
    "import numpy as np\n",
    "import ase.io\n",
    "\n",
    "from IPython.display import display, clear_output\n",
    "import ipywidgets as widgets\n",
    "import traitlets\n",
    "\n",
    "from subprocess_widget import SubprocessWidget\n",
    "import bqplot as bq\n",
    "import nglview"
   ]
  },
  {
   "cell_type": "markdown",
   "metadata": {},
   "source": [
    "## Step 1: Calculate Sketch-Map"
   ]
  },
  {
   "cell_type": "code",
   "execution_count": null,
   "metadata": {
    "collapsed": false
   },
   "outputs": [],
   "source": [
    "name = \"traj.lys.dipeptide.bare\"\n",
    "w = SubprocessWidget(cmd=[\"./create_new_sketchmap.sh\", name], log_fn=\"sketchmap.log\")\n",
    "display(w)"
   ]
  },
  {
   "cell_type": "markdown",
   "metadata": {},
   "source": [
    "## Step 2: Browse Sketch-Map"
   ]
  },
  {
   "cell_type": "code",
   "execution_count": null,
   "metadata": {
    "collapsed": false
   },
   "outputs": [],
   "source": [
    "def on_load_data(e):\n",
    "    global all_structs, data\n",
    "    clear_output()\n",
    "    print(\"Loading sketchmap data...\")\n",
    "    data = np.loadtxt(name+\"-n10-l8-c3.5-g0.5_fastavg_nnrm.OOS.colvar\")\n",
    "    \n",
    "    print(\"Loading structure coordinates...\")\n",
    "    all_structs = ase.io.read(name+\".xyz\", index=':')\n",
    "    assert(data.shape[0]==len(all_structs))\n",
    "    print(\"Found %d structures\"%len(all_structs))\n",
    "    \n",
    "    print(\"Updating scatter plot...\")\n",
    "    with scatter.hold_sync():\n",
    "        scatter.x = data[:,0]\n",
    "        scatter.y = data[:,1]\n",
    "        scatter.color = data[:,2]\n",
    "        scatter.colvar1 = data[:,2]\n",
    "        scatter.colvar2 = data[:3]\n",
    "    print(\"Done\")\n",
    "\n",
    "btn_load = widgets.Button(description='Load Data')\n",
    "btn_load.on_click(on_load_data)\n",
    "display(btn_load)"
   ]
  },
  {
   "cell_type": "code",
   "execution_count": null,
   "metadata": {
    "collapsed": false
   },
   "outputs": [],
   "source": [
    "# create scatter plot\n",
    "x_sc = bq.LinearScale()\n",
    "y_sc = bq.LinearScale()\n",
    "colvar2_sc = bq.LinearScale()\n",
    "z_sc = bq.ColorScale()\n",
    "ax_x = bq.Axis(scale=x_sc)\n",
    "ax_y = bq.Axis(scale=y_sc, orientation='vertical', tick_format='0.2f')\n",
    "tooltip = bq.Tooltip(fields=['index', 'color'], formats=['','.2e'], labels=[\"id\", \"colvar\"])\n",
    "scatter = bq.Scatter(x=[], y=[], color=[],\n",
    "                     colvar1=[], colvar2=[],\n",
    "                     scales={'x': x_sc, 'y': y_sc, 'color': z_sc, 'colvar2': colvar2_sc},\n",
    "                     interactions={'click': 'select', 'hover': 'tooltip'},\n",
    "                     tooltip=tooltip,\n",
    "                     selected_style={'opacity': 1.0, 'fill': 'DarkOrange', 'stroke': 'Red'},\n",
    "                     unselected_style={'opacity': 0.5})\n",
    "fig = bq.Figure(marks=[scatter], axes=[ax_x, ax_y])\n",
    "\n",
    "# create NGLview\n",
    "view3D = nglview.NGLWidget()\n",
    "\n",
    "# selection event handler\n",
    "def on_select(c):\n",
    "    # remove old components\n",
    "    for i in view3D._ngl_component_ids:\n",
    "        view3D.remove_component(i)\n",
    "    # add new component if sth is selected\n",
    "    if scatter.selected != None:\n",
    "        idx = scatter.selected[-1]\n",
    "        atoms = all_structs[idx]\n",
    "        view3D.add_component(nglview.ASEStructure(atoms))\n",
    "        view3D.add_ball_and_stick()\n",
    "        view3D.center_view()\n",
    "\n",
    "# register event handler\n",
    "scatter.observe(on_select, ['selected'])\n",
    "\n",
    "# setup PanZoom tool\n",
    "panzoom = bq.PanZoom(scales={'x': [x_sc], 'y': [y_sc]})\n",
    "btn_tools = widgets.ToggleButtons(options=OrderedDict([('Select', None), ('Pan + Zoom', panzoom)]))\n",
    "traitlets.link((btn_tools, 'value'), (fig, 'interaction'))\n",
    "\n",
    "# display everything\n",
    "display(widgets.VBox([btn_tools,fig, view3D]))"
   ]
  }
 ],
 "metadata": {
  "kernelspec": {
   "display_name": "Python 2",
   "language": "python",
   "name": "python2"
  },
  "language_info": {
   "codemirror_mode": {
    "name": "ipython",
    "version": 2
   },
   "file_extension": ".py",
   "mimetype": "text/x-python",
   "name": "python",
   "nbconvert_exporter": "python",
   "pygments_lexer": "ipython2",
   "version": "2.7.13"
  }
 },
 "nbformat": 4,
 "nbformat_minor": 2
}
