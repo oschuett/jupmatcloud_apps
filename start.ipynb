{
 "cells": [
  {
   "cell_type": "markdown",
   "metadata": {},
   "source": [
    "## Jupyter\n",
    "- [Dashboard](../../tree/)\n",
    "- [Task Manager](../../tree/#running)\n",
    "\n",
    "## AiiDA\n",
    "- [AiiDA Status](./aiida/aiida_status.ipynb)\n",
    "- [AiiDA Tree Browser](./aiida/aiida_tree_browser.ipynb)\n",
    "- [Setup Piz Daint](./aiida/setup_computer_daint.ipynb)\n",
    "- [Draw Molecule](./aiida/draw_molecule.ipynb)\n",
    "- [Import ASE Molecule](./aiida/import_ase_molecule.ipynb)\n",
    "- [Upload Structures](./aiida/upload_structures.ipynb)\n",
    "\n",
    "## Nanoribbons\n",
    "- [Import new Nanoribbon](./nanoribbon/import_ribbon.ipynb)\n",
    "- [Submit Nanoribbon SPM calculation (new)](./nanoribbon/run_new_nanoribbon.ipynb)\n",
    "- [Search database for Nanoribbons](./nanoribbon/search.ipynb)\n",
    "\n",
    "## CP2K\n",
    "- [Submit CP2K DFT calculation](./cp2k/cp2k_dft_calculation.ipynb)\n",
    "- [Submit CP2K geometry optimization](./cp2k/cp2k_geo_opt.ipynb)\n",
    "- [View CP2K results](./cp2k/view_cp2k_calc.ipynb)\n",
    "\n",
    "## Misc\n",
    "- [Sketchmap](./sketchmap/sketchmap_demo.ipynb)\n",
    "- [Seekpath](./seekpath/seekpath.ipynb)"
   ]
  }
 ],
 "metadata": {
  "kernelspec": {
   "display_name": "Python 2",
   "language": "python",
   "name": "python2"
  },
  "language_info": {
   "codemirror_mode": {
    "name": "ipython",
    "version": 2
   },
   "file_extension": ".py",
   "mimetype": "text/x-python",
   "name": "python",
   "nbconvert_exporter": "python",
   "pygments_lexer": "ipython2",
   "version": "2.7.12"
  }
 },
 "nbformat": 4,
 "nbformat_minor": 2
}
