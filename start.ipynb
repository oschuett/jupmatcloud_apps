{
 "cells": [
  {
   "cell_type": "code",
   "execution_count": null,
   "metadata": {},
   "outputs": [],
   "source": [
    "import ipywidgets as ipw\n",
    "from IPython.display import display, HTML"
   ]
  },
  {
   "cell_type": "code",
   "execution_count": null,
   "metadata": {},
   "outputs": [],
   "source": [
    "def git_status():\n",
    "    lines = ! git -C /project/apps status --untrack=no\n",
    "    return \" \".join(lines)\n",
    "\n",
    "def git_pull(b):\n",
    "    # check once more\n",
    "    assert \"and can be fast-forwarded\" in git_status()\n",
    "    ! git -C /project/apps pull\n",
    "    \n",
    "status = git_status()\n",
    "\n",
    "if \"and can be fast-forwarded\" in status:\n",
    "    print(\"A newer version is available.\")\n",
    "    btn_pull = ipw.Button(description=\"Update\")\n",
    "    btn_pull.on_click(git_pull)\n",
    "    display(btn_pull)\n",
    "\n",
    "if \"Changes\" in status:\n",
    "    display(HTML('You have local modification, see <a target=\"_blank\" href=\"./git_status.ipynb\">git status</a>.'))"
   ]
  },
  {
   "cell_type": "markdown",
   "metadata": {},
   "source": [
    "## Jupyter\n",
    "- [Dashboard](../../tree/)\n",
    "- [Task Manager](../../tree/#running)\n",
    "- [Terminal](./terminal.ipynb)\n",
    "\n",
    "## AiiDA\n",
    "- [Status](./aiida/aiida_status.ipynb)\n",
    "- [Workflows](./aiida/browse_workflows.ipynb)\n",
    "- [Graph Browser](./aiida/aiida_graph_browser.ipynb)\n",
    "- [Setup Piz Daint](./aiida/setup_computer_daint.ipynb)\n",
    "\n",
    "## Nanoribbons\n",
    "1. [Upload structures](./nanoribbon/upload_structure.ipynb)\n",
    "2. [Scale structures](./nanoribbon/rescale_structure.ipynb)\n",
    "3. [Construct cell](./nanoribbon/construct_cell.ipynb)\n",
    "4. [Assign spin, remove atoms](./nanoribbon/edit_ribbon.ipynb)\n",
    "5. [Submit calculation](./nanoribbon/run_new_nanoribbon.ipynb)\n",
    "6. [Search database](./nanoribbon/search.ipynb)\n",
    "\n",
    "\n",
    "[Build Molecule on Slab](./nanoribbon/mol_on_slab_build.ipynb)\n",
    "\n",
    "## CP2K\n",
    "- [Submit CP2K DFT calculation](./cp2k/cp2k_dft_calculation.ipynb)\n",
    "- [Submit CP2K geometry optimization](./cp2k/cp2k_geo_opt.ipynb)\n",
    "- [View CP2K results](./cp2k/view_cp2k_calc.ipynb)\n",
    "\n",
    "## Misc\n",
    "- [Seekpath](./seekpath/seekpath.ipynb)"
   ]
  }
 ],
 "metadata": {
  "kernelspec": {
   "display_name": "Python 2",
   "language": "python",
   "name": "python2"
  },
  "language_info": {
   "codemirror_mode": {
    "name": "ipython",
    "version": 2
   },
   "file_extension": ".py",
   "mimetype": "text/x-python",
   "name": "python",
   "nbconvert_exporter": "python",
   "pygments_lexer": "ipython2",
   "version": "2.7.13"
  }
 },
 "nbformat": 4,
 "nbformat_minor": 2
}
