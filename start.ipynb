{
 "cells": [
  {
   "cell_type": "code",
   "execution_count": null,
   "metadata": {},
   "outputs": [],
   "source": [
    "import ipywidgets as ipw\n",
    "from IPython.display import display, HTML"
   ]
  },
  {
   "cell_type": "code",
   "execution_count": null,
   "metadata": {},
   "outputs": [],
   "source": [
    "! git -C /project/apps fetch --quiet\n",
    "lines = ! git -C /project/apps status --untrack=no\n",
    "status = \" \".join(lines)\n",
    "\n",
    "if \"Changes\" in status:\n",
    "    msg  = 'You have local modifications, '\n",
    "    msg += 'see <a target=\"_blank\" href=\"./git_status.ipynb\">git status</a> '\n",
    "    msg += 'and <a target=\"_blank\" href=\"./git_setup.ipynb\">setup</a>.'\n",
    "    display(HTML(msg))\n",
    "\n",
    "elif \"Your branch is behind\" in status:\n",
    "    def git_pull(b):\n",
    "        ! git -C /project/apps pull\n",
    "    btn_pull = ipw.Button(description=\"Update\")\n",
    "    btn_pull.on_click(git_pull)\n",
    "    print(\"A newer version is available.\")\n",
    "    display(btn_pull)"
   ]
  },
  {
   "cell_type": "markdown",
   "metadata": {},
   "source": [
    "## Jupyter\n",
    "- [Dashboard](../../tree/)\n",
    "- [Task Manager](../../tree/#running)\n",
    "- [Terminal](./terminal.ipynb)\n",
    "\n",
    "## AiiDA\n",
    "- [Status](./aiida/aiida_status.ipynb)\n",
    "- [Workflows](./aiida/browse_workflows.ipynb)\n",
    "- [Graph Browser](./aiida/aiida_graph_browser.ipynb)\n",
    "- [Setup Piz Daint](./aiida/setup_computer_daint.ipynb)\n",
    "\n",
    "----------------------\n",
    "\n",
    "## Surfaces\n",
    "- [Upload structures](./surfaces/upload_structure.ipynb)\n",
    "- [Scale structures](./surfaces/rescale_structure.ipynb)\n",
    "- [Construct cell](./surfaces/construct_cell.ipynb)\n",
    "- [Assign spin, remove atoms](./surfaces/edit_structure.ipynb)\n",
    "\n",
    "### Nanoribbons\n",
    "- [Submit calculation](./surfaces/nanoribbon/submit.ipynb)\n",
    "- [Search database](./surfaces/nanoribbon/search.ipynb)\n",
    "\n",
    "### Slab Models\n",
    "- [Construct slab](./surfaces/slab/build.ipynb)\n",
    "- [Submit structure optimization](./surfaces/slab/submit_geopt.ipynb)\n",
    "- [Search database](./surfaces/slab/search.ipynb)"
   ]
  }
 ],
 "metadata": {
  "kernelspec": {
   "display_name": "Python 2",
   "language": "python",
   "name": "python2"
  },
  "language_info": {
   "codemirror_mode": {
    "name": "ipython",
    "version": 2
   },
   "file_extension": ".py",
   "mimetype": "text/x-python",
   "name": "python",
   "nbconvert_exporter": "python",
   "pygments_lexer": "ipython2",
   "version": "2.7.13"
  }
 },
 "nbformat": 4,
 "nbformat_minor": 2
}
