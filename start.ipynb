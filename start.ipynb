{
 "cells": [
  {
   "cell_type": "code",
   "execution_count": null,
   "metadata": {},
   "outputs": [],
   "source": [
    "import ipywidgets as ipw\n",
    "from IPython.display import display, HTML"
   ]
  },
  {
   "cell_type": "code",
   "execution_count": null,
   "metadata": {},
   "outputs": [],
   "source": [
    "def git_pull(b):\n",
    "    ! git -C /project/apps pull\n",
    "    \n",
    "lines = ! git -C /project/apps status --untrack=no\n",
    "status = \" \".join(lines)\n",
    "\n",
    "if \"Changes\" in status:\n",
    "    msg  = 'You have local modifications, '\n",
    "    msg += 'see <a target=\"_blank\" href=\"./git_status.ipynb\">git status</a> '\n",
    "    msg += 'and <a target=\"_blank\" href=\"./git_setup.ipynb\">setup</a>.'\n",
    "    display(HTML(msg))\n",
    "\n",
    "if \"Your branch is behind\" in status:\n",
    "    print(\"A newer version is available.\")\n",
    "    btn_pull = ipw.Button(description=\"Update\")\n",
    "    btn_pull.on_click(git_pull)\n",
    "    display(btn_pull)"
   ]
  },
  {
   "cell_type": "markdown",
   "metadata": {},
   "source": [
    "## Jupyter\n",
    "- [Dashboard](../../tree/)\n",
    "- [Task Manager](../../tree/#running)\n",
    "- [Terminal](./terminal.ipynb)\n",
    "\n",
    "## AiiDA\n",
    "- [Status](./aiida/aiida_status.ipynb)\n",
    "- [Workflows](./aiida/browse_workflows.ipynb)\n",
    "- [Graph Browser](./aiida/aiida_graph_browser.ipynb)\n",
    "- [Setup Piz Daint](./aiida/setup_computer_daint.ipynb)\n",
    "\n",
    "## Nanoribbons\n",
    "1. [Upload structures](./nanoribbon/upload_structure.ipynb)\n",
    "2. [Scale structures](./nanoribbon/rescale_structure.ipynb)\n",
    "3. [Construct cell](./nanoribbon/construct_cell.ipynb)\n",
    "4. [Assign spin, remove atoms](./nanoribbon/edit_ribbon.ipynb)\n",
    "5. [Submit calculation](./nanoribbon/run_new_nanoribbon.ipynb)\n",
    "6. [Search database](./nanoribbon/search.ipynb)\n",
    "\n",
    "\n",
    "[Build Molecule on Slab](./nanoribbon/mol_on_slab_build.ipynb)\n",
    "\n",
    "## CP2K\n",
    "- [Submit CP2K DFT calculation](./cp2k/cp2k_dft_calculation.ipynb)\n",
    "- [Submit CP2K geometry optimization](./cp2k/cp2k_geo_opt.ipynb)\n",
    "- [View CP2K results](./cp2k/view_cp2k_calc.ipynb)\n",
    "\n",
    "## Misc\n",
    "- [Seekpath](./seekpath/seekpath.ipynb)"
   ]
  }
 ],
 "metadata": {
  "kernelspec": {
   "display_name": "Python 2",
   "language": "python",
   "name": "python2"
  },
  "language_info": {
   "codemirror_mode": {
    "name": "ipython",
    "version": 2
   },
   "file_extension": ".py",
   "mimetype": "text/x-python",
   "name": "python",
   "nbconvert_exporter": "python",
   "pygments_lexer": "ipython2",
   "version": "2.7.13"
  }
 },
 "nbformat": 4,
 "nbformat_minor": 2
}
