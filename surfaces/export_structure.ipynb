{
 "cells": [
  {
   "cell_type": "code",
   "execution_count": null,
   "metadata": {},
   "outputs": [],
   "source": [
    "from aiida import load_dbenv, is_dbenv_loaded\n",
    "from aiida.backends import settings\n",
    "if not is_dbenv_loaded():\n",
    "    load_dbenv(profile=settings.AIIDADB_PROFILE)\n",
    "\n",
    "from aiida.orm import load_node\n",
    "    \n",
    "import urlparse\n",
    "from base64 import b64encode\n",
    "from StringIO import StringIO\n",
    "from IPython.display import Javascript"
   ]
  },
  {
   "cell_type": "code",
   "execution_count": null,
   "metadata": {},
   "outputs": [],
   "source": [
    "url = urlparse.urlsplit(jupyter_notebook_url)\n",
    "uuid = urlparse.parse_qs(url.query)['uuid'][0]\n",
    "\n",
    "structure = load_node(uuid)\n",
    "ase_struct = structure.get_ase()\n",
    "f = StringIO()\n",
    "ase_struct.write(f, format=\"xyz\")\n",
    "xyzdata = b64encode(f.getvalue())\n",
    "fn = ase_struct.get_chemical_formula() + \"_pk%d.xyz\" % structure.pk\n",
    "\n",
    "javascript  = 'var fileContents=\"%s\";\\n' % xyzdata\n",
    "javascript += 'var link = document.createElement(\"a\");\\n'\n",
    "javascript += 'link.download = \"%s\";\\n' % fn\n",
    "javascript += 'link.href = \"data:chemical/x-xyz;base64,\" + fileContents;\\n'\n",
    "javascript += 'link.click();'\n",
    "javascript += 'window.close();'\n",
    "\n",
    "display(Javascript(javascript))"
   ]
  }
 ],
 "metadata": {
  "kernelspec": {
   "display_name": "Python 2",
   "language": "python",
   "name": "python2"
  },
  "language_info": {
   "codemirror_mode": {
    "name": "ipython",
    "version": 2
   },
   "file_extension": ".py",
   "mimetype": "text/x-python",
   "name": "python",
   "nbconvert_exporter": "python",
   "pygments_lexer": "ipython2",
   "version": "2.7.13"
  }
 },
 "nbformat": 4,
 "nbformat_minor": 2
}
