{
 "cells": [
  {
   "cell_type": "markdown",
   "metadata": {},
   "source": [
    "# Submit Nanoribbon Workchain"
   ]
  },
  {
   "cell_type": "code",
   "execution_count": null,
   "metadata": {},
   "outputs": [],
   "source": [
    "from aiida import load_dbenv, is_dbenv_loaded\n",
    "from aiida.backends import settings\n",
    "if not is_dbenv_loaded():\n",
    "    load_dbenv(profile=settings.AIIDADB_PROFILE)\n",
    "\n",
    "from aiida.orm.code import Code\n",
    "from aiida.orm import Code, Computer\n",
    "from aiida.orm.data.base import Int, Float, Str\n",
    "from aiida.orm.querybuilder import QueryBuilder\n",
    "from aiida.work.run import run, async, submit\n",
    "from aiida.orm.data.structure import StructureData\n",
    "\n",
    "import nglview\n",
    "import numpy as np\n",
    "import ipywidgets as ipw\n",
    "from collections import OrderedDict\n",
    "from IPython.display import display, clear_output, HTML\n",
    "import nglview\n",
    "\n",
    "from apps.surfaces.structure_browser import StructureBrowser\n",
    "from apps.surfaces.nanoribbon.workchain import NanoribbonWorkChain"
   ]
  },
  {
   "cell_type": "code",
   "execution_count": null,
   "metadata": {},
   "outputs": [],
   "source": [
    "def on_struct_change(c):\n",
    "    refresh_structure_view()\n",
    "    \n",
    "struct_browser = StructureBrowser()\n",
    "struct_browser.results.observe(on_struct_change, names='value')    \n",
    "viewer = nglview.NGLWidget()\n",
    "\n",
    "clear_output()\n",
    "display(ipw.VBox([struct_browser, viewer]))"
   ]
  },
  {
   "cell_type": "code",
   "execution_count": null,
   "metadata": {},
   "outputs": [],
   "source": [
    "def refresh_structure_view():\n",
    "    global viewer, atoms\n",
    "    if hasattr(viewer, \"component_0\"):\n",
    "        #viewer.clear_representations()\n",
    "        viewer.component_0.remove_ball_and_stick()\n",
    "        viewer.component_0.remove_ball_and_stick()\n",
    "        viewer.component_0.remove_ball_and_stick()\n",
    "        viewer.component_0.remove_unitcell()\n",
    "        cid = viewer.component_0.id\n",
    "        viewer.remove_component(cid)\n",
    "    \n",
    "    node = struct_browser.results.value\n",
    "    if not node:\n",
    "        return\n",
    "    atoms = node.get_ase()\n",
    "    viewer.add_component(nglview.ASEStructure(atoms)) # adds ball+stick\n",
    "    viewer.add_unitcell()\n",
    "    viewer.center_view()\n",
    "\n",
    "    spin_ups = \",\".join([str(i) for i, t in enumerate(atoms.get_tags()) if t==1])\n",
    "    spin_downs = \",\".join([str(i) for i, t in enumerate(atoms.get_tags()) if t==2])\n",
    "\n",
    "    viewer.add_representation('ball+stick', selection=\"@\"+spin_ups, color='red', aspectRatio=3.0, opacity=0.4)\n",
    "    viewer.add_representation('ball+stick', selection=\"@\"+spin_downs, color='green', aspectRatio=3.0, opacity=0.4)"
   ]
  },
  {
   "cell_type": "code",
   "execution_count": null,
   "metadata": {},
   "outputs": [],
   "source": [
    "# query AiiDA database for Computers\n",
    "qb = QueryBuilder()\n",
    "qb.append(Computer, filters={'enabled': True}, project='name', tag='computer')\n",
    "qb.append(Code, project='*', has_computer='computer', filters={'attributes.input_plugin': 'quantumespresso.pw'})\n",
    "qb.append(Code, project='*', has_computer='computer', filters={'attributes.input_plugin': 'quantumespresso.pp'})\n",
    "qb.append(Code, project='*', has_computer='computer', filters={'attributes.input_plugin': 'quantumespresso.projwfc'})\n",
    "\n",
    "all_computers = OrderedDict()\n",
    "all_computers['Please selecte a computer'] = False\n",
    "for match in qb.all():\n",
    "    label = match[0]\n",
    "    codes = match[1:]\n",
    "    all_computers[label] = codes\n",
    "\n",
    "drop_computer = ipw.Dropdown(description=\"Computer\", options=all_computers)\n",
    "slider_precision = ipw.FloatSlider(description='Precision:', value=1.0, min=0.1, max=3.0, step=0.1)\n",
    "display(ipw.VBox([drop_computer, slider_precision]))"
   ]
  },
  {
   "cell_type": "code",
   "execution_count": null,
   "metadata": {},
   "outputs": [],
   "source": [
    "def on_submit(b):\n",
    "    with submit_out:\n",
    "        clear_output()\n",
    "        if not struct_browser.results.value:\n",
    "            print(\"Please select a structure.\")\n",
    "            return\n",
    "        if not drop_computer.value:\n",
    "            print(\"Please select a computer.\")\n",
    "            return\n",
    "\n",
    "        pw_code, pp_code, projwfc_code = drop_computer.value\n",
    "        struct = struct_browser.results.value\n",
    "        precision = Float(slider_precision.value)\n",
    "        outputs = submit(NanoribbonWorkChain,\n",
    "                         pw_code=pw_code,\n",
    "                         pp_code=pp_code,\n",
    "                         projwfc_code=projwfc_code,\n",
    "                         structure=struct,\n",
    "                         precision=precision)\n",
    "        print(outputs)\n",
    "\n",
    "btn_submit = ipw.Button(description=\"Submit\")\n",
    "btn_submit.on_click(on_submit)\n",
    "submit_out = ipw.Output()\n",
    "display(btn_submit, submit_out)"
   ]
  }
 ],
 "metadata": {
  "kernelspec": {
   "display_name": "Python 2",
   "language": "python",
   "name": "python2"
  },
  "language_info": {
   "codemirror_mode": {
    "name": "ipython",
    "version": 2
   },
   "file_extension": ".py",
   "mimetype": "text/x-python",
   "name": "python",
   "nbconvert_exporter": "python",
   "pygments_lexer": "ipython2",
   "version": "2.7.13"
  }
 },
 "nbformat": 4,
 "nbformat_minor": 2
}
