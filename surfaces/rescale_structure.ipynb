{
 "cells": [
  {
   "cell_type": "markdown",
   "metadata": {},
   "source": [
    "# Scale Structure based on C-C distances"
   ]
  },
  {
   "cell_type": "code",
   "execution_count": null,
   "metadata": {},
   "outputs": [],
   "source": [
    "from aiida import load_dbenv, is_dbenv_loaded\n",
    "from aiida.backends import settings\n",
    "if not is_dbenv_loaded():\n",
    "    load_dbenv(profile=settings.AIIDADB_PROFILE)\n",
    "\n",
    "from aiida.orm.data.structure import StructureData\n",
    "from aiida.orm.data.base import Float\n",
    "from aiida.work.workfunction import workfunction\n",
    "\n",
    "from IPython.display import display, clear_output\n",
    "import ipywidgets as ipw\n",
    "import numpy as np\n",
    "from numpy.linalg import norm\n",
    "import scipy.stats\n",
    "from structure_browser import StructureBrowser"
   ]
  },
  {
   "cell_type": "markdown",
   "metadata": {},
   "source": [
    "## Step 1: Select a structure from the AiiDA database"
   ]
  },
  {
   "cell_type": "code",
   "execution_count": null,
   "metadata": {},
   "outputs": [],
   "source": [
    "def on_struct_change(c):\n",
    "    global atoms, scaling_factor\n",
    "    node = struct_browser.results.value\n",
    "    if node:\n",
    "        atoms = node.get_ase()\n",
    "        scaling_factor.value = guess_scaling_factor(atoms) if atoms else None\n",
    "    else:\n",
    "        atoms = None\n",
    "        scaling_factor.value = 0.0\n",
    "\n",
    "def on_factor_change(c):\n",
    "    if struct_browser.results.value:\n",
    "        inp_descr.value = struct_browser.results.value.description + \".scale(%.3f)\"%scaling_factor.value\n",
    "    else:\n",
    "        inp_descr.value = \"\"\n",
    "\n",
    "struct_browser = StructureBrowser()\n",
    "struct_browser.results.observe(on_struct_change, names='value')\n",
    "scaling_factor = ipw.FloatText(description=\"scaling factor\", step=0.001)\n",
    "scaling_factor.observe(on_factor_change, names='value')\n",
    "\n",
    "clear_output()\n",
    "display(struct_browser, scaling_factor)"
   ]
  },
  {
   "cell_type": "code",
   "execution_count": null,
   "metadata": {},
   "outputs": [],
   "source": [
    "def guess_scaling_factor(atoms):\n",
    "    # set bounding box as cell\n",
    "    cx = 1.5 * (np.amax(atoms.positions[:,0]) - np.amin(atoms.positions[:,0]))\n",
    "    cy = 1.5 * (np.amax(atoms.positions[:,1]) - np.amin(atoms.positions[:,1]))\n",
    "    cz = 15.0\n",
    "    atoms.cell = (cx, cy, cz)\n",
    "    atoms.pbc = (True,True,True)\n",
    "    \n",
    "    # calculate all atom-atom distances\n",
    "    c_atoms = [a for a in atoms if a.symbol[0]==\"C\"]\n",
    "    n = len(c_atoms)\n",
    "    dists = np.zeros([n,n])\n",
    "    for i, a in enumerate(c_atoms):\n",
    "        for j, b in enumerate(c_atoms):\n",
    "            dists[i,j] = norm(a.position - b.position)\n",
    "            \n",
    "    # find bond distances to closest neighbor\n",
    "    dists += np.diag([np.inf]*n) # don't consider diagonal\n",
    "    bonds = np.amin(dists, axis=1)\n",
    "    \n",
    "    # average bond distance\n",
    "    avg_bond = float(scipy.stats.mode(bonds)[0])\n",
    "    \n",
    "    # scale box to match equilibrium carbon-carbon bond distance\n",
    "    cc_eq = 1.4313333333\n",
    "    s = cc_eq / avg_bond\n",
    "    return s"
   ]
  },
  {
   "cell_type": "markdown",
   "metadata": {},
   "source": [
    "## Step 2: Store structure in the AiiDA database"
   ]
  },
  {
   "cell_type": "code",
   "execution_count": null,
   "metadata": {},
   "outputs": [],
   "source": [
    "def on_click_store(b):\n",
    "    global atoms, removals\n",
    "    \n",
    "    orig_struct = struct_browser.results.value\n",
    "    s = scale(orig_struct, Float(scaling_factor.value))\n",
    "    s.description = inp_descr.value\n",
    "    s.store()\n",
    "    print(\"Stored in AiiDA: \"+repr(s))\n",
    "    \n",
    "inp_descr = ipw.Text(placeholder=\"Description (optional)\")   \n",
    "btn_store = ipw.Button(description='Store in AiiDA')\n",
    "btn_store.on_click(on_click_store)\n",
    "display(ipw.HBox([btn_store, inp_descr]))"
   ]
  },
  {
   "cell_type": "code",
   "execution_count": null,
   "metadata": {},
   "outputs": [],
   "source": [
    "# using a workfunction to create link to original structure\n",
    "@workfunction\n",
    "def scale(orig_struct, scaling_factor):\n",
    "    atoms = orig_struct.get_ase()\n",
    "    cx, cy, cz = atoms.cell\n",
    "    s = scaling_factor.value\n",
    "    atoms.set_cell((s*cx, s*cy, cz), scale_atoms=True)\n",
    "    atoms.center()\n",
    "    return StructureData(ase=atoms)"
   ]
  }
 ],
 "metadata": {
  "kernelspec": {
   "display_name": "Python 2",
   "language": "python",
   "name": "python2"
  },
  "language_info": {
   "codemirror_mode": {
    "name": "ipython",
    "version": 2
   },
   "file_extension": ".py",
   "mimetype": "text/x-python",
   "name": "python",
   "nbconvert_exporter": "python",
   "pygments_lexer": "ipython2",
   "version": "2.7.13"
  }
 },
 "nbformat": 4,
 "nbformat_minor": 2
}
