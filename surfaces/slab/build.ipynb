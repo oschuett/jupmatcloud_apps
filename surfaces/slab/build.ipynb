{
 "cells": [
  {
   "cell_type": "markdown",
   "metadata": {},
   "source": [
    "# Place a molecule onto a Surface"
   ]
  },
  {
   "cell_type": "code",
   "execution_count": null,
   "metadata": {},
   "outputs": [],
   "source": [
    "from aiida import load_dbenv, is_dbenv_loaded\n",
    "from aiida.backends import settings\n",
    "if not is_dbenv_loaded():\n",
    "    load_dbenv(profile=settings.AIIDADB_PROFILE)\n",
    "\n",
    "from aiida.orm.querybuilder import QueryBuilder\n",
    "from aiida.orm.data.structure import StructureData\n",
    "from aiida.orm.data.base import Int\n",
    "from aiida.work.workfunction import workfunction\n",
    "\n",
    "from ase.data import covalent_radii\n",
    "from ase.neighborlist import NeighborList\n",
    "import ase.neighborlist\n",
    "\n",
    "from IPython.display import display, clear_output\n",
    "import ipywidgets as ipw\n",
    "import numpy as np\n",
    "from numpy.linalg import norm\n",
    "import scipy.stats\n",
    "import nglview\n",
    "\n",
    "from apps.surfaces.structure_browser import StructureBrowser"
   ]
  },
  {
   "cell_type": "markdown",
   "metadata": {},
   "source": [
    "## Step 1: Select a structure from the AiiDA database"
   ]
  },
  {
   "cell_type": "code",
   "execution_count": null,
   "metadata": {},
   "outputs": [],
   "source": [
    "def on_struct_change(c):\n",
    "    global orig_structure\n",
    "    orig_structure = None # disable event processing\n",
    "    s = struct_browser.results.value\n",
    "    if s:\n",
    "        atoms = s.get_ase()\n",
    "        nx, ny = guess_slab_size(atoms)\n",
    "        nx_slider.value = nx\n",
    "        ny_slider.value = ny\n",
    "        nx_slider.max = 3*nx\n",
    "        ny_slider.max = 3*ny\n",
    "        orig_structure = s\n",
    "    update_view()"
   ]
  },
  {
   "cell_type": "code",
   "execution_count": null,
   "metadata": {},
   "outputs": [],
   "source": [
    "struct_browser = StructureBrowser()\n",
    "struct_browser.results.observe(on_struct_change, names='value')\n",
    "display(struct_browser)"
   ]
  },
  {
   "cell_type": "markdown",
   "metadata": {},
   "source": [
    "## Step 2: Select cell size"
   ]
  },
  {
   "cell_type": "code",
   "execution_count": null,
   "metadata": {},
   "outputs": [],
   "source": [
    "def on_nxy_change(c):\n",
    "    update_view()\n",
    "    \n",
    "nx_slider = ipw.IntSlider(description=\"nx\", min=1, continuous_update=False)\n",
    "nx_slider.observe(on_nxy_change, names='value')\n",
    "ny_slider = ipw.IntSlider(description=\"ny\", min=1, continuous_update=False)\n",
    "ny_slider.observe(on_nxy_change, names='value')\n",
    "\n",
    "display(nx_slider, ny_slider)"
   ]
  },
  {
   "cell_type": "code",
   "execution_count": null,
   "metadata": {},
   "outputs": [],
   "source": [
    "def update_view():\n",
    "\n",
    "    with info_out:\n",
    "        clear_output()\n",
    "\n",
    "        inp_descr.value = \"\"\n",
    "\n",
    "        # remove old components\n",
    "        if hasattr(viewer, \"component_0\"):\n",
    "            viewer.component_0.remove_ball_and_stick()\n",
    "            viewer.component_0.remove_unitcell()\n",
    "            cid = viewer.component_0.id\n",
    "            viewer.remove_component(cid)\n",
    "\n",
    "        if orig_structure:\n",
    "            nx = nx_slider.value\n",
    "            ny = ny_slider.value\n",
    "            inp_descr.value = orig_structure.description + \".slap(%d,%d)\"%(nx,ny)\n",
    "            atoms = prepare_mol_on_slab(orig_structure.get_ase(), nx=nx, ny=ny)\n",
    "\n",
    "            # add new component\n",
    "            viewer.add_component(nglview.ASEStructure(atoms)) # adds ball+stick\n",
    "            viewer.add_unitcell()\n",
    "            viewer.center_view()"
   ]
  },
  {
   "cell_type": "code",
   "execution_count": null,
   "metadata": {},
   "outputs": [],
   "source": [
    "viewer = nglview.NGLWidget()\n",
    "info_out = ipw.Output()\n",
    "display(viewer, info_out)"
   ]
  },
  {
   "cell_type": "code",
   "execution_count": null,
   "metadata": {},
   "outputs": [],
   "source": [
    "# dimensions of slab \n",
    "Au_x = 2.973735971\n",
    "Au_y = 5.150661791\n",
    "\n",
    "def guess_slab_size(mol):\n",
    "    cx = np.amax(mol.positions[:,0]) - np.amin(mol.positions[:,0]) + 10\n",
    "    cy = np.amax(mol.positions[:,1]) - np.amin(mol.positions[:,1]) + 10\n",
    "    nx = int(round(cx/Au_x))\n",
    "    ny = int(round(cy/Au_y))\n",
    "    return nx, ny\n",
    "\n",
    "def prepare_mol_on_slab(mol, nx, ny):\n",
    "    # determine cell size\n",
    "    auz_top = 18.49\n",
    "    dminau = 2.3\n",
    "    \n",
    "    cz = 40\n",
    "    cx = nx * Au_x\n",
    "    cy = ny * Au_y\n",
    "    print(\"Cell ABC: %f, %f, %f\"%(cx, cy, cz))\n",
    "    mol.cell = (cx,cy,cz)\n",
    "    mol.pbc = (True,True,True)\n",
    "    \n",
    "    # position molecule a bit above gold slab\n",
    "    mol.center()\n",
    "    minz = np.amin(mol.positions[:,2])\n",
    "    dz = (-minz + auz_top + dminau)\n",
    "    mol.positions[:,2] += dz\n",
    "    \n",
    "    # template for gold slab\n",
    "    au_templ = np.array([(1 ,   1.502273797989   ,  3.091176986694   , 10.434000015259),\n",
    "                         (1 ,   0.017487669364   ,  0.521309018135   , 10.439200401306),\n",
    "                         (79,   0.011242070235   ,  3.954530715942   , 11.276800155640),\n",
    "                         (79,   1.498110055923   ,  1.378893256187   , 11.276800155640),\n",
    "                         (79,   0.011242070235   ,  2.237301826477   , 13.704799652100),\n",
    "                         (79,   1.498110055923   ,  4.812939167023   , 13.704799652100),\n",
    "                         (79,   1.498110055923   ,  3.095984896024   , 16.073392868042),\n",
    "                         (79,   0.011242070235   ,  0.520347436269   , 16.073581695557),\n",
    "                         (79,   0.011242070235   ,  3.954530715942   , 18.493516921997),\n",
    "                         (79,   1.498110055923   ,  1.378893256187   , 18.495817184448) ])\n",
    "    \n",
    "    \n",
    "    # generate gold slab\n",
    "    au_slab_raw = []\n",
    "    for i in range(nx):\n",
    "        for j in range(ny):\n",
    "            shift = np.array([0, i*Au_x, j*Au_y, 0])\n",
    "            au_slab_raw.append(au_templ + shift)\n",
    "\n",
    "    au_slab_raw = np.concatenate(au_slab_raw)\n",
    "    au_slab = ase.Atoms(numbers=au_slab_raw[:,0], positions=au_slab_raw[:,1:])\n",
    "    \n",
    "    mol_on_au = mol + au_slab\n",
    "    return mol_on_au"
   ]
  },
  {
   "cell_type": "markdown",
   "metadata": {},
   "source": [
    "## Step 3: Store structure in the AiiDA database"
   ]
  },
  {
   "cell_type": "code",
   "execution_count": null,
   "metadata": {},
   "outputs": [],
   "source": [
    "def on_click_store(b):\n",
    "    if not orig_structure:\n",
    "        print(\"No structure selected.\")\n",
    "        return\n",
    "\n",
    "    nx = Int(nx_slider.value)\n",
    "    ny = Int(ny_slider.value)\n",
    "    s = prepare_mol_on_slab_wf(orig_structure, nx, ny)\n",
    "    s.description = inp_descr.value\n",
    "    s.store()\n",
    "    print(\"Stored in AiiDA: \"+repr(s))\n",
    "\n",
    "cell_ready = False\n",
    "inp_descr = ipw.Text(placeholder=\"Description (optional)\")   \n",
    "btn_store = ipw.Button(description='Store in AiiDA')\n",
    "btn_store.on_click(on_click_store)\n",
    "display(ipw.HBox([btn_store, inp_descr]))"
   ]
  },
  {
   "cell_type": "code",
   "execution_count": null,
   "metadata": {},
   "outputs": [],
   "source": [
    "@workfunction\n",
    "def prepare_mol_on_slab_wf(orig_struct, nx, ny):\n",
    "    nx, ny = nx.value, ny.value\n",
    "    orig_atoms = orig_struct.get_ase()\n",
    "    new_atoms = prepare_mol_on_slab(orig_atoms, nx, ny)\n",
    "    return StructureData(ase=new_atoms)"
   ]
  }
 ],
 "metadata": {
  "kernelspec": {
   "display_name": "Python 2",
   "language": "python",
   "name": "python2"
  },
  "language_info": {
   "codemirror_mode": {
    "name": "ipython",
    "version": 2
   },
   "file_extension": ".py",
   "mimetype": "text/x-python",
   "name": "python",
   "nbconvert_exporter": "python",
   "pygments_lexer": "ipython2",
   "version": "2.7.13"
  }
 },
 "nbformat": 4,
 "nbformat_minor": 2
}
