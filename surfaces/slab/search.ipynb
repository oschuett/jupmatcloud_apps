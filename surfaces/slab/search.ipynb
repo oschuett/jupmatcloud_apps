{
 "cells": [
  {
   "cell_type": "markdown",
   "metadata": {},
   "source": [
    "# Search AiiDA Database for Slab Models"
   ]
  },
  {
   "cell_type": "code",
   "execution_count": null,
   "metadata": {},
   "outputs": [],
   "source": [
    "from aiida import load_dbenv, is_dbenv_loaded\n",
    "from aiida.backends import settings\n",
    "if not is_dbenv_loaded():\n",
    "    load_dbenv(profile=settings.AIIDADB_PROFILE)\n",
    "    \n",
    "from aiida.orm.querybuilder import QueryBuilder\n",
    "from aiida.orm.calculation.work import WorkCalculation\n",
    "from aiida.orm.calculation.job import JobCalculation\n",
    "\n",
    "import ase.io\n",
    "from base64 import b64encode\n",
    "import StringIO\n",
    "import numpy as np\n",
    "import ipywidgets as ipw\n",
    "import matplotlib.pyplot as plt\n",
    "from IPython.display import display, clear_output\n",
    "\n",
    "from tempfile import NamedTemporaryFile"
   ]
  },
  {
   "cell_type": "code",
   "execution_count": null,
   "metadata": {},
   "outputs": [],
   "source": [
    "############################   START OF PREPROCESSING   ###############################"
   ]
  },
  {
   "cell_type": "code",
   "execution_count": null,
   "metadata": {},
   "outputs": [],
   "source": [
    "PREPROCESS_VERSION = 0.5\n",
    "\n",
    "def preprocess_newbies():\n",
    "    qb = QueryBuilder()\n",
    "    qb.append(WorkCalculation, filters={\n",
    "        'attributes._process_label': 'SlabGeoOptWorkChain',\n",
    "        'or':[\n",
    "               {'extras': {'!has_key': 'preprocess_version'}},\n",
    "               {'extras.preprocess_version': {'<': PREPROCESS_VERSION}},\n",
    "           ],\n",
    "    })\n",
    "    \n",
    "    \n",
    "    for m in qb.all(): # iterall() would interfere with set_extra()\n",
    "        n = m[0]\n",
    "        if not n.is_sealed:\n",
    "            print(\"Skipping underway workchain PK %d\"%n.pk)\n",
    "            continue\n",
    "        try:\n",
    "            preprocess_one(n)\n",
    "            n.set_extra('preprocess_successful', True)\n",
    "            n.set_extra('preprocess_version', PREPROCESS_VERSION)\n",
    "            print(\"Preprocessed PK %d\"%n.pk)\n",
    "        except Exception as e:\n",
    "            n.set_extra('preprocess_successful', False)\n",
    "            n.set_extra('preprocess_error', str(e))\n",
    "            n.set_extra('preprocess_version', PREPROCESS_VERSION)\n",
    "            print(\"Failed to preprocess PK %d: %s\"%(n.pk, e))"
   ]
  },
  {
   "cell_type": "code",
   "execution_count": null,
   "metadata": {},
   "outputs": [],
   "source": [
    "def preprocess_one(workcalc):\n",
    "   \n",
    "    def get_calc_by_label(workcalc, label):\n",
    "        qb = QueryBuilder()\n",
    "        qb.append(WorkCalculation, filters={'uuid':workcalc.uuid})\n",
    "        qb.append(JobCalculation, output_of=WorkCalculation, filters={'label':label})\n",
    "        if qb.count() != 1:\n",
    "            raise(Exception(\"Could not find %s calculation.\"%label))\n",
    "        calc = qb.first()[0]\n",
    "        return calc\n",
    "\n",
    "    # formula\n",
    "    structure = workcalc.inp.structure\n",
    "    ase_struct = structure.get_ase()\n",
    "    formula = ase_struct.get_chemical_formula()\n",
    "    workcalc.set_extra('formula', formula)\n",
    "    workcalc.set_extra('structure_description', structure.description)\n",
    "    \n",
    "    # optimized structure\n",
    "    geopt_calc = get_calc_by_label(workcalc, \"slab_geo_opt\") # TODO deal with restarts, check final state\n",
    "    opt_structure = geopt_calc.out.output_structure\n",
    "    workcalc.set_extra('opt_structure_uuid', geopt_calc.out.output_structure.uuid)\n",
    "    workcalc.set_extra('energy', geopt_calc.res.energy)\n",
    "\n",
    "    # thumbnail\n",
    "    thumbnail = render_thumbnail(ase_struct)\n",
    "    workcalc.set_extra('thumbnail', thumbnail)\n",
    "    \n",
    "    \n",
    "#     # ensure all steps succeed\n",
    "#     all_steps = ['cell_opt1', 'cell_opt2', 'scf', 'export_hartree', 'bands', 'export_pdos', 'bands_lowres', 'export_orbitals']\n",
    "#     if any([k.name[-1].isdigit() for k in structure.kinds]): # magnetization ?\n",
    "#         all_steps.append('export_spinden')\n",
    "#     for label in all_steps:\n",
    "#         calc = get_calc_by_label(workcalc, label)\n",
    "#         if calc.get_state() != 'FINISHED':\n",
    "#             raise(Exception(\"Calculation %s in state %s.\"%(label, calc.get_state())))\n",
    "#         if \"aiida.out\" not in calc.out.retrieved.get_folder_list():\n",
    "#             raise(Exception(\"Calculation %s did not retrive aiida.out\"%label))\n",
    "#         fn = calc.out.retrieved.get_abs_path(\"aiida.out\")\n",
    "#         content = open(fn).read()\n",
    "#         if \"JOB DONE.\" not in content:\n",
    "#             raise(Exception(\"Calculation %s did not print JOB DONE.\"%label))"
   ]
  },
  {
   "cell_type": "code",
   "execution_count": null,
   "metadata": {},
   "outputs": [],
   "source": [
    "def render_thumbnail(atoms):\n",
    "    tmp = NamedTemporaryFile()\n",
    "    ase.io.write(tmp.name, atoms, format='png') # does not accept StringIO\n",
    "    raw = open(tmp.name).read()\n",
    "    tmp.close()\n",
    "    return b64encode(raw)"
   ]
  },
  {
   "cell_type": "code",
   "execution_count": null,
   "metadata": {},
   "outputs": [],
   "source": [
    "############################   END OF PREPROCESSING   ###############################"
   ]
  },
  {
   "cell_type": "code",
   "execution_count": null,
   "metadata": {
    "scrolled": false
   },
   "outputs": [],
   "source": [
    "def search():\n",
    "\n",
    "    results.value = \"preprocessing...\"\n",
    "    preprocess_newbies()\n",
    "    \n",
    "    results.value = \"searching...\"\n",
    "    \n",
    "    # html table header\n",
    "    html  = '<style>#aiida_results td,th {padding: 2px}</style>' \n",
    "    html += '<table border=1 id=\"aiida_results\" style=\"margin:10px;\"><tr>'\n",
    "    html += '<th>PK</th>'\n",
    "    html += '<th>Creation Time</th>'\n",
    "    html += '<th>Formula</th>'\n",
    "    html += '<th>Energy</th>'\n",
    "    html += '<th>Structure</th>'\n",
    "    html += '</tr>'\n",
    "\n",
    "    # query AiiDA database\n",
    "    filters = {}\n",
    "    filters['attributes._process_label'] = 'SlabGeoOptWorkChain'\n",
    "    filters['extras.preprocess_version'] = PREPROCESS_VERSION\n",
    "    filters['extras.preprocess_successful'] = True\n",
    "    \n",
    "    pk_list = inp_pks.value.strip().split()\n",
    "    if pk_list:\n",
    "        filters['id'] = {'in': pk_list}\n",
    "        \n",
    "    formula_list = inp_formula.value.strip().split()\n",
    "    if inp_formula.value:\n",
    "        filters['extras.formula'] = {'in': formula_list}\n",
    "\n",
    "    qb = QueryBuilder()        \n",
    "    qb.append(WorkCalculation, filters=filters)\n",
    "    qb.order_by({WorkCalculation:{'ctime':'desc'}})\n",
    "\n",
    "    for i, node_tuple in enumerate(qb.iterall()):\n",
    "        node = node_tuple[0]\n",
    "        thumbnail = node.get_extra('thumbnail')\n",
    "        description = node.get_extra('structure_description')\n",
    "        opt_structure_uuid = node.get_extra('opt_structure_uuid')\n",
    "        \n",
    "        # append table row\n",
    "        html += '<tr>'\n",
    "        html += '<td>%d</td>' % node.pk\n",
    "        html += '<td>%s</td>' % node.ctime.strftime(\"%Y-%m-%d %H:%M\")\n",
    "        html += '<td>%s</td>' % node.get_extra('formula')\n",
    "        html += '<td>%f</td>' % node.get_extra('energy')\n",
    "        html += '<td><a target=\"_blank\" href=\"../export_structure.ipynb?uuid=%s\">'%opt_structure_uuid\n",
    "        html += '<img width=\"100px\" src=\"data:image/png;base64,%s\" title=\"%s\"></a></td>' % (thumbnail, description)\n",
    "        html += '</td>'\n",
    "        html += '</tr>'\n",
    "\n",
    "    html += '</table>'\n",
    "    html += 'Found %d matching entries.<br>'%qb.count()\n",
    "\n",
    "    results.value = html"
   ]
  },
  {
   "cell_type": "code",
   "execution_count": null,
   "metadata": {},
   "outputs": [],
   "source": [
    "# search UI\n",
    "style = {\"description_width\":\"100px\"}\n",
    "layout = ipw.Layout(width=\"592px\")\n",
    "inp_pks = ipw.Text(description='PKs', placeholder='e.g. 4062 4753 (space separated)', layout=layout, style=style)\n",
    "inp_formula = ipw.Text(description='Formulas:', placeholder='e.g. C44H16 C36H4', layout=layout, style=style)\n",
    "\n",
    "search_crit = [inp_pks, inp_formula]"
   ]
  },
  {
   "cell_type": "code",
   "execution_count": null,
   "metadata": {},
   "outputs": [],
   "source": [
    "def on_click(b):\n",
    "    with info_out:\n",
    "        clear_output()\n",
    "        search()\n",
    "\n",
    "button = ipw.Button(description=\"Search\")\n",
    "button.on_click(on_click)\n",
    "results = ipw.HTML()\n",
    "info_out = ipw.Output()\n",
    "app = ipw.VBox(children=search_crit + [button, results, info_out])\n",
    "display(app)"
   ]
  }
 ],
 "metadata": {
  "kernelspec": {
   "display_name": "Python 2",
   "language": "python",
   "name": "python2"
  },
  "language_info": {
   "codemirror_mode": {
    "name": "ipython",
    "version": 2
   },
   "file_extension": ".py",
   "mimetype": "text/x-python",
   "name": "python",
   "nbconvert_exporter": "python",
   "pygments_lexer": "ipython2",
   "version": "2.7.13"
  }
 },
 "nbformat": 4,
 "nbformat_minor": 2
}
