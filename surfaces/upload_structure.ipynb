{
 "cells": [
  {
   "cell_type": "markdown",
   "metadata": {},
   "source": [
    "# Upload Nanoribbon Structure"
   ]
  },
  {
   "cell_type": "code",
   "execution_count": null,
   "metadata": {},
   "outputs": [],
   "source": [
    "from __future__ import print_function\n",
    "\n",
    "from aiida import load_dbenv, is_dbenv_loaded\n",
    "from aiida.backends import settings\n",
    "if not is_dbenv_loaded():\n",
    "    load_dbenv(profile=settings.AIIDADB_PROFILE)\n",
    "\n",
    "from aiida.orm.querybuilder import QueryBuilder\n",
    "from aiida.orm.data.structure import StructureData\n",
    "from aiida.orm.calculation import Calculation\n",
    "\n",
    "import ase.io\n",
    "import numpy as np\n",
    "import ipywidgets as ipw\n",
    "from base64 import b64decode\n",
    "from IPython.display import display, clear_output, Image\n",
    "from fileupload import FileUploadWidget\n",
    "from tempfile import NamedTemporaryFile"
   ]
  },
  {
   "cell_type": "markdown",
   "metadata": {},
   "source": [
    "## Step 1: Upload file"
   ]
  },
  {
   "cell_type": "code",
   "execution_count": null,
   "metadata": {},
   "outputs": [],
   "source": [
    "def on_file_upload(c):\n",
    "    global atoms\n",
    "    with upload_out:\n",
    "        clear_output()\n",
    "        tmp = NamedTemporaryFile(suffix=file_upload.filename)\n",
    "        f = open(tmp.name, \"w\")\n",
    "        f.write(file_upload.data)\n",
    "        f.close()\n",
    "        traj = ase.io.read(tmp.name, index=\":\")\n",
    "        tmp.close()\n",
    "        #update_view()\n",
    "        if len(traj) > 1:\n",
    "            print(\"Error: Uploaded file contained more than one structure\")\n",
    "\n",
    "        atoms = traj[0]\n",
    "        formula = atoms.get_chemical_formula()\n",
    "        inp_descr.value = \"upload(%s)\" % formula\n",
    "\n",
    "        # search for existing structures\n",
    "        qb = QueryBuilder()\n",
    "        qb.append(StructureData)\n",
    "        qb.append(Calculation, filters={'extras.formula':formula}, ancestor_of=StructureData)\n",
    "        qb.order_by({Calculation:{'ctime':'desc'}})\n",
    "        for n in qb.iterall():\n",
    "            calc = n[0]\n",
    "            print(\"Found existing calculation: PK=%d | %s\"%(calc.pk, calc.get_extra(\"structure_description\")))\n",
    "            thumbnail = b64decode(calc.get_extra(\"thumbnail\"))\n",
    "            display(Image(data=thumbnail))\n",
    "    \n",
    "#TODO: FileUploadWidget doesn't fire event when same file is uploaded twice\n",
    "file_upload = FileUploadWidget(\"Upload Structure\")\n",
    "file_upload.observe(on_file_upload, names='data')\n",
    "upload_out = ipw.Output()\n",
    "\n",
    "display(file_upload, upload_out)"
   ]
  },
  {
   "cell_type": "markdown",
   "metadata": {},
   "source": [
    "## Step 2: Store in AiiDA Database"
   ]
  },
  {
   "cell_type": "code",
   "execution_count": null,
   "metadata": {},
   "outputs": [],
   "source": [
    "def on_click_store(b):\n",
    "    global atoms\n",
    "    with store_out:\n",
    "        clear_output()\n",
    "        #AiiDA requires structures to have cell\n",
    "        if np.all(atoms.cell == 0.0):\n",
    "            atoms.center(vacuum=0.1)\n",
    "        s = StructureData(ase=atoms)\n",
    "        s.description = inp_descr.value\n",
    "        s.store()\n",
    "        print(\"Stored in AiiDA: \"+repr(s))\n",
    "\n",
    "inp_descr = ipw.Text(placeholder=\"Description (optional)\")   \n",
    "btn_store = ipw.Button(description='Store in AiiDA')\n",
    "btn_store.on_click(on_click_store)\n",
    "store_out = ipw.Output()\n",
    "display(ipw.HBox([btn_store, inp_descr]), store_out)"
   ]
  }
 ],
 "metadata": {
  "kernelspec": {
   "display_name": "Python 2",
   "language": "python",
   "name": "python2"
  },
  "language_info": {
   "codemirror_mode": {
    "name": "ipython",
    "version": 2
   },
   "file_extension": ".py",
   "mimetype": "text/x-python",
   "name": "python",
   "nbconvert_exporter": "python",
   "pygments_lexer": "ipython2",
   "version": "2.7.13"
  }
 },
 "nbformat": 4,
 "nbformat_minor": 2
}
