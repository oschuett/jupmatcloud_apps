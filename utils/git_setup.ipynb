{
 "cells": [
  {
   "cell_type": "markdown",
   "metadata": {},
   "source": [
    "# Setup GIT access for App repository"
   ]
  },
  {
   "cell_type": "code",
   "execution_count": null,
   "metadata": {},
   "outputs": [],
   "source": [
    "import ipywidgets as ipw\n",
    "from IPython.display import clear_output"
   ]
  },
  {
   "cell_type": "markdown",
   "metadata": {},
   "source": [
    "## Step 1: Set name and email for commit message"
   ]
  },
  {
   "cell_type": "code",
   "execution_count": null,
   "metadata": {},
   "outputs": [],
   "source": [
    "name = ! git config --global user.name\n",
    "email = ! git config --global user.email\n",
    "\n",
    "def on_emailname_change(c):\n",
    "    name = name_txt.value\n",
    "    email = email_txt.value\n",
    "    ! git config --global user.name \"$name\"\n",
    "    ! git config --global user.email \"$email\"\n",
    "\n",
    "name_txt = ipw.Text(description=\"name\", value=name[0])\n",
    "name_txt.observe(on_emailname_change, names='value')\n",
    "email_txt = ipw.Text(description=\"email\", value=email[0])\n",
    "email_txt.observe(on_emailname_change, names='value')\n",
    "\n",
    "display(name_txt, email_txt)"
   ]
  },
  {
   "cell_type": "markdown",
   "metadata": {},
   "source": [
    "## Step 2: Add ssh key to git repository"
   ]
  },
  {
   "cell_type": "code",
   "execution_count": null,
   "metadata": {},
   "outputs": [],
   "source": [
    "! cat /project/.ssh/id_rsa.pub"
   ]
  },
  {
   "cell_type": "markdown",
   "metadata": {},
   "source": [
    "## Step 3: Enable git remote for push access"
   ]
  },
  {
   "cell_type": "code",
   "execution_count": null,
   "metadata": {},
   "outputs": [],
   "source": [
    "def update_status():\n",
    "    with out_box:\n",
    "        clear_output()\n",
    "        ! git -C /project/apps remote -v\n",
    "\n",
    "out_box = ipw.Output()\n",
    "display(out_box)\n",
    "update_status()"
   ]
  },
  {
   "cell_type": "code",
   "execution_count": null,
   "metadata": {},
   "outputs": [],
   "source": [
    "def on_push_clicked(b):\n",
    "    ! git -C /project/apps remote set-url origin git@github.com:oschuett/jupmatcloud_apps.git\n",
    "    update_status()\n",
    "    \n",
    "def on_readonly_clicked(b):\n",
    "    ! git -C /project/apps remote set-url origin https://github.com/oschuett/jupmatcloud_apps.git\n",
    "    update_status()\n",
    "\n",
    "btn_push = ipw.Button(description=\"Enable git push\")\n",
    "btn_push.on_click(on_push_clicked)\n",
    "btn_readonly = ipw.Button(description=\"Disable git push\")\n",
    "btn_readonly.on_click(on_readonly_clicked)\n",
    "\n",
    "display(ipw.HBox([btn_push,btn_readonly]))"
   ]
  }
 ],
 "metadata": {
  "kernelspec": {
   "display_name": "Python 2",
   "language": "python",
   "name": "python2"
  },
  "language_info": {
   "codemirror_mode": {
    "name": "ipython",
    "version": 2
   },
   "file_extension": ".py",
   "mimetype": "text/x-python",
   "name": "python",
   "nbconvert_exporter": "python",
   "pygments_lexer": "ipython2",
   "version": "2.7.13"
  }
 },
 "nbformat": 4,
 "nbformat_minor": 2
}
